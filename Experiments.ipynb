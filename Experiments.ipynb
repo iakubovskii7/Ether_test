{
 "cells": [
  {
   "cell_type": "markdown",
   "metadata": {
    "collapsed": true,
    "pycharm": {
     "name": "#%% md\n"
    }
   },
   "source": [
    "But it's so boring. Also it's not full automated way.\n",
    "\n",
    "Unfortunately, pd.read_html and requests + beautifulsoup do not allow parsing info.\n",
    "Therefore, I decided to use API.\n",
    "\n",
    "First and foremost, I registered in https://etherscan.io/ to get API key.\n",
    "\n",
    "FREE API PLAN allows doing 5 calls per second. It's appropriate number for our goals.\n",
    "\n",
    "API-Key is kept in .env file.But it's so boring. Also it's not full automated way.\n",
    "\n",
    "Unfortunately, pd.read_html and requests + beautifulsoup do not allow parsing info.\n",
    "Therefore, I decided to use API.\n",
    "\n",
    "First and foremost, I registered in https://etherscan.io/ to get API key.\n",
    "\n",
    "FREE API PLAN allows doing 5 calls per second. It's appropriate number for our goals.\n",
    "\n",
    "API-Key is kept in .env file."
   ]
  },
  {
   "cell_type": "code",
   "execution_count": 7,
   "outputs": [],
   "source": [
    "import requests\n",
    "from bs4 import BeautifulSoup\n",
    "from application.load_transaction_data import load_data\n",
    "df = load_data()\n",
    "token_transactions_df = df[df[['Value_IN(ETH)', 'Value_OUT(ETH)']].sum(axis=1) == 0]\n",
    "ether_transactions_df = df[df[['Value_IN(ETH)', 'Value_OUT(ETH)']].sum(axis=1) > 0]"
   ],
   "metadata": {
    "collapsed": false,
    "pycharm": {
     "name": "#%%\n"
    }
   }
  },
  {
   "cell_type": "code",
   "execution_count": 5,
   "outputs": [],
   "source": [
    "token_transactions_df = df[df[['Value_IN(ETH)', 'Value_OUT(ETH)']].sum(axis=1) == 0]"
   ],
   "metadata": {
    "collapsed": false,
    "pycharm": {
     "name": "#%%\n"
    }
   }
  },
  {
   "cell_type": "code",
   "execution_count": 8,
   "outputs": [
    {
     "data": {
      "text/plain": "                                                 Txhash   Blockno  \\\n2530  0x2394fdb6228d761f899156ebbc06554d0701c5952500...  14644335   \n2529  0x167c46dd943aa9ff360ff99fbf2683fc6e78c377f472...  14644327   \n2528  0xbc81557cb35bb4eda725803c320eee011b06e92a05af...  14644319   \n2527  0x2e2926cccdc525856f0aa64e70917ffbec4a02f557f1...  14644315   \n2525  0xb17a1d2d00e3354bc3f8a522780f30f3c7b89c5c57af...  14644314   \n...                                                 ...       ...   \n9     0xe426ef6d96afe8c676d644e0b008bc038478f4c89d6a...  10601646   \n8     0xdbb02f4996966d81b0935938bfa7a751b53b37d68b5e...  10601645   \n7     0xb550117ab3e407bc203ad24ae42a64a16971e833f9ee...  10601645   \n6     0x720f6a4d8999ae940cb2df3a633034ea9ca1078bef97...  10601597   \n3     0x63f876ae7c626619a740f26d135dc187f2c1dd24d42f...  10601303   \n\n                DateTime                                        From  \\\n2530 2022-04-24 00:40:23  0x99fd1378ca799ed6772fe7bcdc9b30b389518962   \n2529 2022-04-24 00:38:04  0x99fd1378ca799ed6772fe7bcdc9b30b389518962   \n2528 2022-04-24 00:37:11  0x99fd1378ca799ed6772fe7bcdc9b30b389518962   \n2527 2022-04-24 00:36:21  0x99fd1378ca799ed6772fe7bcdc9b30b389518962   \n2525 2022-04-24 00:36:05  0x99fd1378ca799ed6772fe7bcdc9b30b389518962   \n...                  ...                                         ...   \n9    2020-08-05 19:31:06  0x99fd1378ca799ed6772fe7bcdc9b30b389518962   \n8    2020-08-05 19:31:01  0x99fd1378ca799ed6772fe7bcdc9b30b389518962   \n7    2020-08-05 19:31:01  0x99fd1378ca799ed6772fe7bcdc9b30b389518962   \n6    2020-08-05 19:19:02  0x99fd1378ca799ed6772fe7bcdc9b30b389518962   \n3    2020-08-05 18:18:49  0x99fd1378ca799ed6772fe7bcdc9b30b389518962   \n\n                                              To  Value_IN(ETH)  \\\n2530  0xf403c135812408bfbe8713b5a23a04b3d48aae31            0.0   \n2529  0x2dded6da1bf5dbdf597c45fcfaa3194e53ecfeaf            0.0   \n2528  0xdef1c0ded9bec7f1a1670819833240f027b25eff            0.0   \n2527  0xf650c3d88d12db855b8bf7d11be6c55a4e07dcc9            0.0   \n2525  0xccf4429db6322d5c611ee964527d42e5d685dd6a            0.0   \n...                                          ...            ...   \n9     0xc02aaa39b223fe8d0a0e5c4f27ead9083c756cc2            0.0   \n8     0xeb4c2781e4eba804ce9a9803c67d0893436bb27d            0.0   \n7     0x2260fac5e5542a773aa44fbcfedf7c193bc2c599            0.0   \n6     0x4678f0a6958e4d2bc4f1baf7bc52e8f3564f3fe4            0.0   \n3     0x32666b64e9fd0f44916e1378efb2cfa3b3b96e80            0.0   \n\n      Value_OUT(ETH)  TxnFee(USD)  Historical $Price/Eth Status ErrCode  \\\n2530             0.0    35.279306                2922.37    NaN     NaN   \n2529             0.0    21.146652                2922.37    NaN     NaN   \n2528             0.0    37.972472                2922.37    NaN     NaN   \n2527             0.0    33.513294                2922.37    NaN     NaN   \n2525             0.0    11.859852                2922.37    NaN     NaN   \n...              ...          ...                    ...    ...     ...   \n9                0.0     4.266532                 401.12    NaN     NaN   \n8                0.0     4.544130                 401.12    NaN     NaN   \n7                0.0     4.363306                 401.12    NaN     NaN   \n6                0.0    67.162914                 401.12    NaN     NaN   \n3                0.0    12.164124                 401.12    NaN     NaN   \n\n             Method  \n2530    Deposit All  \n2529  Add_liquidity  \n2528     0x415565b0  \n2527         Borrow  \n2525           Mint  \n...             ...  \n9           Approve  \n8           Approve  \n7           Approve  \n6             Build  \n3              Mint  \n\n[6744 rows x 12 columns]",
      "text/html": "<div>\n<style scoped>\n    .dataframe tbody tr th:only-of-type {\n        vertical-align: middle;\n    }\n\n    .dataframe tbody tr th {\n        vertical-align: top;\n    }\n\n    .dataframe thead th {\n        text-align: right;\n    }\n</style>\n<table border=\"1\" class=\"dataframe\">\n  <thead>\n    <tr style=\"text-align: right;\">\n      <th></th>\n      <th>Txhash</th>\n      <th>Blockno</th>\n      <th>DateTime</th>\n      <th>From</th>\n      <th>To</th>\n      <th>Value_IN(ETH)</th>\n      <th>Value_OUT(ETH)</th>\n      <th>TxnFee(USD)</th>\n      <th>Historical $Price/Eth</th>\n      <th>Status</th>\n      <th>ErrCode</th>\n      <th>Method</th>\n    </tr>\n  </thead>\n  <tbody>\n    <tr>\n      <th>2530</th>\n      <td>0x2394fdb6228d761f899156ebbc06554d0701c5952500...</td>\n      <td>14644335</td>\n      <td>2022-04-24 00:40:23</td>\n      <td>0x99fd1378ca799ed6772fe7bcdc9b30b389518962</td>\n      <td>0xf403c135812408bfbe8713b5a23a04b3d48aae31</td>\n      <td>0.0</td>\n      <td>0.0</td>\n      <td>35.279306</td>\n      <td>2922.37</td>\n      <td>NaN</td>\n      <td>NaN</td>\n      <td>Deposit All</td>\n    </tr>\n    <tr>\n      <th>2529</th>\n      <td>0x167c46dd943aa9ff360ff99fbf2683fc6e78c377f472...</td>\n      <td>14644327</td>\n      <td>2022-04-24 00:38:04</td>\n      <td>0x99fd1378ca799ed6772fe7bcdc9b30b389518962</td>\n      <td>0x2dded6da1bf5dbdf597c45fcfaa3194e53ecfeaf</td>\n      <td>0.0</td>\n      <td>0.0</td>\n      <td>21.146652</td>\n      <td>2922.37</td>\n      <td>NaN</td>\n      <td>NaN</td>\n      <td>Add_liquidity</td>\n    </tr>\n    <tr>\n      <th>2528</th>\n      <td>0xbc81557cb35bb4eda725803c320eee011b06e92a05af...</td>\n      <td>14644319</td>\n      <td>2022-04-24 00:37:11</td>\n      <td>0x99fd1378ca799ed6772fe7bcdc9b30b389518962</td>\n      <td>0xdef1c0ded9bec7f1a1670819833240f027b25eff</td>\n      <td>0.0</td>\n      <td>0.0</td>\n      <td>37.972472</td>\n      <td>2922.37</td>\n      <td>NaN</td>\n      <td>NaN</td>\n      <td>0x415565b0</td>\n    </tr>\n    <tr>\n      <th>2527</th>\n      <td>0x2e2926cccdc525856f0aa64e70917ffbec4a02f557f1...</td>\n      <td>14644315</td>\n      <td>2022-04-24 00:36:21</td>\n      <td>0x99fd1378ca799ed6772fe7bcdc9b30b389518962</td>\n      <td>0xf650c3d88d12db855b8bf7d11be6c55a4e07dcc9</td>\n      <td>0.0</td>\n      <td>0.0</td>\n      <td>33.513294</td>\n      <td>2922.37</td>\n      <td>NaN</td>\n      <td>NaN</td>\n      <td>Borrow</td>\n    </tr>\n    <tr>\n      <th>2525</th>\n      <td>0xb17a1d2d00e3354bc3f8a522780f30f3c7b89c5c57af...</td>\n      <td>14644314</td>\n      <td>2022-04-24 00:36:05</td>\n      <td>0x99fd1378ca799ed6772fe7bcdc9b30b389518962</td>\n      <td>0xccf4429db6322d5c611ee964527d42e5d685dd6a</td>\n      <td>0.0</td>\n      <td>0.0</td>\n      <td>11.859852</td>\n      <td>2922.37</td>\n      <td>NaN</td>\n      <td>NaN</td>\n      <td>Mint</td>\n    </tr>\n    <tr>\n      <th>...</th>\n      <td>...</td>\n      <td>...</td>\n      <td>...</td>\n      <td>...</td>\n      <td>...</td>\n      <td>...</td>\n      <td>...</td>\n      <td>...</td>\n      <td>...</td>\n      <td>...</td>\n      <td>...</td>\n      <td>...</td>\n    </tr>\n    <tr>\n      <th>9</th>\n      <td>0xe426ef6d96afe8c676d644e0b008bc038478f4c89d6a...</td>\n      <td>10601646</td>\n      <td>2020-08-05 19:31:06</td>\n      <td>0x99fd1378ca799ed6772fe7bcdc9b30b389518962</td>\n      <td>0xc02aaa39b223fe8d0a0e5c4f27ead9083c756cc2</td>\n      <td>0.0</td>\n      <td>0.0</td>\n      <td>4.266532</td>\n      <td>401.12</td>\n      <td>NaN</td>\n      <td>NaN</td>\n      <td>Approve</td>\n    </tr>\n    <tr>\n      <th>8</th>\n      <td>0xdbb02f4996966d81b0935938bfa7a751b53b37d68b5e...</td>\n      <td>10601645</td>\n      <td>2020-08-05 19:31:01</td>\n      <td>0x99fd1378ca799ed6772fe7bcdc9b30b389518962</td>\n      <td>0xeb4c2781e4eba804ce9a9803c67d0893436bb27d</td>\n      <td>0.0</td>\n      <td>0.0</td>\n      <td>4.544130</td>\n      <td>401.12</td>\n      <td>NaN</td>\n      <td>NaN</td>\n      <td>Approve</td>\n    </tr>\n    <tr>\n      <th>7</th>\n      <td>0xb550117ab3e407bc203ad24ae42a64a16971e833f9ee...</td>\n      <td>10601645</td>\n      <td>2020-08-05 19:31:01</td>\n      <td>0x99fd1378ca799ed6772fe7bcdc9b30b389518962</td>\n      <td>0x2260fac5e5542a773aa44fbcfedf7c193bc2c599</td>\n      <td>0.0</td>\n      <td>0.0</td>\n      <td>4.363306</td>\n      <td>401.12</td>\n      <td>NaN</td>\n      <td>NaN</td>\n      <td>Approve</td>\n    </tr>\n    <tr>\n      <th>6</th>\n      <td>0x720f6a4d8999ae940cb2df3a633034ea9ca1078bef97...</td>\n      <td>10601597</td>\n      <td>2020-08-05 19:19:02</td>\n      <td>0x99fd1378ca799ed6772fe7bcdc9b30b389518962</td>\n      <td>0x4678f0a6958e4d2bc4f1baf7bc52e8f3564f3fe4</td>\n      <td>0.0</td>\n      <td>0.0</td>\n      <td>67.162914</td>\n      <td>401.12</td>\n      <td>NaN</td>\n      <td>NaN</td>\n      <td>Build</td>\n    </tr>\n    <tr>\n      <th>3</th>\n      <td>0x63f876ae7c626619a740f26d135dc187f2c1dd24d42f...</td>\n      <td>10601303</td>\n      <td>2020-08-05 18:18:49</td>\n      <td>0x99fd1378ca799ed6772fe7bcdc9b30b389518962</td>\n      <td>0x32666b64e9fd0f44916e1378efb2cfa3b3b96e80</td>\n      <td>0.0</td>\n      <td>0.0</td>\n      <td>12.164124</td>\n      <td>401.12</td>\n      <td>NaN</td>\n      <td>NaN</td>\n      <td>Mint</td>\n    </tr>\n  </tbody>\n</table>\n<p>6744 rows × 12 columns</p>\n</div>"
     },
     "execution_count": 8,
     "metadata": {},
     "output_type": "execute_result"
    }
   ],
   "source": [
    "token_transactions_df"
   ],
   "metadata": {
    "collapsed": false,
    "pycharm": {
     "name": "#%%\n"
    }
   }
  },
  {
   "cell_type": "code",
   "execution_count": 13,
   "outputs": [
    {
     "name": "stderr",
     "output_type": "stream",
     "text": [
      "100%|██████████| 6739/6739 [1:08:43<00:00,  1.63it/s]  \n"
     ]
    }
   ],
   "source": [
    "import pandas as pd\n",
    "import re\n",
    "from tqdm import tqdm\n",
    "\n",
    "def extract_token_info(token_url):\n",
    "    result_dict = {}\n",
    "    try:\n",
    "        result_dict['from'] =  token_url.find(\"span\", class_='hash-tag text-truncate hash-tag-custom-from tooltip-address').text\n",
    "    except Exception as e:\n",
    "        result_dict['from'] = e\n",
    "    try:\n",
    "        result_dict['to'] = token_url.find(\"span\", class_='hash-tag text-truncate hash-tag-custom-to tooltip-address').text\n",
    "    except Exception as e:\n",
    "        result_dict['to'] = e\n",
    "    try:\n",
    "        token1_amount = token_url.find(\"span\", 'data-toggle'=='tooltip').text\n",
    "        result_dict['amount'] = float(token1_amount.replace(\",\", \"_\"))\n",
    "    except Exception as e:\n",
    "        result_dict['amount'] = e\n",
    "    try:\n",
    "        # token1_usd = token_url.find(\"button\", class_='u-label u-label--value u-label--primary rounded mb-n1 ml-1').text\n",
    "        token1_usd = re.findall(r\"\\(\\$.*?\\)\", str(token_url))[0]\n",
    "        token1_usd = token1_usd.strip(\"()\").replace(\" (\", \"\").replace(\"$\", \"\")\n",
    "        result_dict['usd'] = float(token1_usd.replace(\",\", \"_\"))\n",
    "    except Exception as e:\n",
    "        result_dict['usd'] = e\n",
    "    try:\n",
    "        result_dict['token_hash'] = token_url.find(\"a\").get(\"href\").split(\"?\")[0].split(\"/\")[2]\n",
    "    except Exception as e:\n",
    "        result_dict['token_hash'] = e\n",
    "    return result_dict\n",
    "\n",
    "def extract_tokens_info(transaction_hash):\n",
    "    headers = {\"User-Agent\":\"Mozilla/5.0 (Macintosh; Intel Mac OS X 10_15_4) AppleWebKit/537.36 (KHTML, like Gecko) Chrome/83.0.4103.97 Safari/537.36\"}\n",
    "    req = requests.get(f\"https://etherscan.io/tx/{transaction_hash}\",\n",
    "                   headers=headers)\n",
    "    content = req.content\n",
    "    soup = BeautifulSoup(content)\n",
    "\n",
    "    tokens_df = []\n",
    "    bad_tokens = []\n",
    "    errors = []\n",
    "    all_tokens = soup.find_all(\"li\", class_='media align-items-baseline mb-2')\n",
    "    for index, tokens in enumerate(all_tokens):\n",
    "        try:\n",
    "            tokens_df.append(\n",
    "                pd.DataFrame.from_dict(extract_token_info(all_tokens[index]), orient='index').T\n",
    "            )\n",
    "        except Exception as e:\n",
    "            bad_tokens.append(index)\n",
    "            errors.append(e)\n",
    "    try:\n",
    "\n",
    "        tokens_df = pd.concat(tokens_df)\n",
    "    except ValueError:\n",
    "        tokens_df = pd.DataFrame(data=[transaction_hash], columns=['Txhash'])\n",
    "    tokens_df['Txhash'] = transaction_hash\n",
    "    return tokens_df\n",
    "\n",
    "all_tokens_df = []\n",
    "for tx_hash in tqdm(token_transactions_df['Txhash'].unique().tolist()):\n",
    "    all_tokens_df.append(extract_tokens_info(tx_hash))\n",
    "all_tokens_df = pd.concat(all_tokens_df)\n",
    "all_tokens_df.to_pickle(\"all_tokends_df\")"
   ],
   "metadata": {
    "collapsed": false,
    "pycharm": {
     "name": "#%%\n"
    }
   }
  },
  {
   "cell_type": "code",
   "execution_count": 25,
   "outputs": [
    {
     "data": {
      "text/plain": "Empty DataFrame\nColumns: [from, to, amount, usd, token_hash, Txhash]\nIndex: []",
      "text/html": "<div>\n<style scoped>\n    .dataframe tbody tr th:only-of-type {\n        vertical-align: middle;\n    }\n\n    .dataframe tbody tr th {\n        vertical-align: top;\n    }\n\n    .dataframe thead th {\n        text-align: right;\n    }\n</style>\n<table border=\"1\" class=\"dataframe\">\n  <thead>\n    <tr style=\"text-align: right;\">\n      <th></th>\n      <th>from</th>\n      <th>to</th>\n      <th>amount</th>\n      <th>usd</th>\n      <th>token_hash</th>\n      <th>Txhash</th>\n    </tr>\n  </thead>\n  <tbody>\n  </tbody>\n</table>\n</div>"
     },
     "execution_count": 25,
     "metadata": {},
     "output_type": "execute_result"
    }
   ],
   "source": [
    "all_tokens_df[all_tokens_df['to'] == \"\"\"AttributeError(\"'NoneType' object has no attribute 'text'\")\"\"\"]"
   ],
   "metadata": {
    "collapsed": false,
    "pycharm": {
     "name": "#%%\n"
    }
   }
  },
  {
   "cell_type": "code",
   "execution_count": 31,
   "outputs": [],
   "source": [
    "all_tokens_df['amount'] = pd.to_numeric(all_tokens_df['amount'], errors='coerce')\n",
    "all_tokens_df['usd'] = pd.to_numeric(all_tokens_df['usd'], errors='coerce')"
   ],
   "metadata": {
    "collapsed": false,
    "pycharm": {
     "name": "#%%\n"
    }
   }
  },
  {
   "cell_type": "code",
   "execution_count": 34,
   "outputs": [
    {
     "data": {
      "text/plain": "9510"
     },
     "execution_count": 34,
     "metadata": {},
     "output_type": "execute_result"
    }
   ],
   "source": [
    "all_tokens_df['usd'].isna().sum()"
   ],
   "metadata": {
    "collapsed": false,
    "pycharm": {
     "name": "#%%\n"
    }
   }
  },
  {
   "cell_type": "code",
   "execution_count": 35,
   "outputs": [
    {
     "data": {
      "text/plain": "                                          from  \\\n0   0x99fd1378ca799ed6772fe7bcdc9b30b389518962   \n0                  Convex Finance: Voter Proxy   \n0                      Null Address: 0x000…000   \n0                      Null Address: 0x000…000   \n0                      Convex Finance: Booster   \n..                                         ...   \n0                                          NaN   \n0                                          NaN   \n0                      Null Address: 0x000…000   \n0                      Null Address: 0x000…000   \n0                               Ren: RenBridge   \n\n                                            to     amount         usd  \\\n0                  Convex Finance: Voter Proxy        NaN         NaN   \n0           Curve.fi: IronBank Liquidity Gauge        NaN         NaN   \n0                  Convex Finance: Voter Proxy        NaN         NaN   \n0                      Convex Finance: Booster        NaN         NaN   \n0   0x3e03fff82f77073cc590b656d42fceb12e4910a8        NaN         NaN   \n..                                         ...        ...         ...   \n0                                          NaN        NaN         NaN   \n0                                          NaN        NaN         NaN   \n0                               Ren: RenBridge  99.899301  1162749.46   \n0                  RenVM: Darknodes Fee renBTC   0.099999     1163.91   \n0   0x99fd1378ca799ed6772fe7bcdc9b30b389518962  99.899301  1162749.46   \n\n                                    token_hash  \\\n0   0x5282a4ef67d9c33135340fb3289cc1711c13638c   \n0   0x5282a4ef67d9c33135340fb3289cc1711c13638c   \n0   0xf5194c3325202f456c95c1cf0ca36f8475c1949f   \n0   0x912ec00eaebf3820a9b0ac7a5e15f381a1c91f22   \n0   0x912ec00eaebf3820a9b0ac7a5e15f381a1c91f22   \n..                                         ...   \n0                                          NaN   \n0                                          NaN   \n0   0xeb4c2781e4eba804ce9a9803c67d0893436bb27d   \n0   0xeb4c2781e4eba804ce9a9803c67d0893436bb27d   \n0   0xeb4c2781e4eba804ce9a9803c67d0893436bb27d   \n\n                                               Txhash  \n0   0x2394fdb6228d761f899156ebbc06554d0701c5952500...  \n0   0x2394fdb6228d761f899156ebbc06554d0701c5952500...  \n0   0x2394fdb6228d761f899156ebbc06554d0701c5952500...  \n0   0x2394fdb6228d761f899156ebbc06554d0701c5952500...  \n0   0x2394fdb6228d761f899156ebbc06554d0701c5952500...  \n..                                                ...  \n0   0xb550117ab3e407bc203ad24ae42a64a16971e833f9ee...  \n0   0x720f6a4d8999ae940cb2df3a633034ea9ca1078bef97...  \n0   0x63f876ae7c626619a740f26d135dc187f2c1dd24d42f...  \n0   0x63f876ae7c626619a740f26d135dc187f2c1dd24d42f...  \n0   0x63f876ae7c626619a740f26d135dc187f2c1dd24d42f...  \n\n[18043 rows x 6 columns]",
      "text/html": "<div>\n<style scoped>\n    .dataframe tbody tr th:only-of-type {\n        vertical-align: middle;\n    }\n\n    .dataframe tbody tr th {\n        vertical-align: top;\n    }\n\n    .dataframe thead th {\n        text-align: right;\n    }\n</style>\n<table border=\"1\" class=\"dataframe\">\n  <thead>\n    <tr style=\"text-align: right;\">\n      <th></th>\n      <th>from</th>\n      <th>to</th>\n      <th>amount</th>\n      <th>usd</th>\n      <th>token_hash</th>\n      <th>Txhash</th>\n    </tr>\n  </thead>\n  <tbody>\n    <tr>\n      <th>0</th>\n      <td>0x99fd1378ca799ed6772fe7bcdc9b30b389518962</td>\n      <td>Convex Finance: Voter Proxy</td>\n      <td>NaN</td>\n      <td>NaN</td>\n      <td>0x5282a4ef67d9c33135340fb3289cc1711c13638c</td>\n      <td>0x2394fdb6228d761f899156ebbc06554d0701c5952500...</td>\n    </tr>\n    <tr>\n      <th>0</th>\n      <td>Convex Finance: Voter Proxy</td>\n      <td>Curve.fi: IronBank Liquidity Gauge</td>\n      <td>NaN</td>\n      <td>NaN</td>\n      <td>0x5282a4ef67d9c33135340fb3289cc1711c13638c</td>\n      <td>0x2394fdb6228d761f899156ebbc06554d0701c5952500...</td>\n    </tr>\n    <tr>\n      <th>0</th>\n      <td>Null Address: 0x000…000</td>\n      <td>Convex Finance: Voter Proxy</td>\n      <td>NaN</td>\n      <td>NaN</td>\n      <td>0xf5194c3325202f456c95c1cf0ca36f8475c1949f</td>\n      <td>0x2394fdb6228d761f899156ebbc06554d0701c5952500...</td>\n    </tr>\n    <tr>\n      <th>0</th>\n      <td>Null Address: 0x000…000</td>\n      <td>Convex Finance: Booster</td>\n      <td>NaN</td>\n      <td>NaN</td>\n      <td>0x912ec00eaebf3820a9b0ac7a5e15f381a1c91f22</td>\n      <td>0x2394fdb6228d761f899156ebbc06554d0701c5952500...</td>\n    </tr>\n    <tr>\n      <th>0</th>\n      <td>Convex Finance: Booster</td>\n      <td>0x3e03fff82f77073cc590b656d42fceb12e4910a8</td>\n      <td>NaN</td>\n      <td>NaN</td>\n      <td>0x912ec00eaebf3820a9b0ac7a5e15f381a1c91f22</td>\n      <td>0x2394fdb6228d761f899156ebbc06554d0701c5952500...</td>\n    </tr>\n    <tr>\n      <th>...</th>\n      <td>...</td>\n      <td>...</td>\n      <td>...</td>\n      <td>...</td>\n      <td>...</td>\n      <td>...</td>\n    </tr>\n    <tr>\n      <th>0</th>\n      <td>NaN</td>\n      <td>NaN</td>\n      <td>NaN</td>\n      <td>NaN</td>\n      <td>NaN</td>\n      <td>0xb550117ab3e407bc203ad24ae42a64a16971e833f9ee...</td>\n    </tr>\n    <tr>\n      <th>0</th>\n      <td>NaN</td>\n      <td>NaN</td>\n      <td>NaN</td>\n      <td>NaN</td>\n      <td>NaN</td>\n      <td>0x720f6a4d8999ae940cb2df3a633034ea9ca1078bef97...</td>\n    </tr>\n    <tr>\n      <th>0</th>\n      <td>Null Address: 0x000…000</td>\n      <td>Ren: RenBridge</td>\n      <td>99.899301</td>\n      <td>1162749.46</td>\n      <td>0xeb4c2781e4eba804ce9a9803c67d0893436bb27d</td>\n      <td>0x63f876ae7c626619a740f26d135dc187f2c1dd24d42f...</td>\n    </tr>\n    <tr>\n      <th>0</th>\n      <td>Null Address: 0x000…000</td>\n      <td>RenVM: Darknodes Fee renBTC</td>\n      <td>0.099999</td>\n      <td>1163.91</td>\n      <td>0xeb4c2781e4eba804ce9a9803c67d0893436bb27d</td>\n      <td>0x63f876ae7c626619a740f26d135dc187f2c1dd24d42f...</td>\n    </tr>\n    <tr>\n      <th>0</th>\n      <td>Ren: RenBridge</td>\n      <td>0x99fd1378ca799ed6772fe7bcdc9b30b389518962</td>\n      <td>99.899301</td>\n      <td>1162749.46</td>\n      <td>0xeb4c2781e4eba804ce9a9803c67d0893436bb27d</td>\n      <td>0x63f876ae7c626619a740f26d135dc187f2c1dd24d42f...</td>\n    </tr>\n  </tbody>\n</table>\n<p>18043 rows × 6 columns</p>\n</div>"
     },
     "execution_count": 35,
     "metadata": {},
     "output_type": "execute_result"
    }
   ],
   "source": [
    "all_tokens_df"
   ],
   "metadata": {
    "collapsed": false,
    "pycharm": {
     "name": "#%%\n"
    }
   }
  },
  {
   "cell_type": "code",
   "execution_count": 76,
   "outputs": [
    {
     "ename": "IndexError",
     "evalue": "list index out of range",
     "output_type": "error",
     "traceback": [
      "\u001B[0;31m---------------------------------------------------------------------------\u001B[0m",
      "\u001B[0;31mIndexError\u001B[0m                                Traceback (most recent call last)",
      "Input \u001B[0;32mIn [76]\u001B[0m, in \u001B[0;36m<cell line: 12>\u001B[0;34m()\u001B[0m\n\u001B[1;32m     10\u001B[0m soup \u001B[38;5;241m=\u001B[39m BeautifulSoup(content)\n\u001B[1;32m     11\u001B[0m all_tokens \u001B[38;5;241m=\u001B[39m soup\u001B[38;5;241m.\u001B[39mfind_all(\u001B[38;5;124m\"\u001B[39m\u001B[38;5;124mli\u001B[39m\u001B[38;5;124m\"\u001B[39m, class_\u001B[38;5;241m=\u001B[39m\u001B[38;5;124m'\u001B[39m\u001B[38;5;124mmedia align-items-baseline mb-2\u001B[39m\u001B[38;5;124m'\u001B[39m)\n\u001B[0;32m---> 12\u001B[0m token_url \u001B[38;5;241m=\u001B[39m \u001B[43mall_tokens\u001B[49m\u001B[43m[\u001B[49m\u001B[38;5;241;43m0\u001B[39;49m\u001B[43m]\u001B[49m\n\u001B[1;32m     13\u001B[0m token1_amount \u001B[38;5;241m=\u001B[39m token_url\u001B[38;5;241m.\u001B[39mfind(\u001B[38;5;124m\"\u001B[39m\u001B[38;5;124mspan\u001B[39m\u001B[38;5;124m\"\u001B[39m, \u001B[38;5;124m'\u001B[39m\u001B[38;5;124mdata-toggle\u001B[39m\u001B[38;5;124m'\u001B[39m\u001B[38;5;241m==\u001B[39m\u001B[38;5;124m'\u001B[39m\u001B[38;5;124mtooltip\u001B[39m\u001B[38;5;124m'\u001B[39m)\u001B[38;5;241m.\u001B[39mtext\n\u001B[1;32m     14\u001B[0m amount \u001B[38;5;241m=\u001B[39m \u001B[38;5;28mfloat\u001B[39m(token1_amount\u001B[38;5;241m.\u001B[39mreplace(\u001B[38;5;124m\"\u001B[39m\u001B[38;5;124m,\u001B[39m\u001B[38;5;124m\"\u001B[39m, \u001B[38;5;124m\"\u001B[39m\u001B[38;5;124m_\u001B[39m\u001B[38;5;124m\"\u001B[39m))\n",
      "\u001B[0;31mIndexError\u001B[0m: list index out of range"
     ]
    }
   ],
   "source": [
    "from fake_useragent import UserAgent\n",
    "ua = UserAgent(use_cache_server=False)\n",
    "# proxies = {\"https\": \"188.170.233.113:3128\"}\n",
    "transaction_hash = \"https://etherscan.io/tx/0x3f47026093d13668760dc35418cb4983b374e9ebdc5af2cca2d93559b83dd10f\"\n",
    "req = requests.get(f\"https://etherscan.io/tx/{transaction_hash}\",\n",
    "                   headers={\"User-Agent\":ua.random},\n",
    "                   # proxies=proxies\n",
    "                   )\n",
    "content = req.content\n",
    "soup = BeautifulSoup(content)\n",
    "all_tokens = soup.find_all(\"li\", class_='media align-items-baseline mb-2')\n",
    "token_url = all_tokens[0]\n",
    "token1_amount = token_url.find(\"span\", 'data-toggle'=='tooltip').text\n",
    "amount = float(token1_amount.replace(\",\", \"_\"))"
   ],
   "metadata": {
    "collapsed": false,
    "pycharm": {
     "name": "#%%\n"
    }
   }
  },
  {
   "cell_type": "code",
   "execution_count": 77,
   "outputs": [
    {
     "data": {
      "text/plain": "<!DOCTYPE html>\n<html lang=\"en\">\n<head><title>Etherscan Error Page</title>\n<meta content=\"width=device-width, initial-scale=1, shrink-to-fit=no\" name=\"viewport\"/>\n<meta content=\"The Ethereum BlockChain Explorer, API and Analytics Platform\" name=\"Description\"/>\n<meta content=\"etherscan.io\" name=\"author\"/>\n<meta content=\"ethereum, explorer, ether, search, blockchain, crypto, currency\" name=\"keywords\"/>\n<meta content=\"telephone=no\" name=\"format-detection\"/>\n<link href=\"/images/favicon2.ico\" rel=\"shortcut icon\"/>\n<link href=\"/assets/vendor/font-awesome/css/fontawesome-all.min.css?v=0.11.4.0\" rel=\"stylesheet\"/>\n<link href=\"/assets/css/theme.min.css?v=20.2.4.0\" rel=\"stylesheet\"/>\n<script async=\"\" src=\"/cdn-cgi/bm/cv/669835187/api.js\"></script>\n</head><body>\n<header class=\"u-header\" id=\"header\">\n<div class=\"u-header__section\">\n<div class=\"container\" id=\"logoAndNav\">\n<nav class=\"js-mega-menu navbar navbar-expand-md u-header__navbar u-header__navbar--no-space 1d-block\">\n<div>\n<a aria-label=\"Etherscan\" class=\"navbar-brand\" href=\"/\" target=\"_parent\">\n<img alt=\"Etherscan Logo\" src=\"/assets/svg/logos/logo-etherscan.svg?v=0.0.2\" width=\"160\"/>\n</a>\n</div>\n</nav>\n</div>\n</div>\n</header>\n<main class=\"bg-img-hero-center\" id=\"content\" role=\"main\" style=\"background-image: url(images/error-404.svg);\">\n<div class=\"container d-lg-flex align-items-lg-center min-height-100vh\">\n<div class=\"w-lg-60 w-xl-50\">\n<div class=\"mb-5\">\n<h1 class=\"text-secondary font-weight-normal\"><span class=\"font-weight-semi-bold mr-2\">Sorry!</span>We encountered an unexpected error.</h1>\n<p class=\"mb-0\">Please try back again shortly</p>\n</div>\n<a class=\"btn btn-primary btn-wide transition-3d-hover\" href=\"/\">Back Home</a>\n</div>\n</div>\n</main>\n<script type=\"text/javascript\">(function(){window['__CF$cv$params']={r:'7020aad48f7f9d8c',m:'YzVwfr.R8jwRcs8OOoSiKHHfRRVLZUMQhuVbzCLfK3k-1650990252-0-ATu7aM+Lrsp5/8JG4sYlySRqfeA+vQN3ROjZfosbAdWozwvrDjpchaqGZxqAjN4g/WV8boZzFvjIRaK+noFyrpRG6Hny4ndYI/OeO+H5++iV0dZVvi0UjuIzOvagKS+3Qw==',s:[0xa7af244d78,0xa38917b0f3],}})();</script></body>\n</html>"
     },
     "execution_count": 77,
     "metadata": {},
     "output_type": "execute_result"
    }
   ],
   "source": [
    "soup"
   ],
   "metadata": {
    "collapsed": false,
    "pycharm": {
     "name": "#%%\n"
    }
   }
  },
  {
   "cell_type": "code",
   "execution_count": 59,
   "outputs": [
    {
     "data": {
      "text/plain": "                                          from  \\\n0   0x99fd1378ca799ed6772fe7bcdc9b30b389518962   \n0                  Convex Finance: Voter Proxy   \n0                      Null Address: 0x000…000   \n0                      Null Address: 0x000…000   \n0                      Convex Finance: Booster   \n..                                         ...   \n0                                          NaN   \n0                                          NaN   \n0                      Null Address: 0x000…000   \n0                      Null Address: 0x000…000   \n0                               Ren: RenBridge   \n\n                                            to     amount         usd  \\\n0                  Convex Finance: Voter Proxy        NaN         NaN   \n0           Curve.fi: IronBank Liquidity Gauge        NaN         NaN   \n0                  Convex Finance: Voter Proxy        NaN         NaN   \n0                      Convex Finance: Booster        NaN         NaN   \n0   0x3e03fff82f77073cc590b656d42fceb12e4910a8        NaN         NaN   \n..                                         ...        ...         ...   \n0                                          NaN        NaN         NaN   \n0                                          NaN        NaN         NaN   \n0                               Ren: RenBridge  99.899301  1162749.46   \n0                  RenVM: Darknodes Fee renBTC   0.099999     1163.91   \n0   0x99fd1378ca799ed6772fe7bcdc9b30b389518962  99.899301  1162749.46   \n\n                                    token_hash  \\\n0   0x5282a4ef67d9c33135340fb3289cc1711c13638c   \n0   0x5282a4ef67d9c33135340fb3289cc1711c13638c   \n0   0xf5194c3325202f456c95c1cf0ca36f8475c1949f   \n0   0x912ec00eaebf3820a9b0ac7a5e15f381a1c91f22   \n0   0x912ec00eaebf3820a9b0ac7a5e15f381a1c91f22   \n..                                         ...   \n0                                          NaN   \n0                                          NaN   \n0   0xeb4c2781e4eba804ce9a9803c67d0893436bb27d   \n0   0xeb4c2781e4eba804ce9a9803c67d0893436bb27d   \n0   0xeb4c2781e4eba804ce9a9803c67d0893436bb27d   \n\n                                               Txhash  \n0   0x2394fdb6228d761f899156ebbc06554d0701c5952500...  \n0   0x2394fdb6228d761f899156ebbc06554d0701c5952500...  \n0   0x2394fdb6228d761f899156ebbc06554d0701c5952500...  \n0   0x2394fdb6228d761f899156ebbc06554d0701c5952500...  \n0   0x2394fdb6228d761f899156ebbc06554d0701c5952500...  \n..                                                ...  \n0   0xb550117ab3e407bc203ad24ae42a64a16971e833f9ee...  \n0   0x720f6a4d8999ae940cb2df3a633034ea9ca1078bef97...  \n0   0x63f876ae7c626619a740f26d135dc187f2c1dd24d42f...  \n0   0x63f876ae7c626619a740f26d135dc187f2c1dd24d42f...  \n0   0x63f876ae7c626619a740f26d135dc187f2c1dd24d42f...  \n\n[18043 rows x 6 columns]",
      "text/html": "<div>\n<style scoped>\n    .dataframe tbody tr th:only-of-type {\n        vertical-align: middle;\n    }\n\n    .dataframe tbody tr th {\n        vertical-align: top;\n    }\n\n    .dataframe thead th {\n        text-align: right;\n    }\n</style>\n<table border=\"1\" class=\"dataframe\">\n  <thead>\n    <tr style=\"text-align: right;\">\n      <th></th>\n      <th>from</th>\n      <th>to</th>\n      <th>amount</th>\n      <th>usd</th>\n      <th>token_hash</th>\n      <th>Txhash</th>\n    </tr>\n  </thead>\n  <tbody>\n    <tr>\n      <th>0</th>\n      <td>0x99fd1378ca799ed6772fe7bcdc9b30b389518962</td>\n      <td>Convex Finance: Voter Proxy</td>\n      <td>NaN</td>\n      <td>NaN</td>\n      <td>0x5282a4ef67d9c33135340fb3289cc1711c13638c</td>\n      <td>0x2394fdb6228d761f899156ebbc06554d0701c5952500...</td>\n    </tr>\n    <tr>\n      <th>0</th>\n      <td>Convex Finance: Voter Proxy</td>\n      <td>Curve.fi: IronBank Liquidity Gauge</td>\n      <td>NaN</td>\n      <td>NaN</td>\n      <td>0x5282a4ef67d9c33135340fb3289cc1711c13638c</td>\n      <td>0x2394fdb6228d761f899156ebbc06554d0701c5952500...</td>\n    </tr>\n    <tr>\n      <th>0</th>\n      <td>Null Address: 0x000…000</td>\n      <td>Convex Finance: Voter Proxy</td>\n      <td>NaN</td>\n      <td>NaN</td>\n      <td>0xf5194c3325202f456c95c1cf0ca36f8475c1949f</td>\n      <td>0x2394fdb6228d761f899156ebbc06554d0701c5952500...</td>\n    </tr>\n    <tr>\n      <th>0</th>\n      <td>Null Address: 0x000…000</td>\n      <td>Convex Finance: Booster</td>\n      <td>NaN</td>\n      <td>NaN</td>\n      <td>0x912ec00eaebf3820a9b0ac7a5e15f381a1c91f22</td>\n      <td>0x2394fdb6228d761f899156ebbc06554d0701c5952500...</td>\n    </tr>\n    <tr>\n      <th>0</th>\n      <td>Convex Finance: Booster</td>\n      <td>0x3e03fff82f77073cc590b656d42fceb12e4910a8</td>\n      <td>NaN</td>\n      <td>NaN</td>\n      <td>0x912ec00eaebf3820a9b0ac7a5e15f381a1c91f22</td>\n      <td>0x2394fdb6228d761f899156ebbc06554d0701c5952500...</td>\n    </tr>\n    <tr>\n      <th>...</th>\n      <td>...</td>\n      <td>...</td>\n      <td>...</td>\n      <td>...</td>\n      <td>...</td>\n      <td>...</td>\n    </tr>\n    <tr>\n      <th>0</th>\n      <td>NaN</td>\n      <td>NaN</td>\n      <td>NaN</td>\n      <td>NaN</td>\n      <td>NaN</td>\n      <td>0xb550117ab3e407bc203ad24ae42a64a16971e833f9ee...</td>\n    </tr>\n    <tr>\n      <th>0</th>\n      <td>NaN</td>\n      <td>NaN</td>\n      <td>NaN</td>\n      <td>NaN</td>\n      <td>NaN</td>\n      <td>0x720f6a4d8999ae940cb2df3a633034ea9ca1078bef97...</td>\n    </tr>\n    <tr>\n      <th>0</th>\n      <td>Null Address: 0x000…000</td>\n      <td>Ren: RenBridge</td>\n      <td>99.899301</td>\n      <td>1162749.46</td>\n      <td>0xeb4c2781e4eba804ce9a9803c67d0893436bb27d</td>\n      <td>0x63f876ae7c626619a740f26d135dc187f2c1dd24d42f...</td>\n    </tr>\n    <tr>\n      <th>0</th>\n      <td>Null Address: 0x000…000</td>\n      <td>RenVM: Darknodes Fee renBTC</td>\n      <td>0.099999</td>\n      <td>1163.91</td>\n      <td>0xeb4c2781e4eba804ce9a9803c67d0893436bb27d</td>\n      <td>0x63f876ae7c626619a740f26d135dc187f2c1dd24d42f...</td>\n    </tr>\n    <tr>\n      <th>0</th>\n      <td>Ren: RenBridge</td>\n      <td>0x99fd1378ca799ed6772fe7bcdc9b30b389518962</td>\n      <td>99.899301</td>\n      <td>1162749.46</td>\n      <td>0xeb4c2781e4eba804ce9a9803c67d0893436bb27d</td>\n      <td>0x63f876ae7c626619a740f26d135dc187f2c1dd24d42f...</td>\n    </tr>\n  </tbody>\n</table>\n<p>18043 rows × 6 columns</p>\n</div>"
     },
     "execution_count": 59,
     "metadata": {},
     "output_type": "execute_result"
    }
   ],
   "source": [
    "all_tokens_df"
   ],
   "metadata": {
    "collapsed": false,
    "pycharm": {
     "name": "#%%\n"
    }
   }
  },
  {
   "cell_type": "code",
   "execution_count": 74,
   "outputs": [
    {
     "data": {
      "text/plain": "'Mozilla/5.0 (Windows NT 5.1; rv:31.0) Gecko/20100101 Firefox/31.0'"
     },
     "execution_count": 74,
     "metadata": {},
     "output_type": "execute_result"
    }
   ],
   "source": [
    "ua.random"
   ],
   "metadata": {
    "collapsed": false,
    "pycharm": {
     "name": "#%%\n"
    }
   }
  },
  {
   "cell_type": "code",
   "execution_count": null,
   "outputs": [],
   "source": [],
   "metadata": {
    "collapsed": false,
    "pycharm": {
     "name": "#%%\n"
    }
   }
  }
 ],
 "metadata": {
  "kernelspec": {
   "display_name": "Python 3",
   "language": "python",
   "name": "python3"
  },
  "language_info": {
   "codemirror_mode": {
    "name": "ipython",
    "version": 2
   },
   "file_extension": ".py",
   "mimetype": "text/x-python",
   "name": "python",
   "nbconvert_exporter": "python",
   "pygments_lexer": "ipython2",
   "version": "2.7.6"
  }
 },
 "nbformat": 4,
 "nbformat_minor": 0
}