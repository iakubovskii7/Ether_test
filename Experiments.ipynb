{
 "cells": [
  {
   "cell_type": "markdown",
   "metadata": {
    "collapsed": true,
    "pycharm": {
     "name": "#%% md\n"
    }
   },
   "source": [
    "But it's so boring. Also it's not full automated way.\n",
    "\n",
    "Unfortunately, pd.read_html and requests + beautifulsoup do not allow parsing info.\n",
    "Therefore, I decided to use API.\n",
    "\n",
    "First and foremost, I registered in https://etherscan.io/ to get API key.\n",
    "\n",
    "FREE API PLAN allows doing 5 calls per second. It's appropriate number for our goals.\n",
    "\n",
    "API-Key is kept in .env file.But it's so boring. Also it's not full automated way.\n",
    "\n",
    "Unfortunately, pd.read_html and requests + beautifulsoup do not allow parsing info.\n",
    "Therefore, I decided to use API.\n",
    "\n",
    "First and foremost, I registered in https://etherscan.io/ to get API key.\n",
    "\n",
    "FREE API PLAN allows doing 5 calls per second. It's appropriate number for our goals.\n",
    "\n",
    "API-Key is kept in .env file."
   ]
  },
  {
   "cell_type": "code",
   "execution_count": 66,
   "outputs": [
    {
     "name": "stdout",
     "output_type": "stream",
     "text": [
      "The autoreload extension is already loaded. To reload it, use:\n",
      "  %reload_ext autoreload\n",
      "Modules to reload:\n",
      "all-except-skipped\n",
      "\n",
      "Modules to skip:\n",
      "\n"
     ]
    }
   ],
   "source": [
    "%load_ext autoreload\n",
    "%autoreload 2\n",
    "%aimport\n",
    "\n",
    "import requests\n",
    "from bs4 import BeautifulSoup\n",
    "from application.load_transaction_data import load_ether_data, load_token_data\n",
    "import pandas as pd\n",
    "import re\n",
    "from tqdm import tqdm\n",
    "import random\n",
    "import time\n",
    "\n",
    "transactions_df = load_ether_data()\n",
    "token_df = load_token_data()\n",
    "all_tokens_df_2 = pd.read_pickle(\"all_tokens_df_2\")"
   ],
   "metadata": {
    "collapsed": false,
    "pycharm": {
     "name": "#%%\n"
    }
   }
  },
  {
   "cell_type": "markdown",
   "source": [
    "# First parsing attempt"
   ],
   "metadata": {
    "collapsed": false,
    "pycharm": {
     "name": "#%% md\n"
    }
   }
  },
  {
   "cell_type": "code",
   "execution_count": null,
   "outputs": [
    {
     "name": "stderr",
     "output_type": "stream",
     "text": [
      " 10%|█         | 754/7527 [19:00<2:22:56,  1.27s/it]"
     ]
    }
   ],
   "source": [
    "def extract_token_info(token_url):\n",
    "    result_dict = {}\n",
    "    try:\n",
    "        result_dict['from'] =  token_url.find(\"span\", class_='hash-tag text-truncate hash-tag-custom-from tooltip-address').text\n",
    "    except Exception as e:\n",
    "        result_dict['from'] = e\n",
    "    try:\n",
    "        result_dict['to'] = token_url.find(\"span\", class_='hash-tag text-truncate hash-tag-custom-to tooltip-address').text\n",
    "    except Exception as e:\n",
    "        result_dict['to'] = e\n",
    "    try:\n",
    "        if token_url.find(\"span\", 'data-toggle'=='tooltip').text != 'Balancer Poo...':\n",
    "            result_dict['amount'] = token_url.find(\"span\", 'data-toggle'=='tooltip').text\n",
    "        else:\n",
    "            result_dict['amount'] = token_url.find_all(\"span\", class_='mr-1')[-1].text\n",
    "            result_dict['amount'] = float(result_dict['amount'].replace(\",\", \"_\"))\n",
    "\n",
    "    except AttributeError:\n",
    "        result_dict['amount'] = token_url.find_all(\"span\", class_='mr-1')[-1].text\n",
    "        result_dict['amount'] = float(result_dict['amount'].replace(\",\", \"_\"))\n",
    "    except Exception as e:\n",
    "        result_dict['amount'] = e\n",
    "    try:\n",
    "\n",
    "        if token_url.find(\"span\", 'data-toggle'=='tooltip').text != 'Balancer Poo...':\n",
    "            # token1_usd = token_url.find(\"button\", class_='u-label u-label--value u-label--primary rounded mb-n1 ml-1').text\n",
    "            token1_usd = re.findall(r\"\\(\\$.*?\\)\", str(token_url))[0]\n",
    "            token1_usd = token1_usd.strip(\"()\").replace(\" (\", \"\").replace(\"$\", \"\")\n",
    "            result_dict['usd'] = float(token1_usd.replace(\",\", \"_\"))\n",
    "        else:\n",
    "            result_dict['usd'] = 'empty'\n",
    "    except AttributeError:\n",
    "        result_dict['usd'] = 'empty'\n",
    "    except Exception as e:\n",
    "        result_dict['usd'] = e\n",
    "    try:\n",
    "        result_dict['token_hash'] = token_url.find(\"a\").get(\"href\").split(\"?\")[0].split(\"/\")[2]\n",
    "    except Exception as e:\n",
    "        result_dict['token_hash'] = e\n",
    "    return result_dict\n",
    "\n",
    "def extract_tokens_info(transaction_hash):\n",
    "    req = requests.get(f\"https://etherscan.io/tx/{transaction_hash}\",\n",
    "                   headers={\"User-Agent\": generate_user_agent()})\n",
    "    content = req.content\n",
    "    soup = BeautifulSoup(content)\n",
    "    tokens_df = []\n",
    "    bad_tokens = []\n",
    "    errors = []\n",
    "    all_tokens = soup.find_all(\"li\", class_='media align-items-baseline mb-2')\n",
    "    for index, tokens in enumerate(all_tokens):\n",
    "        try:\n",
    "            tokens_df.append(\n",
    "                pd.DataFrame.from_dict(extract_token_info(all_tokens[index]), orient='index').T\n",
    "            )\n",
    "        except Exception as e:\n",
    "            bad_tokens.append(index)\n",
    "            errors.append(e)\n",
    "    try:\n",
    "\n",
    "        tokens_df = pd.concat(tokens_df)\n",
    "    except ValueError:\n",
    "        tokens_df = pd.DataFrame(data=[transaction_hash], columns=['Txhash'])\n",
    "\n",
    "    # TRANSFER parsing\n",
    "    transfer_text_list = []\n",
    "    transfers = soup.find_all(\"li\", class_='media align-items-baseline')\n",
    "    if len(transfers) > 0:\n",
    "        for transf in transfers:\n",
    "            transfer_text_list.append(transf.text.replace(\"\\xa0\", \"\"))\n",
    "        tokens_df['TRANSFER'] = pd.Series(transfer_text_list)\n",
    "\n",
    "    tokens_df['Txhash'] = transaction_hash\n",
    "    return tokens_df\n",
    "\n",
    "all_tokens_df = []\n",
    "for tx_hash in tqdm(transactions_df['Txhash'].unique().tolist()):\n",
    "    try:\n",
    "        time.sleep(random.uniform(0, 2))\n",
    "        all_tokens_df.append(extract_tokens_info(tx_hash))\n",
    "    except Exception as e:\n",
    "        print(e)\n",
    "        print(f\"Error on {tx_hash}\")\n",
    "    pd.concat(all_tokens_df).to_pickle(\"transactions_parsed_df\")\n",
    "transactions_parsed_df = pd.read_pickle(\"transactions_parsed_df\")\n",
    "all_tokens_user_df = all_tokens_df[(all_tokens_df[\"from\"] == '0x99fd1378ca799ed6772fe7bcdc9b30b389518962') |\n",
    "                                     (all_tokens_df['to'] == '0x99fd1378ca799ed6772fe7bcdc9b30b389518962')]"
   ],
   "metadata": {
    "collapsed": false,
    "pycharm": {
     "name": "#%%\n",
     "is_executing": true
    }
   }
  },
  {
   "cell_type": "markdown",
   "source": [
    "## Parsing token hash"
   ],
   "metadata": {
    "collapsed": false,
    "pycharm": {
     "name": "#%% md\n"
    }
   }
  },
  {
   "cell_type": "code",
   "execution_count": 67,
   "outputs": [
    {
     "name": "stderr",
     "output_type": "stream",
     "text": [
      "100%|██████████| 241/241 [05:56<00:00,  1.48s/it]\n"
     ]
    }
   ],
   "source": [
    "all_token_hash = [i for i in set(all_tokens_user_df['token_hash'].unique()) if type(i) == str and len(i) == 42]\n",
    "def parsing_tokens(token_hash):\n",
    "    token_dict = {}\n",
    "    token_dict['token_hash'] = token_hash\n",
    "    req = requests.get(f\"https://etherscan.io/token/{token_hash}\",\n",
    "                   headers={\"User-Agent\": generate_user_agent()})\n",
    "    content = req.content\n",
    "    soup = BeautifulSoup(content)\n",
    "    try:\n",
    "        token_dict['token_short_name'] = soup.find(\"span\", class_='text-secondary small').text\n",
    "    except Exception as e:\n",
    "        token_dict['token_short_name'] = e\n",
    "    try:\n",
    "        token_dict['token_long_name'] = soup.find(\"a\", class_='mb-1 mb-sm-0 u-label u-label--xs u-label--info').text\n",
    "    except Exception as e:\n",
    "        token_dict['token_long_name'] = e\n",
    "    return token_dict\n",
    "\n",
    "token_names_df = []\n",
    "for token in tqdm(all_token_hash):\n",
    "    time.sleep(random.uniform(0, 2))\n",
    "    try:\n",
    "        token_names_df.append(\n",
    "                pd.DataFrame.from_dict(parsing_tokens(token), orient='index').T)\n",
    "    except Exception as e:\n",
    "        token_names_df.append(pd.DataFrame(data=[token], columns=['Txhash']))\n",
    "token_names_df = pd.concat(token_names_df)\n",
    "token_names_df.to_pickle(\"token_hash_name\")\n",
    "\n",
    "# Add token name\n",
    "all_tokens_df_2 = all_tokens_df_2.merge(token_names_df[['token_hash', 'token_short_name']], how='left', on='token_hash')"
   ],
   "metadata": {
    "collapsed": false,
    "pycharm": {
     "name": "#%%\n"
    }
   }
  },
  {
   "cell_type": "markdown",
   "source": [],
   "metadata": {
    "collapsed": false,
    "pycharm": {
     "name": "#%% md\n"
    }
   }
  },
  {
   "cell_type": "code",
   "execution_count": 162,
   "outputs": [
    {
     "data": {
      "text/plain": "'Balancer Poo...'"
     },
     "execution_count": 162,
     "metadata": {},
     "output_type": "execute_result"
    }
   ],
   "source": [
    "from user_agent import generate_user_agent, generate_navigator\n",
    "proxies = {\"https\": \"188.170.233.113:3128\"}\n",
    "transaction_hash = \"0xd31490b64ae0fb298449e377f1eda528224a76e0141b8b4f7fe35ca0faeba36e\"\n",
    "req = requests.get(f\"https://etherscan.io/tx/{transaction_hash}\",\n",
    "                   headers={\"User-Agent\": generate_user_agent()},\n",
    "                   # proxies=proxies\n",
    "                   )\n",
    "content = req.content\n",
    "soup = BeautifulSoup(content)\n",
    "all_tokens = soup.find_all(\"li\", class_='media align-items-baseline mb-2')\n",
    "token_url = all_tokens[9]\n",
    "if token_url.find(\"span\", 'data-toggle'=='tooltip').text != 'Balancer Poo...':\n",
    "    token_url.find(\"span\", 'data-toggle'=='tooltip').text\n",
    "else:\n"
   ],
   "metadata": {
    "collapsed": false,
    "pycharm": {
     "name": "#%%\n"
    }
   }
  },
  {
   "cell_type": "code",
   "execution_count": 149,
   "outputs": [
    {
     "data": {
      "text/plain": "                                               Txhash  \\\n0   0x4c3b415bb98370a9ef572567a4e13b61759763c08192...   \n0   0xdf08f1b6048a3c151737d797c5a5da5892cff66dfdfd...   \n0   0xdf08f1b6048a3c151737d797c5a5da5892cff66dfdfd...   \n0   0xdf08f1b6048a3c151737d797c5a5da5892cff66dfdfd...   \n0   0xdf08f1b6048a3c151737d797c5a5da5892cff66dfdfd...   \n..                                                ...   \n0   0x0b088056cf3e8bc57cbbb6fe35998f2e4c1d5b9966d9...   \n0   0x0b088056cf3e8bc57cbbb6fe35998f2e4c1d5b9966d9...   \n0   0x0b088056cf3e8bc57cbbb6fe35998f2e4c1d5b9966d9...   \n0   0x0b088056cf3e8bc57cbbb6fe35998f2e4c1d5b9966d9...   \n0   0x0b088056cf3e8bc57cbbb6fe35998f2e4c1d5b9966d9...   \n\n                                   from  \\\n0                                   NaN   \n0              Balancer: Exchange Proxy   \n0           Balancer: ETH/USDC 50/50 #7   \n0              Balancer: Exchange Proxy   \n0   Balancer: PEAK/USDC/ETH 30/40/30 #2   \n..                                  ...   \n0     Balancer: renBTC/WBTC/YFV 49/49/2   \n0                      DSProxy #167,870   \n0                      DSProxy #167,870   \n0                      DSProxy #167,870   \n0                      DSProxy #167,870   \n\n                                            to                amount  \\\n0                                          NaN                   NaN   \n0                  Balancer: ETH/USDC 50/50 #7  0.061769927338560187   \n0                     Balancer: Exchange Proxy             24.136325   \n0          Balancer: PEAK/USDC/ETH 30/40/30 #2  0.022846610049600941   \n0                     Balancer: Exchange Proxy               8.94618   \n..                                         ...                   ...   \n0                             DSProxy #167,870       Balancer Poo...   \n0   0x99fd1378ca799ed6772fe7bcdc9b30b389518962            0.00128606   \n0   0x99fd1378ca799ed6772fe7bcdc9b30b389518962            0.15680746   \n0   0x99fd1378ca799ed6772fe7bcdc9b30b389518962  1.907659528066759102   \n0   0x99fd1378ca799ed6772fe7bcdc9b30b389518962       Balancer Poo...   \n\n                        usd                                  token_hash  \\\n0                       NaN                                         NaN   \n0                     24.06  0xc02aaa39b223fe8d0a0e5c4f27ead9083c756cc2   \n0                     24.12  0xa0b86991c6218b36c1d19d4a2e9eb0ce3606eb48   \n0                       8.9  0xc02aaa39b223fe8d0a0e5c4f27ead9083c756cc2   \n0                      8.94  0xa0b86991c6218b36c1d19d4a2e9eb0ce3606eb48   \n..                      ...                                         ...   \n0   list index out of range  0xdc7d39628855b6013000c9af957e6cd484beda6c   \n0                     13.31  0xeb4c2781e4eba804ce9a9803c67d0893436bb27d   \n0                   1627.39  0x2260fac5e5542a773aa44fbcfedf7c193bc2c599   \n0                      2.86  0x45f24baeef268bb6d63aee5129015d69702bcdfa   \n0   list index out of range  0xdc7d39628855b6013000c9af957e6cd484beda6c   \n\n                                             TRANSFER  \n0                                                 NaN  \n0   TRANSFER 0.1 Ether From Balancer: Exchange Pro...  \n0   TRANSFER 0.1 Ether From Balancer: Exchange Pro...  \n0   TRANSFER 0.1 Ether From Balancer: Exchange Pro...  \n0   TRANSFER 0.1 Ether From Balancer: Exchange Pro...  \n..                                                ...  \n0                                                 NaN  \n0                                                 NaN  \n0                                                 NaN  \n0                                                 NaN  \n0                                                 NaN  \n\n[1534 rows x 7 columns]",
      "text/html": "<div>\n<style scoped>\n    .dataframe tbody tr th:only-of-type {\n        vertical-align: middle;\n    }\n\n    .dataframe tbody tr th {\n        vertical-align: top;\n    }\n\n    .dataframe thead th {\n        text-align: right;\n    }\n</style>\n<table border=\"1\" class=\"dataframe\">\n  <thead>\n    <tr style=\"text-align: right;\">\n      <th></th>\n      <th>Txhash</th>\n      <th>from</th>\n      <th>to</th>\n      <th>amount</th>\n      <th>usd</th>\n      <th>token_hash</th>\n      <th>TRANSFER</th>\n    </tr>\n  </thead>\n  <tbody>\n    <tr>\n      <th>0</th>\n      <td>0x4c3b415bb98370a9ef572567a4e13b61759763c08192...</td>\n      <td>NaN</td>\n      <td>NaN</td>\n      <td>NaN</td>\n      <td>NaN</td>\n      <td>NaN</td>\n      <td>NaN</td>\n    </tr>\n    <tr>\n      <th>0</th>\n      <td>0xdf08f1b6048a3c151737d797c5a5da5892cff66dfdfd...</td>\n      <td>Balancer: Exchange Proxy</td>\n      <td>Balancer: ETH/USDC 50/50 #7</td>\n      <td>0.061769927338560187</td>\n      <td>24.06</td>\n      <td>0xc02aaa39b223fe8d0a0e5c4f27ead9083c756cc2</td>\n      <td>TRANSFER 0.1 Ether From Balancer: Exchange Pro...</td>\n    </tr>\n    <tr>\n      <th>0</th>\n      <td>0xdf08f1b6048a3c151737d797c5a5da5892cff66dfdfd...</td>\n      <td>Balancer: ETH/USDC 50/50 #7</td>\n      <td>Balancer: Exchange Proxy</td>\n      <td>24.136325</td>\n      <td>24.12</td>\n      <td>0xa0b86991c6218b36c1d19d4a2e9eb0ce3606eb48</td>\n      <td>TRANSFER 0.1 Ether From Balancer: Exchange Pro...</td>\n    </tr>\n    <tr>\n      <th>0</th>\n      <td>0xdf08f1b6048a3c151737d797c5a5da5892cff66dfdfd...</td>\n      <td>Balancer: Exchange Proxy</td>\n      <td>Balancer: PEAK/USDC/ETH 30/40/30 #2</td>\n      <td>0.022846610049600941</td>\n      <td>8.9</td>\n      <td>0xc02aaa39b223fe8d0a0e5c4f27ead9083c756cc2</td>\n      <td>TRANSFER 0.1 Ether From Balancer: Exchange Pro...</td>\n    </tr>\n    <tr>\n      <th>0</th>\n      <td>0xdf08f1b6048a3c151737d797c5a5da5892cff66dfdfd...</td>\n      <td>Balancer: PEAK/USDC/ETH 30/40/30 #2</td>\n      <td>Balancer: Exchange Proxy</td>\n      <td>8.94618</td>\n      <td>8.94</td>\n      <td>0xa0b86991c6218b36c1d19d4a2e9eb0ce3606eb48</td>\n      <td>TRANSFER 0.1 Ether From Balancer: Exchange Pro...</td>\n    </tr>\n    <tr>\n      <th>...</th>\n      <td>...</td>\n      <td>...</td>\n      <td>...</td>\n      <td>...</td>\n      <td>...</td>\n      <td>...</td>\n      <td>...</td>\n    </tr>\n    <tr>\n      <th>0</th>\n      <td>0x0b088056cf3e8bc57cbbb6fe35998f2e4c1d5b9966d9...</td>\n      <td>Balancer: renBTC/WBTC/YFV 49/49/2</td>\n      <td>DSProxy #167,870</td>\n      <td>Balancer Poo...</td>\n      <td>list index out of range</td>\n      <td>0xdc7d39628855b6013000c9af957e6cd484beda6c</td>\n      <td>NaN</td>\n    </tr>\n    <tr>\n      <th>0</th>\n      <td>0x0b088056cf3e8bc57cbbb6fe35998f2e4c1d5b9966d9...</td>\n      <td>DSProxy #167,870</td>\n      <td>0x99fd1378ca799ed6772fe7bcdc9b30b389518962</td>\n      <td>0.00128606</td>\n      <td>13.31</td>\n      <td>0xeb4c2781e4eba804ce9a9803c67d0893436bb27d</td>\n      <td>NaN</td>\n    </tr>\n    <tr>\n      <th>0</th>\n      <td>0x0b088056cf3e8bc57cbbb6fe35998f2e4c1d5b9966d9...</td>\n      <td>DSProxy #167,870</td>\n      <td>0x99fd1378ca799ed6772fe7bcdc9b30b389518962</td>\n      <td>0.15680746</td>\n      <td>1627.39</td>\n      <td>0x2260fac5e5542a773aa44fbcfedf7c193bc2c599</td>\n      <td>NaN</td>\n    </tr>\n    <tr>\n      <th>0</th>\n      <td>0x0b088056cf3e8bc57cbbb6fe35998f2e4c1d5b9966d9...</td>\n      <td>DSProxy #167,870</td>\n      <td>0x99fd1378ca799ed6772fe7bcdc9b30b389518962</td>\n      <td>1.907659528066759102</td>\n      <td>2.86</td>\n      <td>0x45f24baeef268bb6d63aee5129015d69702bcdfa</td>\n      <td>NaN</td>\n    </tr>\n    <tr>\n      <th>0</th>\n      <td>0x0b088056cf3e8bc57cbbb6fe35998f2e4c1d5b9966d9...</td>\n      <td>DSProxy #167,870</td>\n      <td>0x99fd1378ca799ed6772fe7bcdc9b30b389518962</td>\n      <td>Balancer Poo...</td>\n      <td>list index out of range</td>\n      <td>0xdc7d39628855b6013000c9af957e6cd484beda6c</td>\n      <td>NaN</td>\n    </tr>\n  </tbody>\n</table>\n<p>1534 rows × 7 columns</p>\n</div>"
     },
     "execution_count": 149,
     "metadata": {},
     "output_type": "execute_result"
    }
   ],
   "source": [
    "delete = pd.read_pickle(\"transactions_parsed_df\")\n",
    "delete"
   ],
   "metadata": {
    "collapsed": false,
    "pycharm": {
     "name": "#%%\n"
    }
   }
  },
  {
   "cell_type": "code",
   "execution_count": 141,
   "outputs": [],
   "source": [
    "transfer_text_list = []\n",
    "transfers = soup.find_all(\"li\", class_='media align-items-baseline')\n",
    "if len(transfers) > 0:\n",
    "    for transf in transfers:\n",
    "        transfer_text_list.append(transfers[1].text.replace(\"\\xa0\", \"\"))"
   ],
   "metadata": {
    "collapsed": false,
    "pycharm": {
     "name": "#%%\n"
    }
   }
  },
  {
   "cell_type": "code",
   "execution_count": 142,
   "outputs": [
    {
     "data": {
      "text/plain": "['TRANSFER 6.497547074746942237 Ether From Balancer: Exchange Proxy To  0x99fd1378ca799ed6772fe7bcdc9b30b389518962',\n 'TRANSFER 6.497547074746942237 Ether From Balancer: Exchange Proxy To  0x99fd1378ca799ed6772fe7bcdc9b30b389518962']"
     },
     "execution_count": 142,
     "metadata": {},
     "output_type": "execute_result"
    }
   ],
   "source": [
    "transfer_text_list"
   ],
   "metadata": {
    "collapsed": false,
    "pycharm": {
     "name": "#%%\n"
    }
   }
  },
  {
   "cell_type": "code",
   "execution_count": 28,
   "outputs": [],
   "source": [
    "transaction_actions = soup.find_all(\"div\", class_='media-body')\n",
    "transaction_action = transaction_actions[0]\n",
    "transaction_action_name = transaction_action.find(\"span\", class_='text-secondary mr-1 d-inline-block').text\n",
    "transaction_action_title = transaction_action.find(\"span\", class_='mr-1 d-inline-block').get(\"title\")\n",
    "transaction_action_amount = transaction_action.find(\"span\", class_='mr-1 d-inline-block').text\n",
    "transaction_action_token_name = transaction_action.find(\"a\", target='_parent').text"
   ],
   "metadata": {
    "collapsed": false,
    "pycharm": {
     "name": "#%%\n"
    }
   }
  },
  {
   "cell_type": "code",
   "execution_count": 31,
   "outputs": [
    {
     "ename": "AttributeError",
     "evalue": "'NoneType' object has no attribute 'text'",
     "output_type": "error",
     "traceback": [
      "\u001B[0;31m---------------------------------------------------------------------------\u001B[0m",
      "\u001B[0;31mAttributeError\u001B[0m                            Traceback (most recent call last)",
      "Input \u001B[0;32mIn [31]\u001B[0m, in \u001B[0;36m<cell line: 4>\u001B[0;34m()\u001B[0m\n\u001B[1;32m      2\u001B[0m to_ \u001B[38;5;241m=\u001B[39m token_url\u001B[38;5;241m.\u001B[39mfind(\u001B[38;5;124m\"\u001B[39m\u001B[38;5;124mspan\u001B[39m\u001B[38;5;124m\"\u001B[39m, class_\u001B[38;5;241m=\u001B[39m\u001B[38;5;124m'\u001B[39m\u001B[38;5;124mhash-tag text-truncate hash-tag-custom-to tooltip-address\u001B[39m\u001B[38;5;124m'\u001B[39m)\u001B[38;5;241m.\u001B[39mtext\n\u001B[1;32m      3\u001B[0m token1_amount \u001B[38;5;241m=\u001B[39m token_url\u001B[38;5;241m.\u001B[39mfind(\u001B[38;5;124m\"\u001B[39m\u001B[38;5;124mspan\u001B[39m\u001B[38;5;124m\"\u001B[39m, \u001B[38;5;124m'\u001B[39m\u001B[38;5;124mdata-toggle\u001B[39m\u001B[38;5;124m'\u001B[39m\u001B[38;5;241m==\u001B[39m\u001B[38;5;124m'\u001B[39m\u001B[38;5;124mtooltip\u001B[39m\u001B[38;5;124m'\u001B[39m)\u001B[38;5;241m.\u001B[39mtext\n\u001B[0;32m----> 4\u001B[0m token1_usd \u001B[38;5;241m=\u001B[39m \u001B[43mtoken_url\u001B[49m\u001B[38;5;241;43m.\u001B[39;49m\u001B[43mfind\u001B[49m\u001B[43m(\u001B[49m\u001B[38;5;124;43m\"\u001B[39;49m\u001B[38;5;124;43mbutton\u001B[39;49m\u001B[38;5;124;43m\"\u001B[39;49m\u001B[43m,\u001B[49m\u001B[43m \u001B[49m\u001B[43mclass_\u001B[49m\u001B[38;5;241;43m=\u001B[39;49m\u001B[38;5;124;43m'\u001B[39;49m\u001B[38;5;124;43mu-label u-label--value u-label--primary rounded mb-n1 ml-1\u001B[39;49m\u001B[38;5;124;43m'\u001B[39;49m\u001B[43m)\u001B[49m\u001B[38;5;241;43m.\u001B[39;49m\u001B[43mtext\u001B[49m\n\u001B[1;32m      5\u001B[0m token1_usd \u001B[38;5;241m=\u001B[39m re\u001B[38;5;241m.\u001B[39mfindall(\u001B[38;5;124mr\u001B[39m\u001B[38;5;124m\"\u001B[39m\u001B[38;5;124m\\\u001B[39m\u001B[38;5;124m(\u001B[39m\u001B[38;5;124m\\\u001B[39m\u001B[38;5;124m$.*?\u001B[39m\u001B[38;5;124m\\\u001B[39m\u001B[38;5;124m)\u001B[39m\u001B[38;5;124m\"\u001B[39m, \u001B[38;5;28mstr\u001B[39m(token_url))[\u001B[38;5;241m0\u001B[39m]\n\u001B[1;32m      6\u001B[0m token1_usd \u001B[38;5;241m=\u001B[39m token1_usd\u001B[38;5;241m.\u001B[39mstrip(\u001B[38;5;124m\"\u001B[39m\u001B[38;5;124m()\u001B[39m\u001B[38;5;124m\"\u001B[39m)\u001B[38;5;241m.\u001B[39mreplace(\u001B[38;5;124m\"\u001B[39m\u001B[38;5;124m (\u001B[39m\u001B[38;5;124m\"\u001B[39m, \u001B[38;5;124m\"\u001B[39m\u001B[38;5;124m\"\u001B[39m)\u001B[38;5;241m.\u001B[39mreplace(\u001B[38;5;124m\"\u001B[39m\u001B[38;5;124m$\u001B[39m\u001B[38;5;124m\"\u001B[39m, \u001B[38;5;124m\"\u001B[39m\u001B[38;5;124m\"\u001B[39m)\n",
      "\u001B[0;31mAttributeError\u001B[0m: 'NoneType' object has no attribute 'text'"
     ]
    }
   ],
   "source": [],
   "metadata": {
    "collapsed": false,
    "pycharm": {
     "name": "#%%\n"
    }
   }
  }
 ],
 "metadata": {
  "kernelspec": {
   "display_name": "Python 3",
   "language": "python",
   "name": "python3"
  },
  "language_info": {
   "codemirror_mode": {
    "name": "ipython",
    "version": 2
   },
   "file_extension": ".py",
   "mimetype": "text/x-python",
   "name": "python",
   "nbconvert_exporter": "python",
   "pygments_lexer": "ipython2",
   "version": "2.7.6"
  }
 },
 "nbformat": 4,
 "nbformat_minor": 0
}