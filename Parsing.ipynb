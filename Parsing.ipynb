{
 "cells": [
  {
   "cell_type": "markdown",
   "metadata": {
    "collapsed": true,
    "pycharm": {
     "name": "#%% md\n"
    }
   },
   "source": [
    "# PARSING etherscan.io\n",
    "\n",
    "I made an attempt to parse more full information about user's transactions."
   ]
  },
  {
   "cell_type": "code",
   "execution_count": 7,
   "outputs": [
    {
     "name": "stdout",
     "output_type": "stream",
     "text": [
      "The autoreload extension is already loaded. To reload it, use:\n",
      "  %reload_ext autoreload\n",
      "Modules to reload:\n",
      "all-except-skipped\n",
      "\n",
      "Modules to skip:\n",
      "\n"
     ]
    }
   ],
   "source": [
    "%load_ext autoreload\n",
    "%autoreload 2\n",
    "%aimport\n",
    "\n",
    "import requests\n",
    "from bs4 import BeautifulSoup\n",
    "from application.load_transaction_data import load_ether_data, load_token_data\n",
    "import pandas as pd\n",
    "import re\n",
    "from tqdm import tqdm\n",
    "import random\n",
    "import time\n",
    "import warnings\n",
    "\n",
    "warnings.filterwarnings(\"ignore\")\n",
    "\n",
    "transactions_df = load_ether_data()\n",
    "token_df = load_token_data()"
   ],
   "metadata": {
    "collapsed": false,
    "pycharm": {
     "name": "#%%\n"
    }
   }
  },
  {
   "cell_type": "markdown",
   "source": [
    "# First parsing attempt"
   ],
   "metadata": {
    "collapsed": false,
    "pycharm": {
     "name": "#%% md\n"
    }
   }
  },
  {
   "cell_type": "code",
   "execution_count": 56,
   "outputs": [
    {
     "ename": "IndexError",
     "evalue": "list index out of range",
     "output_type": "error",
     "traceback": [
      "\u001B[0;31m---------------------------------------------------------------------------\u001B[0m",
      "\u001B[0;31mIndexError\u001B[0m                                Traceback (most recent call last)",
      "Input \u001B[0;32mIn [56]\u001B[0m, in \u001B[0;36m<cell line: 11>\u001B[0;34m()\u001B[0m\n\u001B[1;32m      9\u001B[0m soup \u001B[38;5;241m=\u001B[39m BeautifulSoup(content)\n\u001B[1;32m     10\u001B[0m all_tokens \u001B[38;5;241m=\u001B[39m soup\u001B[38;5;241m.\u001B[39mfind_all(\u001B[38;5;124m\"\u001B[39m\u001B[38;5;124mli\u001B[39m\u001B[38;5;124m\"\u001B[39m, class_\u001B[38;5;241m=\u001B[39m\u001B[38;5;124m'\u001B[39m\u001B[38;5;124mmedia align-items-baseline mb-2\u001B[39m\u001B[38;5;124m'\u001B[39m)\n\u001B[0;32m---> 11\u001B[0m token_url \u001B[38;5;241m=\u001B[39m \u001B[43mall_tokens\u001B[49m\u001B[43m[\u001B[49m\u001B[38;5;241;43m3\u001B[39;49m\u001B[43m]\u001B[49m\n\u001B[1;32m     12\u001B[0m extract_token_info(token_url)\n",
      "\u001B[0;31mIndexError\u001B[0m: list index out of range"
     ]
    }
   ],
   "source": [
    "# Experiments\n",
    "from user_agent import generate_user_agent\n",
    "transaction_hash = \"0x381753da98c0dd8abb5bd6aaaeba411d10ea0b708d72cb1964073ebd93bb586d\"\n",
    "req = requests.get(f\"https://etherscan.io/tx/{transaction_hash}\",\n",
    "                   headers={\"User-Agent\": generate_user_agent()},\n",
    "                   # proxies=proxies\n",
    "                   )\n",
    "content = req.content\n",
    "soup = BeautifulSoup(content)\n",
    "all_tokens = soup.find_all(\"li\", class_='media align-items-baseline mb-2')\n",
    "token_url = all_tokens[]\n",
    "extract_token_info(token_url)"
   ],
   "metadata": {
    "collapsed": false,
    "pycharm": {
     "name": "#%%\n"
    }
   }
  },
  {
   "cell_type": "code",
   "execution_count": 72,
   "outputs": [],
   "source": [
    "# Check transfers parsed\n",
    "transaction_hash = '0x381753da98c0dd8abb5bd6aaaeba411d10ea0b708d72cb1964073ebd93bb586d'\n",
    "req = requests.get(f\"https://etherscan.io/tx/{transaction_hash}\",\n",
    "               headers={\"User-Agent\": generate_user_agent()})\n",
    "content = req.content\n",
    "soup = BeautifulSoup(content)\n",
    "tokens_df = []\n",
    "bad_tokens = []\n",
    "errors = []\n",
    "all_tokens = soup.find_all(\"li\", class_='media align-items-baseline mb-2')\n",
    "for index, tokens in enumerate(all_tokens):\n",
    "    try:\n",
    "        tokens_df.append(\n",
    "            pd.DataFrame.from_dict(extract_token_info(all_tokens[index]), orient='index').T\n",
    "        )\n",
    "    except Exception as e:\n",
    "        bad_tokens.append(index)\n",
    "        errors.append(e)\n",
    "try:\n",
    "\n",
    "    tokens_df = pd.concat(tokens_df)\n",
    "except ValueError:\n",
    "    tokens_df = pd.DataFrame(data=[transaction_hash], columns=['Txhash'])\n",
    "\n",
    "# TRANSFER parsing\n",
    "transfer_text_list = []\n",
    "transfers = soup.find_all(\"li\", class_='media align-items-baseline')\n",
    "if len(transfers) > 0:\n",
    "    for transf in transfers:\n",
    "        transfer_text_list.append(transf.text.replace(\"\\xa0\", \"\"))\n",
    "    try:\n",
    "        tokens_df.at[0, 'TRANSFER'] = transfer_text_list\n",
    "    except ValueError:\n",
    "        tokens_df['TRANSFER'] = pd.Series(transfer_text_list)\n",
    "\n",
    "tokens_df['Txhash'] = transaction_hash"
   ],
   "metadata": {
    "collapsed": false,
    "pycharm": {
     "name": "#%%\n"
    }
   }
  },
  {
   "cell_type": "code",
   "execution_count": 73,
   "outputs": [
    {
     "data": {
      "text/plain": "                                         from  \\\n0  0x99fd1378ca799ed6772fe7bcdc9b30b389518962   \n0                        Uniswap V2: Router 2   \n0                     Null Address: 0x000…000   \n\n                                           to       usd        amount  \\\n0                         Uniswap V2: gKIMCHI     empty  99195.132212   \n0                         Uniswap V2: gKIMCHI  13962.57     37.082296   \n0  0x99fd1378ca799ed6772fe7bcdc9b30b389518962     empty   1906.785085   \n\n                                   token_hash  \\\n0  0x4b7dfae2567181e54776337c840e142acb42aa1f   \n0  0xc02aaa39b223fe8d0a0e5c4f27ead9083c756cc2   \n0  0xcb525da7f6e8e990ba2c31ba09e1e3078fa0ace2   \n\n                                            TRANSFER  \\\n0  TRANSFER 37.082295734421439726 Ether From Unis...   \n0  TRANSFER 37.082295734421439726 Ether From Unis...   \n0  TRANSFER 37.082295734421439726 Ether From Unis...   \n\n                                              Txhash  \n0  0x381753da98c0dd8abb5bd6aaaeba411d10ea0b708d72...  \n0  0x381753da98c0dd8abb5bd6aaaeba411d10ea0b708d72...  \n0  0x381753da98c0dd8abb5bd6aaaeba411d10ea0b708d72...  ",
      "text/html": "<div>\n<style scoped>\n    .dataframe tbody tr th:only-of-type {\n        vertical-align: middle;\n    }\n\n    .dataframe tbody tr th {\n        vertical-align: top;\n    }\n\n    .dataframe thead th {\n        text-align: right;\n    }\n</style>\n<table border=\"1\" class=\"dataframe\">\n  <thead>\n    <tr style=\"text-align: right;\">\n      <th></th>\n      <th>from</th>\n      <th>to</th>\n      <th>usd</th>\n      <th>amount</th>\n      <th>token_hash</th>\n      <th>TRANSFER</th>\n      <th>Txhash</th>\n    </tr>\n  </thead>\n  <tbody>\n    <tr>\n      <th>0</th>\n      <td>0x99fd1378ca799ed6772fe7bcdc9b30b389518962</td>\n      <td>Uniswap V2: gKIMCHI</td>\n      <td>empty</td>\n      <td>99195.132212</td>\n      <td>0x4b7dfae2567181e54776337c840e142acb42aa1f</td>\n      <td>TRANSFER 37.082295734421439726 Ether From Unis...</td>\n      <td>0x381753da98c0dd8abb5bd6aaaeba411d10ea0b708d72...</td>\n    </tr>\n    <tr>\n      <th>0</th>\n      <td>Uniswap V2: Router 2</td>\n      <td>Uniswap V2: gKIMCHI</td>\n      <td>13962.57</td>\n      <td>37.082296</td>\n      <td>0xc02aaa39b223fe8d0a0e5c4f27ead9083c756cc2</td>\n      <td>TRANSFER 37.082295734421439726 Ether From Unis...</td>\n      <td>0x381753da98c0dd8abb5bd6aaaeba411d10ea0b708d72...</td>\n    </tr>\n    <tr>\n      <th>0</th>\n      <td>Null Address: 0x000…000</td>\n      <td>0x99fd1378ca799ed6772fe7bcdc9b30b389518962</td>\n      <td>empty</td>\n      <td>1906.785085</td>\n      <td>0xcb525da7f6e8e990ba2c31ba09e1e3078fa0ace2</td>\n      <td>TRANSFER 37.082295734421439726 Ether From Unis...</td>\n      <td>0x381753da98c0dd8abb5bd6aaaeba411d10ea0b708d72...</td>\n    </tr>\n  </tbody>\n</table>\n</div>"
     },
     "execution_count": 73,
     "metadata": {},
     "output_type": "execute_result"
    }
   ],
   "source": [
    "tokens_df"
   ],
   "metadata": {
    "collapsed": false,
    "pycharm": {
     "name": "#%%\n"
    }
   }
  },
  {
   "cell_type": "code",
   "execution_count": 70,
   "outputs": [],
   "source": [
    "tokens_df['TRANSFER'] = pd.Series(transfer_text_list)"
   ],
   "metadata": {
    "collapsed": false,
    "pycharm": {
     "name": "#%%\n"
    }
   }
  },
  {
   "cell_type": "code",
   "execution_count": 71,
   "outputs": [
    {
     "data": {
      "text/plain": "                                         from  \\\n0  0x99fd1378ca799ed6772fe7bcdc9b30b389518962   \n1                        Uniswap V2: Router 2   \n2                     Null Address: 0x000…000   \n\n                                           to       usd        amount  \\\n0                         Uniswap V2: gKIMCHI     empty  99195.132212   \n1                         Uniswap V2: gKIMCHI  13962.57     37.082296   \n2  0x99fd1378ca799ed6772fe7bcdc9b30b389518962     empty   1906.785085   \n\n                                   token_hash  \\\n0  0x4b7dfae2567181e54776337c840e142acb42aa1f   \n1  0xc02aaa39b223fe8d0a0e5c4f27ead9083c756cc2   \n2  0xcb525da7f6e8e990ba2c31ba09e1e3078fa0ace2   \n\n                                            TRANSFER  \n0  TRANSFER 37.082295734421439726 Ether From Unis...  \n1  TRANSFER 0.221741158794180602 Ether From Unisw...  \n2                                                NaN  ",
      "text/html": "<div>\n<style scoped>\n    .dataframe tbody tr th:only-of-type {\n        vertical-align: middle;\n    }\n\n    .dataframe tbody tr th {\n        vertical-align: top;\n    }\n\n    .dataframe thead th {\n        text-align: right;\n    }\n</style>\n<table border=\"1\" class=\"dataframe\">\n  <thead>\n    <tr style=\"text-align: right;\">\n      <th></th>\n      <th>from</th>\n      <th>to</th>\n      <th>usd</th>\n      <th>amount</th>\n      <th>token_hash</th>\n      <th>TRANSFER</th>\n    </tr>\n  </thead>\n  <tbody>\n    <tr>\n      <th>0</th>\n      <td>0x99fd1378ca799ed6772fe7bcdc9b30b389518962</td>\n      <td>Uniswap V2: gKIMCHI</td>\n      <td>empty</td>\n      <td>99195.132212</td>\n      <td>0x4b7dfae2567181e54776337c840e142acb42aa1f</td>\n      <td>TRANSFER 37.082295734421439726 Ether From Unis...</td>\n    </tr>\n    <tr>\n      <th>1</th>\n      <td>Uniswap V2: Router 2</td>\n      <td>Uniswap V2: gKIMCHI</td>\n      <td>13962.57</td>\n      <td>37.082296</td>\n      <td>0xc02aaa39b223fe8d0a0e5c4f27ead9083c756cc2</td>\n      <td>TRANSFER 0.221741158794180602 Ether From Unisw...</td>\n    </tr>\n    <tr>\n      <th>2</th>\n      <td>Null Address: 0x000…000</td>\n      <td>0x99fd1378ca799ed6772fe7bcdc9b30b389518962</td>\n      <td>empty</td>\n      <td>1906.785085</td>\n      <td>0xcb525da7f6e8e990ba2c31ba09e1e3078fa0ace2</td>\n      <td>NaN</td>\n    </tr>\n  </tbody>\n</table>\n</div>"
     },
     "execution_count": 71,
     "metadata": {},
     "output_type": "execute_result"
    }
   ],
   "source": [
    "tokens_df"
   ],
   "metadata": {
    "collapsed": false,
    "pycharm": {
     "name": "#%%\n"
    }
   }
  },
  {
   "cell_type": "code",
   "execution_count": null,
   "outputs": [
    {
     "name": "stderr",
     "output_type": "stream",
     "text": [
      "  4%|▍         | 57/1273 [01:24<32:18,  1.59s/it]"
     ]
    }
   ],
   "source": [
    "def extract_token_info(token_url):\n",
    "    result_dict = {}\n",
    "\n",
    "    # Parse from and to\n",
    "    try:\n",
    "        result_dict['from'] =  token_url.find(\"span\", class_='hash-tag text-truncate hash-tag-custom-from tooltip-address').text\n",
    "    except Exception as e:\n",
    "        result_dict['from'] = e\n",
    "    try:\n",
    "        result_dict['to'] = token_url.find(\"span\", class_='hash-tag text-truncate hash-tag-custom-to tooltip-address').text\n",
    "    except Exception as e:\n",
    "        result_dict['to'] = e\n",
    "\n",
    "    # Parse USD value. Check, where or not does USD value exist on this page?\n",
    "    try:\n",
    "        token1_usd = re.findall(r\"\\(\\$.*?\\)\", str(token_url))[0]\n",
    "        token1_usd = token1_usd.strip(\"()\").replace(\" (\", \"\").replace(\"$\", \"\")\n",
    "        result_dict['usd'] = float(token1_usd.replace(\",\", \"_\"))\n",
    "        result_dict['amount'] = token_url.find(\"span\", 'data-toggle'=='tooltip').text\n",
    "        result_dict['amount'] = float(result_dict['amount'].replace(\",\", \"\"))\n",
    "    except (AttributeError, IndexError) as e:\n",
    "        result_dict['usd'] = 'empty'\n",
    "        result_dict['amount'] = token_url.find_all(\"span\", class_='mr-1')[-1].text\n",
    "        result_dict['amount'] = float(result_dict['amount'].replace(\",\", \"\"))\n",
    "\n",
    "    # Parse token hash in order to parse full info later\n",
    "    try:\n",
    "        result_dict['token_hash'] = token_url.find(\"a\").get(\"href\").split(\"?\")[0].split(\"/\")[2]\n",
    "    except Exception as e:\n",
    "        result_dict['token_hash'] = e\n",
    "    return result_dict\n",
    "\n",
    "def extract_tokens_info(transaction_hash):\n",
    "    req = requests.get(f\"https://etherscan.io/tx/{transaction_hash}\",\n",
    "                   headers={\"User-Agent\": generate_user_agent()})\n",
    "    content = req.content\n",
    "    soup = BeautifulSoup(content)\n",
    "    tokens_df = []\n",
    "    bad_tokens = []\n",
    "    errors = []\n",
    "    all_tokens = soup.find_all(\"li\", class_='media align-items-baseline mb-2')\n",
    "    for index, tokens in enumerate(all_tokens):\n",
    "        try:\n",
    "            tokens_df.append(\n",
    "                pd.DataFrame.from_dict(extract_token_info(all_tokens[index]), orient='index').T\n",
    "            )\n",
    "        except Exception as e:\n",
    "            bad_tokens.append(index)\n",
    "            errors.append(e)\n",
    "    try:\n",
    "\n",
    "        tokens_df = pd.concat(tokens_df)\n",
    "    except ValueError:\n",
    "        tokens_df = pd.DataFrame(data=[transaction_hash], columns=['Txhash'])\n",
    "\n",
    "    # TRANSFER parsing\n",
    "    transfer_text_list = []\n",
    "    transfers = soup.find_all(\"li\", class_='media align-items-baseline')\n",
    "    if len(transfers) > 0:\n",
    "        for transf in transfers:\n",
    "            transfer_text_list.append(transf.text.replace(\"\\xa0\", \"\"))\n",
    "            try:\n",
    "                tokens_df.at[0, 'TRANSFER'] = transfer_text_list\n",
    "            except ValueError:\n",
    "                tokens_df['TRANSFER'] = pd.Series(transfer_text_list)\n",
    "\n",
    "    tokens_df['Txhash'] = transaction_hash\n",
    "    return tokens_df\n",
    "\n",
    "all_tokens_df = []\n",
    "# for tx_hash in tqdm(transactions_df['Txhash'].unique().tolist()):\n",
    "for tx_hash in tqdm(transactions_parsed_user_df.query(\"amount_prep.isna()\")['Txhash'].unique().tolist()):\n",
    "    try:\n",
    "        time.sleep(random.uniform(0, 2))\n",
    "        all_tokens_df.append(extract_tokens_info(tx_hash))\n",
    "    except Exception as e:\n",
    "        print(e)\n",
    "        print(f\"Error on {tx_hash}\")\n",
    "    # pd.concat(all_tokens_df).to_pickle(\"transactions_parsed_df\")\n",
    "    pd.concat(all_tokens_df).to_pickle(\"transactions_parsed_df_new\")"
   ],
   "metadata": {
    "collapsed": false,
    "pycharm": {
     "name": "#%%\n",
     "is_executing": true
    }
   }
  },
  {
   "cell_type": "code",
   "execution_count": 8,
   "outputs": [],
   "source": [
    "transactions_parsed_df = pd.read_pickle(\"transactions_parsed_df\")\n",
    "transactions_parsed_user_df = transactions_parsed_df[(transactions_parsed_df[\"from\"] == '0x99fd1378ca799ed6772fe7bcdc9b30b389518962') |\n",
    "                                                        (transactions_parsed_df['to'] == '0x99fd1378ca799ed6772fe7bcdc9b30b389518962')]\n",
    "transactions_parsed_user_df['amount_prep'] = transactions_parsed_user_df['amount'].apply(lambda x: x.replace(\",\", \"\") if type(x) == str else x)\n",
    "transactions_parsed_user_df['amount_prep'] = pd.to_numeric(transactions_parsed_user_df['amount_prep'], errors='coerce')"
   ],
   "metadata": {
    "collapsed": false,
    "pycharm": {
     "name": "#%%\n"
    }
   }
  },
  {
   "cell_type": "code",
   "execution_count": 27,
   "outputs": [],
   "source": [
    "# Preprocess transfers\n",
    "transactions_parsed_user_df['transfer_amount'] = transactions_parsed_user_df['TRANSFER'].apply(lambda x: re.findall(r\"\\d\\.\\d+\", x)[0] if pd.isna(x) is False else x)\n",
    "transactions_parsed_user_df['transfer_from'] = transactions_parsed_user_df['TRANSFER'].apply(lambda x: re.findall(r\"From (.*?) To\", x)[0] if pd.isna(x) is False else x)\n",
    "transactions_parsed_user_df['transfer_to'] = transactions_parsed_user_df['TRANSFER'].apply(lambda x: x.split(\"  \")[-1] if pd.isna(x) is False else x)"
   ],
   "metadata": {
    "collapsed": false,
    "pycharm": {
     "name": "#%%\n"
    }
   }
  },
  {
   "cell_type": "code",
   "execution_count": 37,
   "outputs": [
    {
     "data": {
      "text/plain": "['0x8cd9354db0841c1b306da298173a59d28212d95ab73c380203b8c9b28aceecce',\n '0x95a97d5cf7b07bc3c662b4921aa4f3618ba3482871519fb52a692d8efdd502fe',\n '0x64d7f4dfb76f6577a83434bcfabff4de629b8886fa1040de044edddb90914616',\n '0xf06916046a01055d5ef6284b033fc416c3182b7c514f0760c066398ddba36b33',\n '0xb138b2402d25b9b4ba1f8c61f93366d2fb90949ffd239c6ba44c0072bfde006f',\n '0x2abfbbac49c6e1e29cd4260758f336b1abc0590fb5a29fc83758ff9713af99dc',\n '0xb5bbdc4447b644090e891a2dfe03dbabd44daa455a6852a19ce74fc072ae3aee',\n '0x4617ec3b7d20f544aa7f6735554ac586981ffc3154605d18630abbf2c35d4f2d',\n '0x40bbf262d1b57ffc0676e6905d66f01d093089e725cc0a45495519f0d7a5e6d9',\n '0x732aa7aaf106df8d6da1c733c5ad3a84564f86e9de4ed5a08033061a3d3b60a8',\n '0xc777cb6fb387a7620b982fa4cafa57a93d5abd0461da919dc775606b6a5a87fc',\n '0xcdc7d7a1afdfef0584e161ff5b10019800c40c3f3a38425ebafadecabdbfa2b9',\n '0x6b0b076a5ddf8cb389f26201ba3ad401c3321bf11d1b111a40eb8904ae680193',\n '0x068830c1aa6744090b61953df8dd40615981d36e0db6968d094a7948fc7a28ec',\n '0x8987345b82b86641b94c399643cdf63b2894e85c6e270f9eee5ac46ac2daf2c0',\n '0xe749eb1e7ac0da14e1a4377ef026fd93c037f0076a33f60b03d8389c8a83ea1e',\n '0xa6ecfdfb09101d1b4415bd83b68f965bfa368848784a999369f7cff189f6d277',\n '0xb1b2b0e8e9911f8db4e357e7a8c449be14025d09e82a5057872a25c6e889e272',\n '0xf68723bc6ae37fe52a5b29e8a87a3b621f1a79086d2d68afb889240ed57359d6',\n '0x582276f61b0bad98a3da8280c27da170dbefdff0de37b2713e35a8efcff2f1ee',\n '0x3c8cd7d780e9b5d57292b543f49c6715995a5b2d07758b2a3830a35ad1f6e50d',\n '0xd64a4a934a5ee806171d0ba818e579964137409cfa5dd90302044f00904421f6',\n '0x84875dd21637e4c120aa2c5a685c19a7991805e1c75684d1fc627e11f081a264',\n '0xf84edf52ad7243ddc8ecd0aa41a8abdcb39b9224a790afc92889bd6d637738fb',\n '0x381753da98c0dd8abb5bd6aaaeba411d10ea0b708d72cb1964073ebd93bb586d',\n '0x55d632e5d4cd29e0d12dc4b4ef463069e22f640e58fcd5e922b7759efeea49f1',\n '0xf68f4b79c7a8b3aaa8675c4175391065e3e55a306d91dfdb585394085f62e0a2',\n '0x77142eda595c32d8698a28396b1741c0e1c5d7a70cb9526345de0ba3d7690377',\n '0x8b26b87eff68e6fe8fb4a8f42ba37951c88897b4472ca748843dccd12ad9615e',\n '0x58ae7f90056b4546dc12fe3b9a36ce22889cfa9a2d4ada68883e300c0aa066c9',\n '0x398600d648ed3d0e6d30f085ff37499f14893435bc6b333588ab4119105b62c5',\n '0xb4b0f19ee3a7fae9f2ba9e8c1d2372f395aa56d6a7794f8a950cb24765add716',\n '0x8cf918b42e7738093d697d8ba097f0a76c17ea0fc7da29b33aabc60053fff7a5',\n '0x3e8826644d079e757704530c261162d7d1bbf67e2cae8a1772f8f6393178d2ff',\n '0x970673a1d8e36906e8899e520fa6814773d274c507d82ef4a13fffe7f4b8cde3',\n '0x993cb1de18d5de124c45139e480d9f5216214c21f1d7da5ff798b7e04a9b432a',\n '0xd765b57143e7e77c6511615fe366ab07710a8d97509ecaa2d83555b9c37751b8',\n '0xa11aa7d55b56f2edb08c3c611ed303b9e3cdbb4508312c356df2b4a6c550856e',\n '0x7524ac0674d852955abcda2e0549f01e87fd053af4b1562e23c58d3bff3b1d26',\n '0xd8d1f87df912e5eaede03284f820433f73571921dd7246a78c830e76a1f746eb',\n '0xd437a2941c20d2292dfc31edcf5e45f22867ae271e17cbaaa87c1f59465f1ab2',\n '0xe2c1af1d10aa0a08935d4ac828bbcbe1eec09bb143899f74df5e77577baba003',\n '0xa08ac5677d74df7770c81202d5248220f4d525943ed4502163ce398b42a99736',\n '0x2d52a373f4b5823fbfa34e3a0eab640724f9eff7fa74b88f4e2e2a5d93e9a480',\n '0x2f81971f780bd6031b3a641a02c0c3c66681d6ed4929664bc3db5e695ef7d1c5',\n '0x01715b750510f9566055eccabe3b079774a68e92ebb903c270fb2996b00bc0dd',\n '0x1814c5738a441bbec2be0817ee47ad5ad381f8ce5685c802bbc36f4df74fcf17',\n '0xb0e37ea7d64f999fe125cca498e3b60d1cedd751c6073142e6a8071cd3017ae8',\n '0xa9abe0868a7f6893efc9120d43954aac4efa87a534b54160895451b3a731aa8b',\n '0x6d7ff6866fd36e72e313c0a296e66ebb9d870d16ceeb75ddf6f5b70bfc55444c',\n '0x58e19b40ba8d5357d6a5f10983b27b2bbfb01d8f1df8ad6971152b163ea320cc',\n '0xd1cfd2388bc34c4d0de8175588c37487979d27125e5745cf728f9f8e6ef11d7a',\n '0x5db2d5bf54f8441e7f2cfe5bf1983adc54c7e34e4677aa3db099cc648f37c520',\n '0x55a67eee9940cdad6f13f2e4f1568348756681c550a73ed6ef9556779642a5df',\n '0xaa8040fa74245e1c1e1cd8912c582ddec2198d6ede44123fde5a4f53606614f0',\n '0x17ad689697aa853f1eeb3b33545012df2e91723da2870b0f093d9ae6b3d4ff9e',\n '0x2f0088f072510f7245876108b6d1054debb4b6386b6ebeccfd049a89a342d6cc',\n '0x8dce62759e1db8d3be0fa030d71501a4411a0daf3db4675fdc163d4d736fa80f',\n '0x2f189de3c717839ab3f6a0adcbd9dfcc6de76335d4fe818c7a36d4d1c288fdc7',\n '0x0619d98a054be79a2ba1f662c42d57056308d2743afbb3d4ee998e7f7142fc2e',\n '0xaa0b2f142a518d49687e6ad33d12f95755aa16ece2b6f43cf05af6019e33c7d6',\n '0xad4bf0cf52333c2a5dbabf0735fe4bbc12db4c6f70a80a4c3e9abfffb0c0107d',\n '0x0a28fca64b4e67852f82476ca8188f1aacee790c08a8a61d451f49b9e89d50ce',\n '0x4677d691a05693e0717222bbc23356cace98f30b6a56f7e7c84c950ef1e0f7c4',\n '0x8aa902aa01faaaea6d81f692aa865ade675b31068176aa19541b637aaafd95e1',\n '0xe93575846389cc36bce2e3ca44237e5e587412d7c22b5f241b9d4d5e0724bff7',\n '0x4ab8a0a2ce7510ac315eb40205cf188112cd450268c082254cd399a3ab445e44',\n '0xfe784933a56ebc4ecc5f70923b7e7691e9af0f78238db08eb35e28eaa573f0ae',\n '0xc92590b23bc8ccc541c28aeeb8bf62833809aaeb96df8815327357936babf0e8',\n '0xb131ee66d65375e8842c17d4093377b50954cb9365cac7b9809f0d859e884f2b',\n '0x1260ad7efb484be9ec0516d9ba3f3be936d7420b00b2406ed5e3b80cc8205ea3',\n '0x3559393795e25f343649a5026a8923bca68b40bfaa18dfcdb692bcb51666cff4',\n '0x91ec1141ea8334599d54d4d51f7657e61c11f21a11455d67f858b76f80972fe0',\n '0x71af4fc5ff2804fa04c2b0db77733e03f388cb7b0c4e2032d2b310db770cf5c4',\n '0xc3e955f283d21bc52cfafa383643d41d7b07a8cff1008e40446d769153350652',\n '0x0b07f97e569604883b18346a79ab1b38f58ee564ea9677bbad7bad5dd1fe6146',\n '0xcd6081ffdf8ee36e40b6effdfc55d5485873f4a10a8f7807dee00accbf0963da',\n '0xaecd88e5836427d307c6a2f2356af3d7d7ae8138e5f7698af01acfba3a583baa',\n '0xa08ba9ea8142e8cae571cab2ba6279832e2f1d02ad05993b1931249b12fa588a',\n '0xbc340844f3c1143d8f516749a2f09e3da7d422f30f94dcbd1b44e0bc3475f29a',\n '0x15cfcde2d775e79ce9218b7ede7f52bb868d25c89b9ca0e254b3cc572ed3daae',\n '0x443e8fec5df964faf9358a1d34ef4ef851602e816624f0d15aa4a190b88cd3ee',\n '0x2eda627e19d6dce24b5b1fc4ad3b1d2b37408d4741030d57db21852af558f1a8',\n '0x4df29f6624cc0a543a0c5d5c05cbc55486e2d47cdc77a5c7d34c44fafaaa4df3',\n '0xbb5be6802b938e5d1e227dfe4e3ab0a804c85552a49a31c423cf37218c0f9d5c',\n '0xcde82833502b03eef34bbcf0fb8ee9b650f5fb9bca976ad407434ffa989749ce',\n '0x84098e0f6bbbdae547c54d431445169ea46f502f8f2824dc54d6b480b641f9fe',\n '0xf65140a39ca770db891e4e075339b74d7077b1ed5f573e8dc9d80a1973669684',\n '0xdd5d4963d9e3866a0075dacfbc303ff030252817537b2291b3c1e94185b0fed6',\n '0x11b0846cc518d2b16ca4ed7be8455b7e32785c6b9052a7302b2e5e0197ece9a9',\n '0xf8cc5466f7824190ba6f940fc8b832e90dece757901497ba4099b0198f954e89',\n '0x6b540a29b17e15b40165b2b6bc2780ee62917b9c92b9a9ee8dcb1b66572e2a24',\n '0xc1954e4bf239b325afe4687aa17769897710646dc31c006448f29d2bd88b8e84',\n '0xe86fc352e07480e47f3e0c6ed518683fb3fa9d735ba6037458fba3a476f0bd72',\n '0x080b22018bc1a2d8d8699cb00b0ffa7ac56ceeb983e776d7a8d800633c19cb5f',\n '0xc42d6cf74b7571bad7563c102cc51953a16351287558a750ce9c6c20ac49ea8d',\n '0xa26a8b825170242c5d9937758274c96e7b0493e02adc45dbad2bfead27a33457',\n '0x5c5fb15512c4813d5ab9f7575059c51d25aa2f7e43d8d8ad26fe1aa01984143e',\n '0x34b6b4f9d4fc82ea2d7c932e2510a7e5520449d6414e5863db617d178554be42',\n '0x99615b9953a66c9c26e167bcd538f96bbffe394f68c8dc498702bdc462bb6006',\n '0x0d5c7384e94cd73959d16905823923f8ecc5e366b3450d355d260f502b67375e',\n '0x7a16a08c58bccd1d475eb6f4a3ef47365c838ce2acc983f6f6dcfff9a2e5d0b7',\n '0x37ba99a79f2ce8ea005f851f1b09ec4a8854f66d36c173d27e4da69824316034',\n '0x29c63c41cb1c6fd5bb2fbe728a7429d035dfd6d567bc16b1b22a2365d2f7c7f7',\n '0x1ace0edd52d8ac76ee8108101e7357ef70f7b402ddc3a4f37680d291c88069f3',\n '0x188b8caa9d9b45f72e4ca8b9a76ee975cb56799e5d8877abd4ac85d4437bae4a',\n '0xed82cef5355561c27badca6d52a4a3da96540ea623f2a5b0cd137ce9647d78c2',\n '0x3e17bfca6a7a000f9f20fbc316ac47d108714fc1449e58a8d82437744504a9d6',\n '0x02cdc8410a772898eb81fa39492b239976d372a2b6d90ad248aba10cc2069fe1',\n '0xe341f0f4443df8cafec78911693f249a8399b80a802e0915b08530d52e86ad54',\n '0x2b078f6fd1b96dc4cc1638ccd4b6bb099fbaedb10be12164c64871d477e1a75a',\n '0xe910e01b4c538856945e6775b87d4648b0ae128d5448195477ef3d090740d292',\n '0x67de290a4ee5e79b583be568fb69668de224da895fc99fa528b3ea77aa4ba505',\n '0x42f6df759bc816af4c9775c48500a61667921930ff6c83a0c62ba9fbd68602c9',\n '0xe2bb9ffea8f0b3ae02969702404cee6c1ddadd1c4dd8ab59617022b3b0602f90',\n '0xe86bff2c66744af0b8824db603caf14543cc1da8e32de0c7c67e7a40aa08dc89',\n '0xe487278fdfd51c713bc3f42f3e7c3eaa2b2184cae379f91c12798736930ab2b5',\n '0xecdad57ebc0c54f5486057628db8afc0922676e21a3e595cfefaf48b1571356c',\n '0x8f5348c9b5adf425ea732a8bd93c4bc60fcd688739ea826fb4bba44c09e57ff2',\n '0xfa6fd80ea1573697b679889500f37019c3bc989dc7118370c1a2c5ab3a289704',\n '0x9ba47868bf98f3be6da08b3275899c3bd15ac7590181fa45ea50d0a2c1f74011',\n '0xd36389a14cc071a36718d2dc07da15516df760439639fdec78bc3182d1460360',\n '0x965df7019f5ecb6de37e62584b0d8df0bf1703b002c6129cbc4622f4e91f9473',\n '0x63df3c1e906fa0deecda765712224a95846f09c664f8481b02dd677a6eeaed5a',\n '0x30769f14dfecf83074449a2545f4179f1272efa02e8f15be0e100aa6f0ce29d1',\n '0x412a9955e5e19bd08e608b67cd53436581dbf634048cc083d47fd94f5f77f51b',\n '0x49d642efdeb5f03bc0ad61d0832e6b48bac8a8008b186a05995a6f2dcf7d5cc1',\n '0x183bd6690065736f784f90ddc4d583c9de6a276632cca5ee0485bb485dab6efd',\n '0xe86a92839ee30326be2d9f6495bce3048e005608ba566427a55443b994d99c56',\n '0x0cffa1565752388ab15e6f9606167c0fa9e69960b43ea3d01fa945d0f3720901',\n '0xdae866eda053b15848e25d92211fcf71eb77d9f1fba264c0366085a1361eb289',\n '0x5a942087581f6acee111cb33bfd4631bfec74fbfe26feab40b41bfe2ef8e442b',\n '0x83bec768db178e578b988c6bccc6d8af5a04aced891776af89fca3736a2ae236',\n '0x118b47b049f425e6d73fd92ec9ac58f0d830a8d49249c0424946dc97f35aae2b',\n '0x03a7a70f946199f61a8b03948a7dda0c9e9bb937eb8aa2c3d1edd3d12214fcb8',\n '0x845ece00d6e80fbaac7cbeeba736f83f9dcb774bcbd4318334ca29484cbe6122',\n '0x86eac8c90fcdfdc8fba11acf6666f0e0922e0fbace7956c2782d6b79da4a1c7c',\n '0x85ba61433a45250f0be6dc0cbcdde98ef04a4c942b09e6a28679e5e93d86c5e9',\n '0xa2c2c04fea30dcd024f06c92f0c4e64ca75ee486fb4bdf943cf241d2298148e3',\n '0xb4337a42b868fd35f4479ea1f3bab5d39b4a1b9053ff1201e1dc7b93358c1832',\n '0x45fd2b25f0a5b4207533925b872947d33c875e6d4e20479729912265d8e276f4',\n '0x4ecf36d8093b393120a439aa1fa6ef70b77c44578beee0cd2833de916e6d3878',\n '0xe1e6c143d3a6e3bf110fd5cb976b924c7393a7b122b346f3cdda7e97a1a31fb3',\n '0x0624ac734e8efc139a8e2daf41df4a785ff87b83834ea2986dac080361eb7b7e',\n '0x40646a1a8802f68715acfd0dfe0c9c0cb0b30967c6447ecef987d86574e37490',\n '0x88f8354b5e49015fbffc1437387d3cb10a41cc4796fe14474076afa5bbdae701',\n '0x767da02c4d7a6a283de8250222aaa8bd4b024fc5ee09a0571bf1324291c23bae',\n '0x5d1108b632713c2dde61c6ce97645cac50fdbee40037d5834a304cb44d211690',\n '0x80dc305111ff2015e9273c6bb1a9c9cfc5545595d713c8114541105bf3b7dff1',\n '0xe9055d58a02db96f88ea1247300ce07af4be486d1ed6f5b173f5ef291907e71f',\n '0xd5059e9112862b86be586c27cdfd8f6103deb39658a7183da70289d3e6e81769',\n '0xd4c54d013bbfc26f54d89e6b669373f1d7c02bf86ce98a55a96145f7d319b4a2',\n '0xe274521a1ad6ede5077b66554e2b6f8cdb2dc13c24acb95c5c401b9d8554e00c',\n '0x7b28ed28eaf07a4ffa5f66c9760aa9ee68cd58ba3941665855995e11205419f7',\n '0x220ee8006c5394e274f8f5765610a873c21458cb24c592ad97d783313e67c807',\n '0x10943a1f420ec9c7bd8bbf0f940a7b46bfa3d852f1a9feab3f09a9eb324c5fbc',\n '0xf798e5cb81682c61c6d9d3139413b6411d690d20ac6f260725e0cbf0631a7e58',\n '0xcc300b212c331b649daec16ee68910f1eb9b34fa644304cb55c2c92ae27ea882',\n '0x02644c65ddeede077a4364860a984accb1fa657bc2584944e7d0649f8e423bce',\n '0x8baec7143d86cd30dadf6694beb09b1de0e2a31015dc4a008e44056b67244fa7',\n '0xde30868e9f91ffdf3c25d12241a56b2c18f52b768cafd5e91e47708b68f790df',\n '0x36ba9d988a0cb1e93c55b8b73ff2887c3ae9102c441e32230ab096be55b371dc',\n '0x824c1f1e28d907de7edb0d430b896d341850c131c0d48d5c1d97a3f840c102aa',\n '0xa3e8223479ad1b38d5bb7485dcea8e5a1cdfe90ca033f675f33c02b601d475bd',\n '0xbdaa26305525f9bbf32e65f67beb0a9abc6c64df6bdd3cf64a856e25e58902d8',\n '0x6907ff9889acd22d3cbd217c7c6b6cda3d74929f3041ed5d4271a4e28bf63c84',\n '0x7537929090b22a6c7bb59b4e60f304d151dd552239c45239cf95285d3c7c7f83',\n '0xf65f837df741c96b00a733b2196421d170b4206e75e064b097f7999bda574614',\n '0x6f96156b1903594cf7e1bd920f670fe4c0df1d9ed13ff3b4c0c0087acfe8cf60',\n '0x2575083a1743976a250273fa8d2ee327eac8f06a7e1c68552a380d136bd25241',\n '0x9aeac23a2dba1a941d310071873d7ecdd62aaa65a853a14d2f587063ce4b3418',\n '0xc3c4cecc752a626da8b9572a156a1757f311a7add52192502cfb62ccb06e0470',\n '0xf85bd8f47f4a3edf046ea8f18ed32bee2d2c79c1c3ee6626ee561026494c77ce',\n '0x6efe8773015cd09bba9483042c545380f73b2819565daf3b638c2c44244785ce',\n '0xf2e0f2f669895f3d51e43f7a87451d0ba1bfb760e38a32b2491832ad0a42f56a',\n '0xa96145194e531a751eeb8dfa32db6f6fd0883c2ef74521ee49d086e1e4e02f49',\n '0x60750294e8af6303d68e25836cc4f066a47384e5f7d7126045d095647c5677ac',\n '0xb1a76b364ab345f782a29ab81884e2c471e74401d7aeab011c57ce0e62d4e794',\n '0xe1afc38a233357b2d52f52aee55702fd69fc1a4201d2b7c7947cffa3a4947bb0',\n '0xe6d08d179eaab9261717a16e478859bc2b5744afa5cc05594ed95f9fcaf3b017',\n '0x67e6d99aa290ea7712f77b3729d720d7a4c73590f3697e36adad01b26a5f81bb',\n '0xce12c55343a64ce868cc88632f7461144488d9740162a10f8df69d5fce34d822',\n '0x063ac1e1bd994b6843b27ed0e832a42797ef518b93e0e8908cdf2f5e409529c2',\n '0xa48d276f2fc9c8b76f4731db3230e747053500b7b5250df937c172d713b6387e',\n '0x481aa3d1929ed5c40a84c352484efad30ca2c22a5c31992ad22d97e1dd357d1f',\n '0x6b4af31efa9f982fe9aa413ffdf05b322395dfc55a240d134f4e61a31f8285b4',\n '0x710ad4011e1c2b286ecb230822754b8ae7a00e813185ea5922609e74a98af86b',\n '0xda24af9ceb714f5b7dc0ef0698e4366b59f66bba84f96d94e9111dcdebfa0bf4',\n '0x9506f8782d5929818ca68fe4fcb33bc661c068c1144f9d79c2ea2b7304bae268',\n '0x1db77dbc20498cf1fdb8e4fe6d139c76df76b9f110c1a7af9b32fde55d252a70',\n '0x6ddbbdcd5a964cbc778ae20e219baf19e05da8ed5881409ef1ce1d3ff5998ed0',\n '0x4073dbb028afa7d318a601315cf55de89b3bc457bd16fce7f0de73f3ff9a505c',\n '0x5ffb7cf3eabd9440972e22ffbeb1032af9e115effa139562f698fa34e8342fc2',\n '0x99e42ac121bd860bdd14d853ce93fd26714108d3936045a906a3ef37c1de88a9',\n '0x24634a5dc94439e7acbec7f703eb84bc3012c775e89cda61a67863c7aa99a3ed',\n '0xef4b29ee0abe24b8ae6c89f9e47abeb31c0d7608d6049de801ad1847606fa18a',\n '0x1204f1ce5c5ac827f06198dec05cd4e279c7fd8b18e631359425eb4861582c18',\n '0x68a3a14e730fcae1b05d01ce44d2ea862b5f027a4df323776a0e98ee31fbd771',\n '0x8beade23e1ced58d91bd9825e1ffc122f8b4b43e1cfba17974395fa626eccaf0',\n '0xa0521627643f4caa3769380d2a126730cd3f13f00e48420a3485d6d0a05aa1f3',\n '0x3b31dde4772151234c33a0097c5ee9cb697fa81720477fdf4418a90994d5445d',\n '0x1df0ce7d6db2e03eda8ad8cfe6479d331dca0abd8e8ff2ef540bd6c1ff17b3e2',\n '0xf4135f6f3fe128efd166c2ff51b0d1737ea54ec74e7ac725384348bd58f6b3d6',\n '0xdea39c7fdc1518f49362a43af39c3ee954ac47accd05a476b389d48185260c45',\n '0xdf76eadde817e625d673f8b715cdcbaf1c5c574c7d2ef42f20003360258be9e7',\n '0x407be352fcc01a63f02d164d613c8086b2008977d31050465f1623c9abb9a339',\n '0xa919e5fb5b5e9ea63466fc642e8bdf3752f9ac2fc2f5dd7e9b47c37be5e70e23',\n '0x17cbff7e9a5680e38b3f61f7298de3eb4dbfdf0c52b997c3e4ced31430a8997b',\n '0x4fb885f3bde91642890f2875dae02a092ef1e95701b3b2e5ac21ede1933bc4f8',\n '0xf139a2384bf8fad31ab7f9bcff54814814562ff41c085263c9759b58ff4c62e0',\n '0x84db5819389dda8836ca748fbb0109c1ec29d86619d56d1e6b652b76b9e114e3',\n '0x12fb42c4739042268bd915e72c4a46376868e2d5400c43c97f6905ab5cbdbcf2',\n '0xbc63b164c820bf831e0252efc65f833c716b57ffb980b3543fa3de70cd1f5554',\n '0x1e5480a495b77f1337fb0311b29bd32d35974ff0473d3b47eb90db44a7760ae6',\n '0xdc3106660b30f1b7d34fa27643da12fe559939494c7b59cb0905eb3272fc8e06',\n '0xe805ffc0492254221d427d432b7a88eaa24afb1391d5a5790918c3d84d611246',\n '0x8b3a2349999a5a8a6145986a0d4e452e183fa4fc59f02f19323e890cf841c71d',\n '0x3aafc4f03d2c835173ab91f79baac6c28fb9be8c428346c99c03df031ad02a00',\n '0xc7538060f1152fcc20375205e8f48fbbb17bd91581e4b23870890c844d3e1105',\n '0x4a5d51b1dccba206b6c6dbfb8d11fc4eb751fa24289845b8d0871912eadd7685',\n '0x4903da7a696b794f1e7537f5792dcdb55d53ab9e5c61b09761c6b16f44c0ceab',\n '0xcafcdac871472318045d5cec084f01afece03d5a2a6c0d4b5d8662568db0500d',\n '0x7b32faf01b9f1e684d7bad36edcad1c14f8e06ea9b6acd54fd3a161cee83d7a5',\n '0xf1310e49dd56b4f0905581c816d7927dadeddbd2f867f116756d0484eeb7b45c',\n '0x5d67fd5173ec401922dc99403d25a6bf209a7591f7aad3f2aaec815cb4ae4acb',\n '0x30088c076d110b5186c8211bd81a78bb87bdef6ea6b1c225970c9049b0ba5f38',\n '0x663fdf0678b48a961cd44d6bff8234d9ebb2ad46e331519c29c57b9d1047eaae',\n '0x72c6f13fa64179349ad9ff5edb7575cecb229125e796283b1c5e9d1e97fcacec',\n '0xe1b2cd43e5b7643046f4377bf0ba3766a30f3630915d9f1121fc0ccf082f5e46',\n '0xc551ca4738f50c71d546a50d4c1e7faed3a833b03bafd2a1225bd598a28e3cf3',\n '0x702595af9577f35cfc744ec71c27c5a7759c9fe8352694a659476326cb6f59f2',\n '0xb02b89d49f30f8bd0878f448282ffc905ac57065c7026fa782a87cea29474087',\n '0x3c3474eda01b9bcba399232513162c75c8ba1bccd66ffc6b0f01a15f49517d87',\n '0x3d8a447e8b04cfbc189d3a476f57d5e0c9c0cd6ef9db027280480cdcc8fa0cce',\n '0x134e73602f36a99bc446b1b3fb60d9c69850e537ab29f7f70ae00f2dd0a6ef4c',\n '0xc84d71a8384f8818ec13f7657dee4959da1047a85a8d440e89faf4243c299a69',\n '0xe7bbc94fc0965699857f9995430a2c2606906066839a1ddbac566fcea8d99b78',\n '0x534bc12e8128951b2108eac89babab74500688c9096aa8ec6620820ea90c8c70',\n '0xa013c356bfac8374c1fff9c2f2e2c60d6369f55268129e6033af494f2080c0d5',\n '0x4cc74f1b6d029bc72f38b29af2a1012ea77045dc4bdd39b932ed2a45356b95e0',\n '0x7cdf7a6ca7309f095bde26d7bb30b1eb73f1016df7a96b75621b88d0b5189c71',\n '0x29d45d2d959508c94d8d80ba404b7477e1457bee0f6c74b0ff10d0b9df93f540',\n '0x68d7970927f89c8d308a3fdb5d97935f2f6ef309578d2ed86a9427f11763732c',\n '0xb41dc82f5fa452a962eb9ecd3fe282dd7f67130248a54bf9050a405490af6dc9',\n '0xb71846fdc6c2e8577c5e40cbc85c779e041ec993d48bf6571ab33be93a1f42c4',\n '0xfcd942ba4a556ab40d0c5cda7fa59a4a2ecdfa6e5dd5de350d7323707868faa6',\n '0x6f6a3bedec8e39e9b6add95a61fd79a0de50c72987523756cfe27397a2ceba43',\n '0xcacbe677b1dc2c7be400121c764f97bfdb426c4c663568b499810f01ec102054',\n '0x6db7fe7d9d43af3aaea642dedd0bd9b79ff6a64c91b5d3b415efaa74f42a660f',\n '0xaf6c12d67ef17db68ff732e98f114aac063ddf5cd34c62368cf5460d3cfac812',\n '0x21bbaa3af6ad30e07e7e66f042bce87c9259d9063894d74af43c711d4d2842cf',\n '0x77d8c567709ce813f98ccd139f3419a715d5e1084f665011d4665ec0c59972a7',\n '0xa9afd98be7a8ed7ce17238ee4cfa11993cab106d3fc0404e98b57979616ed744',\n '0x8ffef678fa3ee1777806304fba6141d96da4ad431a053fca54dbeae98c71946f',\n '0x22140572950bc2c45fba523a155aece0a7a954bbf21bddf03a4aca8b1ee9d13c',\n '0xa4757d71c7c782bfdf79b09bf566f795bbfe78cbc28a26914df0ad68bc1522aa',\n '0x58e34561b60f7151ce0b2a79d5364779074c7cc89c93929f6d54437751ee6adb',\n '0x21cdb4900181c2346c2888a2a38afa2582aa37decc870ef0c0af2c3992397f1d',\n '0xf97fd161c4dcfa02b20f6a7b6a01c7bdffb2670ccd792ffebc38eaaef3689cd4',\n '0x95a482dfba30b574fda6002b829bd4109c4bbf429037cfeb7d8909eedcf47aea',\n '0x8999da25901a983cee28f83a077b87c9d21cbf26a4c8ea53555023bb78c3fa21',\n '0x5e88b7d56c2552f3debddac4d9fb73be7ebc3130fe51aff028d6e18a3df69f40',\n '0x5d1eeb5f8634389bf9b414162a9b2f9d1c0f7e17e7e63c3df6cf5e09889a0827',\n '0x2165bd80b4184ee1c6af70d52c1b1a274f1304ff8730a86ac1ccbfe73909bf44',\n '0x2314b1834607f626fd2e617b77430167ef675cd457982d215b7ab76cf432332d',\n '0x8a06952ed568f543fca0ea061fc7899b56e7f6192fcba5a6553b3611d90992c9',\n '0x5f76678d6bdf794caf0aa0a377ede86057d7bb0c2de8ba1c2a0aac65562c45f6',\n '0xf76465ef8bf180c2ee1c88c84a038cf47f0a2d0efb2634ec07bf652369514c9f',\n '0xd4e96acf0b07f439341cdfd9a81256888daeac75f5ffc10701a2deb6129dedb2',\n '0xdf7b3c45f23581ca32b91b03899077d501233c0efb68c1be90d3526e543a9003',\n '0x69fc8d1dcba3af8bfbd7172e174579bfd18bd7c960c94070ed8a1df84d7d56a8',\n '0x8b63666ff626175918f6ed9ebca9194dd2c15c72598c0f2975df03b3afedca31',\n '0x4c5f72d65ae42c4454f4ebf7d800ab42287c6ea5ac274311e88c08b1269992ea',\n '0x2650e681a517e4f124dc0e5dc57129cc53101384d041f60f951d4f1f7fd3b671',\n '0xa31917dd727835083ffcdf9bcaf08d285bc13ef0261317473e9cf2cbcad56acc',\n '0x51552a425b07af24bed83cb7f81b98ea36ff2c7291766c546184eb1c28bfcdff',\n '0x23bdcab501a568be44a01fdb784aabe78599b8225a8f587673129a3ed1bd36ec',\n '0x32619ef4b1a67a9cb21080951f5bd8132fb73b2f0922ce5e3c5804ebfce4678d',\n '0x146dcf414f932113e333d1159922388349edb4f7b7a45324e90cd1e32cc4f51c',\n '0x57c532d51335dcc6baa257a452d94496ae48fa2b7b2ed6e2ab32b2a26e05e608',\n '0x46edd227e2dbcc66b20edb5d17b939d8d5c1cb2d685718817d08dfab5b35596e',\n '0x146e7a7d0f3071d5301afc1349ff0a65ff46c906a1d8b86c631bf3ec2d7da402',\n '0x921f73bb0d7cf7eb3a439110a8af74d6b83420609b1bd94a288b2e653b6f0260',\n '0x29f9cdc47e994fae0a0a12308ecb72d15dac669eca832b56a6dcd8a2f7ef07c7',\n '0x672b74d973722d5c446a1398e56d956342d84057894e7dcce41fbb42a688da99',\n '0xffea2440b94570e583cd5475e00a7444428241fd8497154166f83d10f2a6cf65',\n '0xa62ff885ac9e6176a8a8b8c832716ad50e0191e5932901b47f2a045644c4659f',\n '0x868afe268c5f3848a3eb7df9faee191873d18e4e4b3f742e1e6f521d60b39046',\n '0xddbdc776368bd4422ce6c925ff8f20936a20b3fee9b5b8244869c89fe985407a',\n '0x031eed8e170cf3f4e430dc9b17c26f3048e72900ac8c4b22bccaf6f2b96db857',\n '0xbd91e795ac095cfa9af699c52680fbe4974c4f7e9e69dd69f48642cf13f515d3',\n '0x0d999d08b024af27f541d5a805db08cc9eef5208685b8459dbb5b3542793d330',\n '0xc7c33c3ba7d0671e2a268676632f22407c31c3283dec982ffc41de37c6b4a35b',\n '0xa68ba14143e1596fe59c4ee0ce0267d040b0e8b658ea5e1bc02d49d02851d61e',\n '0x3a53668b320e96ed721d38f58f66023c08c67e18e5a4a8414065cde16d109d3e',\n '0xe9965a02b2e07026157e2189258098e7602bbe5e5f65594f92cb620337800e4e',\n '0xc0c698105754020716e4795f153b5ef1a58f8e0d123c028703bedc2e03ceef69',\n '0x532d13d165e9a369e04b12c9bbf4b8db57311e5b0a5be7411770ace2f245fe98',\n '0x2885219edbf3a0b8c91e26c5949e8bf4f88fae9f5fb79bb8ecc6c2a6e085c12e',\n '0xec8e88d3ac1b6fb834f7715e13d04fe019afbd1992a0bd939a94d1ab8511e3d2',\n '0x582b0d435c9538dad29bf7073393cfd247dfb606c174d5dbdc7778dbd9db3c62',\n '0xbdb3091063d37f69b7cc60eb369d49e52a37fc5fc0a7b6296b157dd95bdac0e1',\n '0x0801fd93cc6f2485e7c095598261bafc2f30c489aafa91df514b5432f75f1d19',\n '0xbb91bd4d3405a91a262858c239de2d6128509d1c30a59b36d85036eec8522eaa',\n '0x00eddc68c4464ce8f21f01c98e586d9cda110b7eb55222c8aa8af82dfe9bae4a',\n '0x2966adc88896321b59cc5461616edf544fbc3b0881c23007d29218a167197a5d',\n '0x53f471fb0f7cbca9c6e282bdef54eef8e08162c1876071ece5e3f3d4ad50f424',\n '0x4b0567e7da82ca922dc8221011c171799869873bb1837b03eee2e075779a1869',\n '0x0735c8fa6952e6da8bfb7cf1cc43e5a593384219fe385c805dbbacf713e4dc8a',\n '0x8e1001680b4f13ba743b5346e0050a72b727176d6b20e85d23ddd6ede3383a7a',\n '0x2e60b5a4967e40a1f0b77a6243f8fd48c62b9a3feed14b632bfb6adb4363d151',\n '0x7588b4ee1cc68e84de036bf475644abce31b990b76ad501636bde7efecc41302',\n '0xef65fcb89188baef0d0f86cf38162ade146703d014b3c6016ec66027a8af086b',\n '0x2962e7c190e8f471e9ca52859362e924c2440713d578225809551b9aa0db322c',\n '0xf0d52de8014af140066bfc70719d1c9f7947ee2bad9727815023dd92c2ca3a4b',\n '0xe7510311e468c0ef7a782cafafebae59e2763e98da4c81eff1fef942fb474b25',\n '0xada14fa0d19b5d7bf9458aeac0c46947ef8822ae52141f85398844ec04e97ede',\n '0x27d91f87f32644658923209a6c056d0b3211f2b99a5a3dee228396075ef66d61',\n '0x410bfc10b651d6a3c460dbfa7d0d39908b87694706044b00dc28cbe1132584b5',\n '0x31dd8bc7b6c945a471236674e24656031f5e90453b6c79ea1bac3972643af717',\n '0xe8598b7e8243a852177bd89d5339483794b97a193fbc131788f475b2bec76eb2',\n '0x90ab62d3975e61785b45b61d39f39c9b295ac87cf9994e6f4dfb11eb81339a50',\n '0x92b4d57e02e85cb80440acaf86d8b013487d455f22f3cc71beb6eba4442c34dd',\n '0x284b02c28a6dc5335cc12b06d1caf69d7c38c19b176f5bdc296bb4706271f892',\n '0x0bf2268bd814f1775d2826aa69bb210e05f1e015e83caea1f54dadc59b16db7c',\n '0xb3c823d5bbcda37e61f0aaf6d4f0eeff3c649b6461527176c7c012432dd99214',\n '0xa7f4e3e1a02fe67e5e6176661aaa2bfa19f1c2a3a099d898a8168cd76522f782',\n '0x82d186534bcaaf244cfdadd0b166f3e4755d6e46a105f557249391f919b3e1e8',\n '0x4d09128784bf0ea6c824021a6d28f762bc37a40a6ab689009f9392baa4f0eaa5',\n '0xbea74fb68eff821073daea78cdf35624034cc74b80aee5125b61b30e73dce614',\n '0xfb466e55038e7b6ebcad5b485f994859f21eac5d10654205fd1dc4b5e77b0400',\n '0x2fd7722d8bcc94eb11b2c522235b47fe0fbc620617741cd9c82ec05bbf880b10',\n '0xf7d299a45edf8b5f935f244fd3805ad56d02d530faeb9991e7a9515261cd8940',\n '0xe81c2531f581263a76c6e306ba644267c396e54fd14c94e23b74bad9df52a10a',\n '0xa1ac1cf85917966df24eb3ad9ec568da2684b8717cc14e6bb040a873e786dd53',\n '0x8f1a7ca4a93d1478727e9c2d389ca8dc06c028efd2b562171cc4c23ddbcafc3c',\n '0x6959604dcaf969938d966b7599a12781250d385e6f6d5190b3916803abeef01a',\n '0x98de46871b6b90fd88ce4e74db7aca72df166f846c6a2058c1f2cfc032a27bde',\n '0xce37b14ef79e18bdba340f14c4a4709ceab9bd8325d38edc68d5b928f0dae30b',\n '0x142a1ce2995c923f0ea5c809826f9eb3c48e92afcff6177b835e6a604f88f50c',\n '0xef6c8d4a9d547753c6ca2a1a8f17abe72751b2ee42fb8e2233c4f623d0ffed9e',\n '0x3c1c2149b6b8574420f8ada8324e91aea8dbe973ae96c8bb783f37f83fa454f2',\n '0x528950608d487e6d61f72575597c0832b53e1a81ab3be930d0fb5a1ecc12265e',\n '0x58fe0c46009bc33fc0164dbc6cf30b3d32b795f81b6aa117d7bf554a90dfb258',\n '0xe67c49c34492d3369833e351dab9cb7fcdd243917e790e90d4dc62b9188b5f27',\n '0x8a1f69643e71a5cf93ea34dbcc7f8a9141101f71ac933a25360c64fe752ebed3',\n '0xa98110fa9b5cc529e00d4a11a9d953dab5c1a1605386d6dcbfafe38b5f4a4d11',\n '0x3cd036a82a0a0294b3220feb96fdf0b667c8ee19dabcb03e978c9b0ab00661cb',\n '0xfc7b8e10e86ffd4915a98a7d8443b03f0eff20259dc8503206459e99435fd1bd',\n '0xd8cc00d3f50f31ab9348b6ab78c0e9a3ec551e6bc12c9022abf6937bff60873f',\n '0x898637ff5d303c014f9fa018dd59f0ce9d88131caa5f07f8133d3ff4321bca6d',\n '0xbe25c79f07412c9eb22c74c385202cb73fdcb95625f4f89e377b6a6ded43111a',\n '0xd52c7dffa137c598c7ecdedc867a75f2a17b76dc25f54219d82565e646ba4496',\n '0x22ce810fba39f7c16bf8430e6d2645c9744e79b54dfa0f3b9dfd063c5b483c32',\n '0xe7beb07ac861aba26afa99cd8e0f0b76d3790e25d3f619b304b241c6520904d4',\n '0x90d302525248bf35a0fdc4587a709a1c0e358cfab9dfb3cab1e7f2a0f9dc0beb',\n '0xbbae5c192fc505633b0a9e54b0d64d33536d6bd4cbbdc11ff439a0fff032f767',\n '0x75bdd1789ae55ff5973e1f80bfe6d1cee34a870782ab08dd3e7814364c85120c',\n '0xdb766d7373785f9d83d5f50d95d5bf91cdfc8a346ed40f1705f8d5f9e85299c5',\n '0x1ac7abca0f6ad44877be433ca521870d96e165091b8712a239386c9e354390cd',\n '0x38c591a798d9a8513b68d2c6114e8561dde76d0704c7b4fb9c362cbc3eefbde8',\n '0x1946b2a44f3884b114177c40885a8187b031025b7f92b02e20828641860a8a81',\n '0x260bce54f41a37b3d3f9a7fc66cc8afa4fca5e84f0c23e817bf4394f8cda6cd7',\n '0xd7bdef3cbef2b206998942464e74644ff566a28b0a8fde5ba367f70ad36cf5f6',\n '0xa962241eb24b1f4ccd56689a92ee81ccd788ad0abe9a2e5ea48f2ffdc66180f6',\n '0x610fe31477358113308c84b212547e3c5ab2537f1acdea9fbfd3340b6ff823fa',\n '0xa85c93748c65c53418f0a5e8d41a14ef80f6e13b010b0cc10c2380c7d7ada65e',\n '0x5d185768ab1dd60eb095037d2f3d12640b10d326f5cc957984f1f6fd0edfcb87',\n '0xc205ebfdd3aff5b8e0852d4469f1998303f433933e702f77506414d03dc50110',\n '0x5cf1af21edd6df1233faf1df4962dc359a754a49f59d73abfa8908fcab2bcf1c',\n '0x83c8aeefb304b66f15980cb9443ed1c018fbd09542d413ab60e873e9476c06ae',\n '0xb490620abc2378bfbdd08e75ea20935e20f3f5e29f9a556825da675c726a5e71',\n '0xa76493b5399defdecfbea64c3700d06b58f333507c76b01667f85ac6416748a1',\n '0x1e1a566bdaaeecda746ebafb43b5d94c813ee650c0fe98feba3f3fcf7e7e5762',\n '0xa80cc11ec94b6fc44770fb017f30830e67a6cd5393a4c89f76ecab897511f8a9',\n '0x7b0301ff5cb87682f8b6753d13c4c47562bf0b0aedb0645c23cbac23c3c7a859',\n '0x66f7f6e5b73b01020990350129c1dc6a16ecbe749a90c57780ced4fed91ed692',\n '0x134331e4e5d67bb49361a1eaf050d906a1f5b72c371f3ca135e9df24d8031c1a',\n '0xfdbec060f7d56f115683918c3307d4ab344799db0ad29efcc5364777a1b7f020',\n '0x7c289949be129df53baa98de653b76843a5596a721e934627bdc6314727f2edf',\n '0x730270b58d912ac63551e0516f19bd96ab0032908423d73f5d27f483664ea806',\n '0x51bc5777718d43318915d686610a2d2f79ee8f516aa600b154a72db85d79a9be',\n '0xaaf39f9e276ea9fd609ee1a94d51d62ef2bca255c172d7d184ae51c83335d644',\n '0x0a856a0bfafd2a5c72bec69492b5719d98c473012d53298886a60ea4b7c87695',\n '0xa97045a76167b4bbdb35b46c88575752bfb7ba2182d0f383aae4e60e92394d72',\n '0xfd8ad8261d04737c66c7489ac5aa3f08c797e478e8941e2e61310a60687cb887',\n '0x717d1a40e9a3cc972e4a0c5ca725366beada543400cdd803b9f2d0123d3e08f2',\n '0x57375ddc31817f99287bd58c44c6f6f6903ff918c904fc0f9801bea4c3fd16e3',\n '0x62dcd98b65cc4d076a5d514aef295e4140cd1e763573b4710a71f672b064957a',\n '0x952f16f880a8f9dd99c3a82726837e6a3092710da44c5ac231f7c3adf54c58f3',\n '0x57046373710301047d6e1dbd3dc3b137883293773748d2ca398dd463607ca800',\n '0xbe885f2323698d910b7b8f091e2ace4a4e57d61da75b87adca540b6270aea846',\n '0xaedfab4fbdbf7d815c76f9b33ba75c627b366f74aee0d4a8997587f19cc68900',\n '0x3d3555e17fa6fd2ef33e5558273bcbde561cd24f9c23a5211014c9a85cc3347e',\n '0x704d0070148de433b5a8d28ec8f625b0eb84d12783eee47348082c8bea2aed20',\n '0xce992d663d3a68509c514d684ca9264554483d78db47c4d5dfc44a358b59cd1f',\n '0x20e50e643378c97402f3beda2c993b85be9b1ccd908d6de80ad04a2d079ae671',\n '0x849763f7344eda7f8104b6321b86e3c880e96a5ae701de3937320067251566de',\n '0xdd7a2741222b1f548d43ad11b5458b9b3c242738d74e2402070a8b584b58d177',\n '0xb268159a26be55eba7ea2c8ab9e20990627cbc81029c14f80ed67d197a940a59',\n '0xefb8ffda81921d693fc143d283da962b67e96c91880481f590381cfadf6dc1f2',\n '0xe9051be81eab0919e452b79cc8502c964aa8153aa1f76d3a417a09065b2d8c6a',\n '0x79d1b1d9c2985553ac1c2173aced70ab334a6b5407b808e29cf260027df57a18',\n '0x500421639c50f2afd3852c8338da5d977bb6efdbc7451258812bd0e410a82772',\n '0xb0455fb7f9e1b0e994233fe55fdfe6d9d36692613a50c6d56d61b7aaf3b1e179',\n '0xf26dba4858f854af3d13f604f14cddcd67aa64865acc5e9e56589f6147298164',\n '0x907c936336e11f164c7c5c80983099920743e21e0906622374293b6bb0af0f90',\n '0x3bd1a9e838291610ebe71ffc695315c81c89068534db5570d438d719fe93fad6',\n '0x3fd768186a1c88bfed6d86ab6340a030449633716155f6050a73a03d4daf0eda',\n '0x73e559a6f08c49cc1814acb9eb70c4870ffb3e64e1ba1c9dcde505e3398712bb',\n '0xace7c74a1ec6792d2d6d75debda9390a704138e9b7d01e157d97d17a66c7fbea',\n '0xa877ce9ca093d3d8e8905de8d9ee9fa0920bb47210ce926a0db9cf9a331cbd5a',\n '0xa04fa7d76c9dd7721efc7b4bc89657fb25a47d7032f21f8359c1408026714516',\n '0xe232ff24cc678ceda8981fd69907f2166b3ece04c9843c097281da30ddbcbbcb',\n '0x1f0dad512a34cb4fc8009d3dba6eab82dabcca9ee67678783a135c609f182760',\n '0x3462135f3bc286c1c7b1947439847f92236d61eb92167e153f41d44dd88424f7',\n '0x63a66d654d2cf1d6cc3453c0062310b4ca7b6df0ee660bb6bf4b06c558ce0bb2',\n '0x2062034593937c72d20bf5b331a26d1ef536b2cb788735f75cb63bef8d35e79a',\n '0x18bef89540abaac6456c729a08565af38d2f2282743a8c04466cd9d21204744b',\n '0x364357acdc138c14608c7da673d2c21a456f81749c94f4e685a921ea295d5b55',\n '0x5b2f21bca7a3b49ecc18ab613257c07e2c4df05a1edbf9a9f551fbce204c427e',\n '0x2443b9c176095bdee703314cb1b1d99ee23a71a5d1dcabea1bee74853958a1cd',\n '0x1a8551d5058c68904b79515c2ef36665667f2bcd4389adfaefb943a04b4f4896',\n '0xd61633a1224f960f038d80f228900a9b6ef14f81132cbb74a1f61c74bfb5c212',\n '0xcb9330110ecd14c1114f08c5fad0957b5a86339e354eb82585b1aece5a29e1cc',\n '0x10bd793558e012d1ce84d4b7a02df61fb6cb4d5d5e6e36df90652f48f4784d36',\n '0x36aff4e4d3f743762ae469cfba7a8583be52b0b5c089a8ce6c325cd9c2071494',\n '0xdcb6f5ceab20f516b4129762c1346509679fa0725ca9d8ff23e99cbcac9e2f48',\n '0xc1e6568e99f5c4854d7354ef919e934ffae8dbb8b303d50f3c19472e3d1e0a1c',\n '0x86c3be492235c2e3d6790d71e501a7924512e8d07fadc296e891dc8164f21b4a',\n '0xdc24e1b5a086160e94dbcdcc1fa5880a16dc00aa17e6f9970859ae59abf89c0e',\n '0x9ed98afb4e4ddbf391e54408e8100b5695ea22e27d6d271214c43c970cb9439c',\n '0x691df6d39896f9551d1259c30ab2d42d290b244407d4476f960e7346d03f29d5',\n '0x715d83329ed10cda5d75a5c41266fc97c93cdc4271277c17c620fb366d126847',\n '0x706c4a4649c93f157ecec4d903e8896753f98edcfa2bf06dd6d2738c1c164260',\n '0x4ca944b902ae2e079f546f9113b939d6202d38c6d6874b01098e96c6c9d02c6b',\n '0xa8e0b4983e80dad4563e71bf74ab7102722171be86e8a3fb7dc92520e1fa55c7',\n '0x8993fbacb7f3c5df37ffe8221ff5083abb5b77e627130e0248d43301e1a023db',\n '0x2b607a43c18ffdddc7ab0ec5309d9b74233c526a86a25688948c4378a89d750d',\n '0x314ab4923c43f61efb52c8c282c3398f7efba09f460ae0ae6a281d5e6dfe148c',\n '0xe5a92069a36f3daaa7581693d821d9c39a01fa9a1bd9d326dfee5fed69ba89f0',\n '0x4a2eb84a44717baf92f95ae491ca8170fc37d29ae09206a05f717bb4a8715922',\n '0x50b9c0c813a609444b7c680f8bb8cd856f56df010e9922d50bb2defdacd605f0',\n '0xe8f4f654d6f6beb1ff2985b339b17d7626d0d994ae86c062b98479499250ef17',\n '0x3a5e5982e2ba5d5dc6a38f29b6ccb91e51405bef9bfa3b50c75fbf37830ddebe',\n '0x6c11c67a2a411f50e86cb78ae976226e9854ed5817d44109934e7a5af18ffa75',\n '0xe322bc0d60fa74ab3fe7240448b24285f5cabb02cb9fbc2440a972d88840a224',\n '0x9f3998f19dfa464cf6c8b4d82c73e95821d4339dab35a92eb3700c1c88d64cf8',\n '0xa3517b10ec29697ae08e124d29421a0b9d24fcf8067a7694cbf514afeec4421d',\n '0x00601a08d92adcbfd4c84ce5e251b603920454c3eaf189862a108c0c74774ed0',\n '0x925b9e15ed14fb8fa8851b63cdf3fd08aa6a686157a93a19ba1ce97c9b9fbd5e',\n '0xd54d7646f0e1c57ec394c1d7711cdb6633a9c0bf1efbecff0e7d0c98f784b224',\n '0x312bf680ada16ab541579dd062ba1b6a456985fc2251daa87539f5fcc23a3b1c',\n '0x62f04ed3b7d5da71e23bd44030727606c09df349b07c3a6d1e5e9777cb96cd48',\n '0x1c75f84fdb29ce3ff0d80ef881c5e37136f266e266009f4b4d102196678da07b',\n '0xb106861ef2b51ff352874b66ac90145c3fe91463e47ce3658f27c62d432b426a',\n '0x2c1bed4546725d2b496d8a7213e16a852059a0c2af7b031042a6a82aa9cacf89',\n '0x679229f45d2acc4e596533bd9639a56f2c4b311adc91726895b4668d0cf8ec20',\n '0x43125af6ff4e2ab8af8bc7565cc659000d2588c2cb927bccc2c22341cffe9984',\n '0x4cc944df1f251f78f6b4ddebd273fd597155920bb8652e8efed71476742b737f',\n '0x06f3502ef7d63cbddc57172c3956a2ee65a2dc290cff518daeea3c58d22551fe',\n '0xd679d5676aa7a2078222da607eec6d1c1407f2bc3c686c758d455cac6866a1d2',\n '0xb783c3a2ea37be9ce1974029ddba319905ff9d831b5415203d0ba30c65f9009c',\n '0xef3750a9b41fabb1540aef1aed02e21b44e58c91df579dc41a45f4af6630650c',\n '0x8f055887b0993e6895322aa931ff83de9bf44bd407ce79c480ea3b9832b96b03',\n '0x2296b68d9e3102f2da6bc954989ebcbaed3cec9066f7dfa79c518d28251f944d',\n '0xe414df749d31c239136eb5596a1ec4a590540333333de1987d578b038f54239c',\n '0xf20c1d22c75edf3831ec634473553eb9fd13ccf81fe367d6528fa041f2ce4814',\n '0x377d80ce56754a1ed4f5e86ed6c8599f105335d5da250ba595aa2962df877b33',\n '0x516a8c1f58e468b38e8fbac41ffc72ba7353ed58c8409470b8a73c0de685df12',\n '0xa9affe35252837c36f70a27dcc26047fb56ccca0ef5fbc6fcc576df336f3b577',\n '0xaf373984b530fc40e18d6b37de4a5279aa2ce7215067efddaba9ffa36017ecad',\n '0x96dd1ea6a536653e6035ac121b3f86c0ecdc80d74f3043c1b28746a2f954861d',\n '0x1c64f3e5ec68db1f7db9f219411e185eeb082b7be1df584e14e3e1df6fa4f2ac',\n '0x9e7124ca689df52c456a3ed9ba7692f392c8c6e58df5c98f8eb53d332aa2a9d6',\n '0xf2b6d15f1ff180ac4b9708d8c1f8d0f719dbd0a760f00ae8174f770286d40afe',\n '0xe731af3eb02e2a370c9ab33fda7ee6826010c645aaace29f1d5d5ae99c279ce6',\n '0x76ecc3c9656c4ef563684cce9e1fc9bce134b2c5b6b9e3e2a710070922025bc4',\n '0x4f361e9865964246ba3b53e0aa61a1fd5c6c98cfda903bde3d7124e1e4fce51f',\n '0x2e73fa84f12411161b01d1f6a0127a3838d9d7245af48096e084dc6274d7e558',\n '0x23d4afb661af22d76cb11371058d82be3da79d92e25082e394287a5d280d55bb',\n '0x3f6ee91dbcbb6f2be03b01377f8c1bb2f99d798ee4dc412e9f3b0b10fa4e6bb8',\n '0xe9227d594181412307122240e3d55377d47c9f06564e722844895af497ccf736',\n '0xa58ac889d7f3621590fe580a3f1fbd6f874c599aaf29b076821715cfa4d08d18',\n '0xd3f3361883e5f63e52e10e4c5f7fd333ecddf95c9e5abafa3578977374b4b971',\n '0x6528ddf9286235501d9feb24a6e541f2f3cd289520abc55f6799767873829541',\n '0x6d18ab1e5d38698e90b48767aed3e6db3b4c2b07562880215aa1e0b377af38c7',\n '0x595e44a56dd423fa0adc4ae386ce1566233bd43c624c1f8cd10d84dceb630d69',\n '0xa2dbf33448d54e3c2254568be3ff42e48391224dc0dd6ec07b5e65ec3c7e67f6',\n '0x3043c14b7c760c7669eabebcce13966728f87f59c08673f04a988312bb164623',\n '0x4e6f7ee94fdd949616e44a2ce4e9c08767008847dd33a0eaf72566b88b44346f',\n '0xa27aef8babc5c28fada3596b78accad56235519fcfe9dabf3f8eb3624b17a1c3',\n '0x54f4e67b11469a1ee70f4da1f6411c828a232257be4b9a6362e093165753c054',\n '0x4c839c904dd62c018c1fa5df1165bb36894de629bffb5ac53336e42488d51219',\n '0xf544352a416344c5ec0b0c50cc76606f34b403b08fe7d425adbc13d301166ad9',\n '0x2191ece02a8114c09ea261b44d8814eb0742ac3404d59b884d1beff9cd379e2f',\n '0x8ca2ee134252d850e2a8c8ef5a9ad9865041634f7b9059dcf8a71ff7fc34b1be',\n '0xacba5e6448d84b3bd489853463defabcc3e8b2922d3149101f3e66cbf511f17b',\n '0x4b5a4d34bba33b28db5baf299d3e03b243891ac1325bb4621c92b1d617f6635c',\n '0x96f875c979501cbdb45f56c2ab57956fdd627df75ee4daac5ca52b724ace2db1',\n '0xbb5f49d5bd5e41c4c054c12d53cacccd6b7d08b0c2a645f023ad469e044d43ec',\n '0xe648afe6f596415c82d7bb2e1bd6d772c13874c238c21d0a30b6ed6f210299c5',\n '0xf7015df64778c1142fc4226287fbab5e4ccafef2e07e9858ba87d1a041a89e57',\n '0xcfcdc055e8088c6e213acc86bbdad705ed4c198f4d837b29196c8e32b94b14af',\n '0xa9c407e3c2b29cd53a2bf67388ca73ae7cf5d9e2ed03c3a24fd74302b7311452',\n '0x9fccf3660b509127113a0862b7167d3799459fc21e7f201c703195afeddbcfe9',\n '0x4390f14df8f05f2d645c6fff8d2aeeb07897b7b83b80a6e9a586678088fb3d8e',\n '0xc5134a471b20e145ffbdb75707de03cbc091e5cb7c01332b6f425e6af331d99c',\n '0x6b124ea1bfcc9c33544a79dd72bf709ceb88b40772f65bc47ea798f6b0e2ddc2',\n '0x8748d859483c03366699a5b2747df5e0b11d139341db64af7e4d66e694135ec8',\n '0x62442dea5bef92f94a739811207ca34e5e7fa8067a695c06d486188ec538301f',\n '0xe095bed0e4470f00b3272212dbda6cf3d06189e9f0639955ee97852959434819',\n '0x0bbdd3fe07fc70762a2c2419012fdf770e3fa65a9eeccc97636ad36d355f3de0',\n '0xf3012b18c7784d74390901ca858c62a2779a9eef8db62549b132ff8d02b61a6b',\n '0xe591c1333c0211729df0b91267ae809a5f667c844a6d406e48955fc6fa1e089a',\n '0xf2abb2392e4fa0fe61daea464ebff7738246eed00b5e5962cfe63d55ec05ad8f',\n '0x08e4848f6300eeedd4f933e2abcdb188f27c3f15b9485264abea7f2fcb05446d',\n '0x51eb229e780bd95aa7c97d1d97d36a3fb6ecb3cc7adda7ceb5de3d3adf3e38c4',\n '0xdc0d805777664ff82dcfd7763dbb8da332542cc18c53cc1ae7d806b34999d601',\n '0x9b94990772c96780fa4d8d6526665943fbbd16c225f479ab225330df2de47a9f',\n '0xf521d9ba122b911b62d5cd4c3330c742d755ae2c1d2765bf326675fef08c3db5',\n '0x26bc9394e31b369f445805f24e1b7e46a445d2aadd950431e30b43ce9aa8c019',\n '0xd375d486adccdef615af3a63fa6e8920e75b1d3ddf7dd6a84c2b0a2303058e05',\n '0x14230940959b7a4a394f79f1de05b1ddbed75c6d4e391e66e3721cd816990ad3',\n '0x293215db22c231373873414a29afacfb29ad90651d6c63240bf779488d3daeb4',\n '0x133b0daf8be6999fae9ad83a07e259207d863098d95015eb9fa020571b38de40',\n '0xec6ca0b258ed66f0b44682bddf343de5d2f6e1274d3b7153c011cd7c3f8b4f4f',\n '0xd0dc54e154a10de08c9838d13dc9910c55352119423bd2ac6c5c1a419a3efb1c',\n '0x1ec283cfddb765675e8c7117f1df92007549b053b1cba091476bc1e9801987d1',\n '0xa5569ba0406b9ce43596271a9c1884b9dd1d978b2fd4536e080163050e0ba57d',\n '0xda191b9fff5fbe1daf12a42e061ce9fb49bdc864e6d8280540be471db6dfbd36',\n '0x197e72ac0e4c81dd262eac28717a038a1f69b4a5f73a8eaaa33a20cf5375457a',\n '0x172a1247f6ebae5ca2eabf2b52217376ed035e9e3a53aadd356967b076fb8549',\n '0x10374a1fc0b9d7ce55034f8fe50fb354c9de026b844b77c202c424f55f5e4e7e',\n '0xca0e83a00daea2aa88ee1668b653217d0a67270d2f6ef4c36c4264278fe22b82',\n '0xa35c73299ed66e367d1dc83641b674db960cce1e3756647442d631fff78c2d7f',\n '0x6111aa67b624fd02237b57c715788b0a9c50ce1761eb422491cb7e2e797a7cdf',\n '0xffa082474fd29a9337ed13f850788f2f2bd635800754c6490f7d79f5bc9fe83c',\n '0x155bcee871193181c074ab8620caa5406ab037b2957fca00e4d73319def9a062',\n '0x8e7c5b294641d9e25563a380714944189e5fd5a171293d2ad390a483bde805f5',\n '0xaf657f866a657a139cda5f944010673b3b813805840ab50c13770bb5d80a7f6c',\n '0x8159b5a6e6ff8e034e291375175f1a7c3c6a7dae4af18eced02b38a95c92c15f',\n '0xdd05a12de573bc1f79835abed0faba39a24cc24697f249cbc1987a5daf0d82f1',\n '0x118cb35abc27d5c4866c9cdf64be21e9b3eba899a7d2b1c2350ff1703fbbe3bf',\n '0x27504ff4a3dabe0c6ba8fe5fa4a0b690e1e6f1943b7ca77f54f3d7e2f099726f',\n '0xc347cb10878f50dbed2810e15bd0c5fb4198084b551d22d197998782e4e6a14c',\n '0x2751076aa0d4804bf3f02380d03370e5d109ee14bc39dfb46b3107f69297031b',\n '0x983aae32129fcdd36227c674d88589d4912f893cb28a5afb31cd016cd8956703',\n '0x716cc7abd00c77fab8db087b0d9fc16e63d12fedbb76db5462527002ccf710fd',\n '0x19ef83e6cea29842690d11e77eb1712311bef6132052f5ad18cb0386086c42f3',\n '0x85354a6dd6974ecbc4c8574aeebb4ca294411bfb897269b23fff4ff33ee37fec',\n '0x35010e55f76dfa6b85f5cfcb5c30037b7db04d0bf903d1e2d5adc1a7403cea89',\n '0xa0cd58396396fde75452cb29b52aef3075729931326bb5671fe270af2ab64045',\n '0x1c1738950c5711e7101c59f431910256225823cc72b76dfed8b219127c6ea0d3',\n '0xf8db33b6f42deec4fc4ca6da0a7922c8dcb4c3cdf92fa030f0b90b0965c8990e',\n '0xfd7d2c36226a375813b931823013690b82e2cf5da5c1149819a0cbeaa5e05070',\n '0xc13d052851a56854430ffcc50fc9cdb6d646f49cd4856764292c3bb84dffdfc6',\n '0xa5e5d2d67ab628b1f6418a85f3fe362a3117830a797f825b28a59ed56a9ee3d0',\n '0x7c251a584bd3402865c6d6ab7dd2e3e0861fe0989976ca7b58925f79aa020282',\n '0x75445cdc723376b0027f08d8691c814f61ece48a19c71f07d029369ea6d58272',\n '0x72049f3d573090b3f073186f4acf4bdc518b360597beb746dbc4ee2faaf244b7',\n '0x82ae4f7dceba56e64a774e48c04cbdcf9f435fe005a7dcb6971a92aab233bb51',\n '0x5e08fa720ef5b5f6e45c27b8e160152c8baf5d95869b11cd1a82817a7ac4e614',\n '0x136bafbbed2c8ff1ef77597a92cd74bc697c770697226d5e2aa85abb6c60b900',\n '0xe4b9706ecf2f6ee35f37037e4684dabd6ac64e2095956c38d0085ea86311519b',\n '0x40d296f781246b69880ce26e6e28a8f9da6caa3694297fe543e64a901969b2c9',\n '0xf14cd623d6693cd3e3728b09c6b53348352a610334814a821e60da5e990a2c3b',\n '0x5772a2d2db2e3cdffa28ce77f08372fe264b11eff94becb6847796f52fcc83b7',\n '0x344e745ae412953188ec6f11ac39c14770b38c43733f6532923df3bc5b2d1538',\n '0x3df64a7a9944daa0a68e1ec9bf502fc62ceff7a055fcb90f617c2668e904d007',\n '0xddd94c496d88d5713ce5682347ed50477ed156826ef0b7f12d5063d607d4c777',\n '0x5c9ab41dccd27b8f73f6db3ddf7b7ef884d7170f4b7bcb293eea7dec5c1c1e7c',\n '0xa5a458bc158009b86d395b105d2a58ff1b10eff854aa96e736b804afce2e2065',\n '0xc9a3aa11c8aa32796ace8d9c82c89f3d7612b1f68b53c56a1a52bfa260872917',\n '0x1c797f73b021d8213929ee4f71be24e9d88576631c311cc27a2e6df71c18f3e5',\n '0xc5378c05fd78e33b8f372e678505278729c5ac3c2622c280bdc59838d6491009',\n '0x0688124fee772d72d3d17e334e41c12e763c658c1094ab3a210f438050c3fa8c',\n '0xcc05cb3858cbb09a12c2e2c1b14e5509704e6a4d1c5e08732b520985f1b2297d',\n '0xaf616f04a0bb52ad89ea64467627859eeefbcdd7fc89405041eb0ba0a9d39a6e',\n '0xc3a5c5e280c6126d259514ac30601023fd5548795539fcd6226506815ac57b67',\n '0x3c56a68d44f8e05563cb80bc9fb1604c30b5a2ca0068fc1bd61ec73f522da2bd',\n '0x35a288501ef901d84f6960fef468cc1bb3f364bea59579115be9423050f26f53',\n '0x4efd90851cbf14a18c99663c848e8ec341c49073ab65db835e515cf571f7b15b',\n '0xe7dba4b44491160bd51042256f7011d746d86afbab15e8ade5c2c4798fe0d18b',\n '0x2b4b36d685f9564392bc08a64fcd188c3a9420755c85602d154e7a5d332e7527',\n '0xbeb31115e0867056381e1e85b002d704d0dc54b59dcb8287ca8a4ba7440b02c1',\n '0x67d484046e97053e9001cac1218c1465a3c7596cf14d0166d298658d5ed81bd3',\n '0xa0c0c27e7c9df94ba9a3c2aca5f4f2984edac9ecc0bd0eb15961d3bc161a773d',\n '0xd59de0033efa97681a1bd1ee23078229bf36547f7b1af42867b587b6f9236315',\n '0xf56e3b32546e8f447d070cccb50ae1052120788190173915b9b7df3063fc30b6',\n '0x31a2e20fe546dc946d7ee46a20330014adf9b3b977768d983b139cba216759cc',\n '0x502ac35af1b3b1d8bf13c5ce7d6e416b29735a82025e2b39eaa52556ad8586bf',\n '0xfe0cc71efa906bc526f0e63ddc5362e43e38fe9cfa171797310092bcdd2b9b1f',\n '0x42f44ec1f2e991086454c342d7ebd1e6a52e950d58bd387c8db6a3f4bcc99572',\n '0xa0540e78e7f48f436b8016500c0f425127695282d6b1f797fbc81c52c11be4e3',\n '0xfe5f44e825878dd8987ff31e398763891d0429be99c00e321e33f070db46b758',\n '0xf1951d6ad8fcf86c87bd7dfd0f696e7657b7f1163377bb7b56d95d1059c969df',\n '0x07c69021c74ca4e5772e194fda46628e8bd902752525bfd108921b35bf0de29b',\n '0x4416496f593bfc6c3ded4227d0ec20c4757b792e3f48629039fd0967356a0f1e',\n '0x524030412bfdd65b9c4f0cb25d6886c9938870d4a6133eb7978318171cfe55bd',\n '0xc88ef5165724b7e6a9a704d923887a28f04d75003fef16bfd6ec8aa58b05cb94',\n '0x3f333f5255a0f78e332939996185b013b012be665334e0741eea8e92a4faa192',\n '0x23e7dfa418ffcd826a9e744801f333664fec8e8168dc602b682bc4575e1d5348',\n '0x2a39ff33d4de8baa0757a193e54d40444e3c88f6b38fcdcee22f4882fefa8bde',\n '0xafcce560cdfde283561e36312cb7f113abea82764eba18abf76e15c0ecea515e',\n '0x20c4dfb3599a5e112b4d9265dc48e07014b6cfcfe5ed3630fff696e9b5b5200e',\n '0xb8f4f90f1cae7a7efe628c4ddebe355690329074cb475d64ec96ca965640f995',\n '0xa48bc5b0f2835689c12e8245950a42664a09ab0a9fea25e516470db81805cd0d',\n '0x8814f77d790884f05434c4d68e4806ff2dc595ff7b9f0a66f055499aca149482',\n '0xb7d15a76b597af3da70b551659a46342e8e30e245033ae531524171902fff5ab',\n '0x985c16d6e65247beaf2489b668a0ef6ac1313169b1ca6437ad658507a6a3395f',\n '0x05b6c95ed0dda855601d86e8efebc519304edb2b282cc265796d96a3cd24381e',\n '0x2f9e81ee01a9b114f25181cb72a89b5f4deb6a6f51eb7fbf2df525a984946a5a',\n '0x16f16456499f0cef80c93a3f6d52c8291a89f24eef144cd575081a120888b826',\n '0x25d546e97f1e2befda6ec4b4a61b1786e7f95360a926c75318c0025391a57bad',\n '0xe25524acf91856edb5db46d0abb409c4c6590d1a47718f146d2a8ecaf5b556ad',\n '0x0957205404a30500733838913a1f5443af66a856e65e9d0190837dcb3ea8d07e',\n '0x9d24508b4ba8879f688fa92bc44b09de1e6a4ccb5180048869371cb242cf0c04',\n '0xc81a8443ac6844ab0abc01cb42aaaab0f4bba9c87525691451f1475ce289377b',\n '0xe10e8987d6e7c96b62a322975c653e506e6d65d7f429583482a6e95c64be50b5',\n '0x87f314becb495ab4b4073d8d2bb3bc6f46a5d948ddb593ad35a8489db2254b66',\n '0xb445622a72c783c6c8a3f0ce8220d68f0eca7d9a27efbbd21e464c550f679096',\n '0xfaff4923125a54d49ab9c99910fc8aeb40dc66ab6b88b1adf1e4a37c213ae54a',\n '0x737ffe7ffbe93453638f267f02b61ba74468beb019b0b777cfb3580b870c5a24',\n '0x6776a2823fd2caa42eed8ed0aab203b358b4d7ea51e63b07fe15cfd18048cd73',\n '0xa4fc7015786be4e0e0c909d735abcf34f4f711dfd9955ed10591cecdd6e7fde9',\n '0x7d5a37e9383a1ffaddb19c9cf0141f67496d76c19d58e048a9b753dd6b1c9c57',\n '0x3336ade4e89cf40cc385fa0e7040653f53449832cbee9876a96543dcb578f9f2',\n '0x05a4cde67f854b371f1b01906c4bcbfab6994fdcf2bfd618934187d644960b8f',\n '0x8eb43b95dacd0014160913e17c4de67c51206f0677b99d2d959f0e4d22c5f3c4',\n '0xcd5df7ad7d9f529c777db700078225e983a54002d3cf3b0a815863cd4815092e',\n '0xfdb38c8910073fab6be0caac61a6f12d016fc30ebc4197c73ab823f9cfb187c3',\n '0x35ee73a77ca74b44cb2a81f30daa195ce201911848f96389e80627a61b30e65c',\n '0x2ca7bdb9a589084da15d9d402924a8b042e372f56c86250225df900c8be07c7b',\n '0x5d822e55c2ffba72bae95276c45cb767342b86332bc5b3a99af9b22387a82450',\n '0x5fc32ad014024034cb8b713ce748c5c1b9ecd1f6cf638f2d08df710d468f0775',\n '0xabbc0c75665544c20fc06789b76710beeab0d4d1dc86a8b7f56f8767736adc3e',\n '0x292c77f90890145918eb217b52ac5b0ebfcd8b28e5f14ac6e940f26a11744e7e',\n '0xf4ce51e9ad749aa9fc02fe2ca375739b9095118a246fc3bf843d0114b84f789f',\n '0x2933911bd067e2ac682f4e6e1cb30e8f368d9447cfccb542c40a2968d4938bf4',\n '0x89c3bf2505dd5b3f9e522e34770dc0a9147f19960b084a089c345f06417bb63f',\n '0x3f9b8bd9ac90706a6823daa64b56db28d97790dbe02bcd15d2bc353a88cdc4b9',\n '0xf68003936d4473329eb28319b1d0f9d1376bb0eefc27d78227f54ef65b50c3e0',\n '0x10fb2ba51b2e6d78a58794db93eed75a0527962146f268a18074b76aa2c694a9',\n '0x9eb2d22fbb533b1439707a4a7a17a5bfb605941df0d6c8c962ecc7314711837a',\n '0x63145cdf3bcbc3d61055a7eea7b6a99a13fdf400651be0b9ca66c0707e8ed713',\n '0xfc024761ca433e647d099e8cffe674a802f0544a62c1d3c64138639f15a66394',\n '0x50a3a296704b6c93dd79963a7cb9e1d994e2b4265c219595a54c2a16c45bf86e',\n '0xb5e23c69addc9fd7b6aa7e7e23d16c937cac03ccb8ae7147ca154728139102a2',\n '0x77a54323d7492a6fef6d59f5440215341b42129a60a90f3a8e65d220abfc65f0',\n '0x475b6074a577eed01e31b67c50fee75918cab8b3c04203e1339ba90b9093d2c6',\n '0x1a5def39a3a1ab2674af8f8eacdc5a8e5e422dcad6343e84e021fef9f47c32a6',\n '0x664beeaa4c9f60010ee7249fd609c7af6b6d8c7eb449f013ed8d34bb2427eba0',\n '0x93e90fcade8b9d79b571e100144c5ae6d2f7161c3ae2c7ff22e0fca1e5ce618c',\n '0xcb29cebf05c8fbef7be7d025af185d2c37457780c797d4187a7664c9945a32f2',\n '0x068e435f64bb8828ecca4890417ceb9ada59faad176c394400d85585120edfbd',\n '0xd5b02d1f1a957b92aa87b9d862fdda867927822afda3bf334ce673f9a6af2d00',\n '0xcd4b598e1a1f9ce2dbb1d2ff2aae535df474b022dba5b396f61a887a55bbf5cd',\n '0xdc4b6036f2b135b7f7a2122a88cf7613984b646145e9c413736fd8edb4aeeb47',\n '0x335c64b809402e429ad8494e2be15581ff1aee49d57b8daea2b43d2bfc9fc66a',\n '0xa97d1296636bd88eb8194b70e733c2dd287d84171142f18243e38cbc1ba0390d',\n '0x220252537fc0434ad3615963bfbdee2208674e67d8a572f1bd32dacec93b8417',\n '0x068542827c46c2eaae2db403de99891b7ecd4847007e106a9b5910471b9dcf6d',\n '0xc9407ce74b7cf9300f36a1ec05f5acccc74f407ea05d6ced29db741f86e4b28f',\n '0x85980b1a4efc96f95120e8685883a863df1f8d2101eceab4d1641690a1793b6a',\n '0xf984177913e827736b0daaef0d2bac229220b8fdd105453ed23c679dbedf54cb',\n '0x3bf450c257e8f77ae4c0f6ed3b8c07a8565cd10f36562e59432a039bb13ca099',\n '0xa14ea770ff9053747ca5aada6eb77cb201a648a453296c346c08f9e7d93d2d21',\n '0x83d793711bbcc502150e807e16eb3be110afc147807b1821b47dd401134f48ed',\n '0xe29242940cdea45c691784b416afe4e1df6d3f47b9d4efd6bef292941619ea02',\n '0xba3ca0821cbc8067acb313f8803e1db4ee8c0db297e97ecb1af3a82965575191',\n '0x0295f3e66172a743f30fefda51f4751f46affa3a12668bdbbc6e3a083751d2f7',\n '0xddbb130c78303b7a468f23b93e669c6c2348b25fbdec98169c34d382f4afaeaf',\n '0xc5d184f7df204d518368bbb9b0031a1c2e98a04e6166ea52a3c4b009a775da42',\n '0x652ecb2e3974e38a1f6d8a90a04f77350abac02ce86c0b09b4d99acd26c084e9',\n '0xc3cd661d125481412aaf6441efcfc66e4e2771e06fc6fd01b06fe90a71abd72f',\n '0xfbc44f3c88fc91deee4c36cc7f34f9a13d7d740860dcbf968c4fec072fb6fe9e',\n '0x24ccd71c7ec1434d2edeaba36af5f36cf317934a05f966ba5129bc1493632f38',\n '0xeaae7fb00dda3f64726a16f15b5d8a0312cb6566b3bf73b141a1ac7301a19c8d',\n '0x80817125ff58f2c244453feadcd1e579138e6b72026ea87557704a6908b5c410',\n '0x4fa7d3d9903cc6588aeedb0d6e84cebb825979b8aaca42351719003925c9ff3b',\n '0x3e3f99bf0d3684166d721abe7181f13296a0791b1bd2ef2bc40c0eec640787c2',\n '0x9a72cd2f68e9065757dff8cc0a7d1c418583b7dc8e8fa34db76f9d4b1346dc08',\n '0x659b16b2248cfff463a15285d3bd1ab6b6b6fd1e8be523c20db61ca6b13db856',\n '0x5accb262b0a4d4f48f71460798397fb01c1eff599b78a03845360fe720a70bef',\n '0xc60221448eac03941e6666b64733ed5a0ae0ea1da71054f0ec8a2a4006cbdc39',\n '0xca103b822dda2b0198628a841f1d04b2ec71e73912977e866631f6147d095773',\n '0x4ba9f415712aea0f77f0d44a502a70dcc08b0494db60eae32514a68e5ab094da',\n '0xab59b87b716a7f782c70ecc595eec5716ccd76cac565cdb6e96c5c41d55915de',\n '0xe5efea7bbb5ab02d49c3edd4f27ca58c9cd2e23aa17a4a5889aa213bb902060c',\n '0x946ca4c54842853db07d3b3b1f9cbf34457bf0fdb7477b1dd9be249c225674bd',\n '0x3bc227861718a5a97f921c6e440ddedcea7b839c4dc3a03980838e84606b8a84',\n '0x2ef737f0a60eb995671f9dbc71d9ae7a43fdea772b60ebaa31cb4471b736fd13',\n '0x26830386713e1a3d7b58ead09906d8cfec5b707c942df8ea6bf354e1daf0cdb7',\n '0xcbe3e7bbb31df4215941b99e748aa89a451c64e0a134201403d8a5b1e39ff1db',\n '0x3c1d712f57207fe8be47e863f7b2ea36c3b51e667b091e803b66ecde71efc7f9',\n '0x0b24be712ff121619c342b03038c4d3ebe68d4469aaca927202af797e0d19e6f',\n '0x9b17ebbb4fd86ac334e31d8c19485f396c9c6b4bf144de6d05dfcfd22b5075e5',\n '0x1b666171b726c30e6c88197cd4cc84979a29de3adeaf4fc766e285393d129dc3',\n '0x58af1f4c591f5cf0e513e6fe5e996ce8907395b06f0327c2aa1b2dd687133e8a',\n '0x412b41dd743be43d9a46afcb5e7ab985d37171e9b1d0f9590dfdc55190d16add',\n '0x966745e2263e4c5aaedf335c5f20b3035d10b97ba7182b0c699dde731f5c4423',\n '0xb01a8a8ed72c836c0e836ae1d5631ec6412b6ceb6ba5e5905947f58b0f9c3052',\n '0x4250aa45277db2118349280fff49de3ee0190423a76e3a68f782f014994509c7',\n '0x763da2cbc0f569a2b437d521ab1c4deb3cf6466cc8df3787eb1a154bd46397e1',\n '0xe07fe6f14aa5d1f87eecb322127d9ae753aa1abadc6964064bd63dd538958cfa',\n '0xd03f251402f38e5d14ec6a36ccced70b406b2079f43bccbf56a81657ecc14fb8',\n '0x6bca0542e6c085a26b05f2772b92320ddb23cf84ed44049734a30bcdc6a6f14e',\n '0xd196ecb46f8c55151058631f10657f38cdc8c33d21cce33f516cebb97eacd8ce',\n '0xc72da7a6a7dacec6f02ca40f0b4ccb36dcce1889091cec06cf7a456a5081f438',\n '0xb87ea13dce9e6ee34ecbdf4157ae756bb8b71aa4e9b29aac15c5793a5a32446a',\n '0x1c4ec30329359e5a3b57f6ee889f7e234ceaa007c041c86f9ba84e5ff0d24cf5',\n '0xf0ae493c1378054c8248493d19cb6c381527e111e7832c00d82c604af9ca7c8e',\n '0x55a8a5f3327c5f4aea575fd791d4c1c0ea4bf3232a698fbc456a71b9b70fe5ec',\n '0x3ac1e27f19f002bfdc25c29386c1883cbe8d24653f75c3a41ecbc59f93e22cee',\n '0xfa9eaed907f1bf5b8dbc08d1e69042602a7223007384ed2150782d7153f7c64e',\n '0x2c71d57fc838b89d64c696865040d9ae48d5a9c332335361695453234ad9c3c0',\n '0x1b1db35287a753dde8526ea573685c341f112d94288fcded6bef98dc608918eb',\n '0xb73123a66db23c106f7ac4df51687f6dabd7852300485f723fa9871ada36397d',\n '0x8a58c136a06b36b514511933b74e638dc61dc60beb3522d72f9e38838d3aa97a',\n '0x651d7e4b525633e6745b7a81c0b6c2718a02cca6c108a2783dae3a63896053b5',\n '0xd1b3cceb4d26e9a86de1ebdf649afe5bbbda52f7cc41994402f0451096b3bbcd',\n '0xf9265b7f076de4d95afbfbf54d8f9c6f489e906c3c9a6112d2111b86adb98e05',\n '0x7cb47c4df2acad0be4092ac948c3c6a48ab79a50e5f2126f61bb056160e21bbd',\n '0xc70120ef57a723b31391acbce27fd20413aa0244714e8531bc5239fe1ed45b71',\n '0x9c3ad6916b6cc8e642b31f45ae6724f74d6a8ced7805a861a15cf875863bfd55',\n '0x304007422a2faaaf1b36f90b2ae7df8fadf1372bdc7452bf5b2d12572f7a5561',\n '0xf23e9993f8c2752d1766e226a569f47eb8d5357c2abb783388e9fb342971364f',\n '0xae69729460801c83402541c3282a9b1f317ba88927e9e874176c739aec88b895',\n '0x634359417aadc8cd939447ddeeb8b4645328b3a67b371ac85436ed90a79c9236',\n '0x4d08428d02c172f7e72a5ceec3e1865a8ed4ec4482e9e70ef3ce101b08f25cf4',\n '0xe1c72951a2bbce1c0472a961f22a76c49f3291f49cc0f526208cd06cf23e374a',\n '0x96bf1971597832f70f3f8b28f05448a8eb62143d84794aac5d51e15a9bedd9cc',\n '0x60279e47133333ac2ef51e662283ebcd0d486b8c88d80bc307c7ab8f469e15a8',\n '0xc0efa513b033cb5bc14f55515ad82f6bd2d021e7c49ce835feacdfcc60a064d9',\n '0x48c4e89b62ad06d2f5c8e1b1c7c48da6142a8f7b92a4b5a1d5a5799eef929d85',\n '0x6b48478d4343b7d137fa55e44dc2389b58a27e854f4f4fd232828f9e54159df9',\n '0x359b712508b0161f609168f1ab5816825f08c7594b8c00e7e1bab16174ed1faf',\n '0x9ac88ab58883d68908ea194c344454c7385b102b89b5fc8d0f08dceefb80a636',\n '0xa2dde569632012aa9d0d14646cf768612d54e2e0bdb1e1f744ae276e3b5daa61',\n '0x92b133338a98588ce2fee5b67ea84a89b7ad5c91fb165fdcf41ba067b4998bed',\n '0xadf97a9edc392407c01e6f141bbded9e022583293c9118966b14b12bc0938a89',\n '0xf5f50248f84f6ffd0d2f1e68574b3ada3d95b3d37b1d40e74963302dacac481f',\n '0x862293a36f0a4eb4b8ed30947c1073a8916046871dd1f06ea6cf5692aa7be3c4',\n '0x5844e74baf762cee8ad685836e0ff03b6760c607591488327ec2b56aad899f00',\n '0x2f215bd1d30e1307805673c1b7770f7694b54f3e49ac9cda7f0dc231216e4058',\n '0xf78a50ce1b6638b05379c63ae0b9caba5e9a6f661744ad65c70e75c7932a9fc0',\n '0xb697097ca9cf104a170154a99347d6acf255867fc6522c52fbd083bf3f3a384e',\n '0xe6c208e3e3c6fcd6d33ea7d5c47eb7f9a4991d7709dec4394e433906fa3e81b4',\n '0x116ce3c4f2b5b81b86416a5f3f4fc2ceb58cbde18b34f54d7efd6c23e70472a0',\n '0x81d026a9a00a85240e24b7c15af98560911e94dfd3da274bb6d8b91bb159f868',\n '0xd772f1b968528e6426573851cdac870d1b5d25227f36b164a4b9e892e4928e82',\n '0x30e3dc5895bacfc76f68869e9bd34a2cbedb372b2b9702184d64b855a0aa226a',\n '0xf5f333ab21222af6167b66bec121e7916f32743f2a3041572fa122d76a5f9a35',\n '0x31eb29b33ad3684b98e8a06ca1975f1dfea7fe32c3e8b68a3aa5bd91d01a1c45',\n '0x9e54a93b29cf5bb3eba74e7c02a7c713862e60a1235cc620000b4f45901d38a0',\n '0xae9b88e8e4fbd57c93ceff3d9b41b603e51c8da3b1c21e4f156e983700f5c073',\n '0x8989dd05bf56fdd5a0f5f82182c1df5a8353a08d642d2a23b4b8a9b70a7673ec',\n '0xa541939b5c3a5a6afac9f76b0a69dd2bdaa745a93838414aec7b29b19cce1000',\n '0xf31473428aa38f577aacc37e3452b94837fd235c5a5230972e2f096614f4b767',\n '0x71647021bc9d3f7a0060964efdd78c2322863ab9375ba685925aad8fb3fcb313',\n '0xc5d60dca69f6d28cd787ae34a7db9a8ba42d0c47361d0583ac931955e6e2d44f',\n '0x199ccb2498dced3fd827b37d34cea51a72b3f5f53dac462af69feb64fc8fbf0b',\n '0xbd16cb471707c2a4ff6c39ab35a87b787de846169b010496646cdc719951e19c',\n '0xf04f95d319a90d8ec55e681eead9ab00d97ba9d7f7ed76a95594dcb5b638ee40',\n '0x287516da95da33324c173d9cb342c65c9912300e7b79a190cb041d614a9690f2',\n '0x9367ebd627037ee6d7d8df20eaf709be1d982cbfe5a0301d2b495881fa76239b',\n '0x05d8866e73b10208efbaddc6094906385dcfe87c2f7c66ab7a5b3e56f8f932a7',\n '0xc6ea00d6faf2da1863dd8903567895b9dfebfbf0f8ffbf796f3c03df61ce0a40',\n '0x31f8dbc711a6245116ba3e8959333758ec5a4d8ebc9b46c272e626245fdfc6d3',\n '0x177c4c32cbd80ad975edb023cafcc4f374ed205dfa9fea64cf8f0af27341d1da',\n '0x29baeb9b687ba8b78aac843da06127bf9321b4b9b5232a551f5aeb03a6da5e07',\n '0x8d3121381cb01dd91225be3bc083f5262a20d47bbcd02c58f06d0a3b43dc33f7',\n '0x55e9cb6593ceabad88ab353d743d7bbb7ed5cd05f4fbd71d2255ac9f1775250d',\n '0xaaa3a3579fc4c4c81e062702499ae2689c5552ff602292840562e8704a6e2bf1',\n '0xfd830db36a4633a91a6b605c1b80cd8402680b5b8331ff34bc9b127df325b3c2',\n '0xaeea0e6297c73755c118d21fcfae548757f9d968e211875756a3a65f682ddfbc',\n '0xbcd10b3f7042d317d7d51d2d66fe4bda07bad87bff45e3d03edb6721d9ff5f76',\n '0x2c41339763f0b5b691acb62912b8f50edda6c24abde2a1c5a43ba2a27703e77d',\n '0x7e43c4d46b1b51844ba2905a56e6359925470349b4aea16b42a9b5fc5d8140c5',\n '0x71a51838575b1d84f536c6e75bfa38f0f456b2ce5d9142f13506dffb5bb947ab',\n '0x34f7cfee98feb049f910786ee896f906531bd6f1809108f9411c90b255e1700a',\n '0xc1667c49a85577b6a8ffc85ee2ed3b36050cdd4b2b669f72f5df8980976f7b97',\n '0xc34d260e60289405ca9f65ec7a204d21557705c6fe28f93e1b66186f682e1fa0',\n '0x567dc8e411977a099cdcbc8efcb7c769026e06188f448c4f3f03cc02e14edfdd',\n '0xa2aefd257ba33a904e0518c93f6f97029f93e0f0535666b388ca1ebe0bfb83d7',\n '0x279072e864424393e3225726153a56e205da825324ec6b9f1a2c75838fefc77b',\n '0xff77f7d4b9a651ad742faf9d4533873800b05784fd8f575129b55118b2eb6575',\n '0x6b578d0b907d2d76dde0c104c38f9ce0238e4540226d71a5069958fa6d869cb8',\n '0xb88351d2db581edf6e36fda2a4a94dc067f4084cfece020412574c0a616d8987',\n '0x5e66af700b7b7547d5ca957dffcf4271d9dfdd66f59c98dcaf83c042b338561d',\n '0x174780ee30216f330fcbf421027cca0dba62818812d2e5bbbc58df09950acbb7',\n '0x7c563c0abbf15dc9b5bdd184fcfe04efaa1bffc57e744e8bf5371b36e4652fec',\n '0x5966c7fab0dc7942738b75216d0d81d8437651d23d759bfb0093f799f960d198',\n '0x28adecf0e1c08285be83ad2fdc9050dadb84c758cc2f65f5dd6048d0804f384c',\n '0x916c164f5ada1dcf06780a3241add95c0311194922a79259b9e4e9fe504d0d03',\n '0x9ef39a7e28f2acb0fa6dfb317ce502c292e2c639de8370955db42b5bc186771d',\n '0x31ccfacfd13831cd80baa1b4ef5fc14c4118540cdaddfd21bd8b5013b1fce2cc',\n '0xcbdc3932f32dda4e4c71103cfc9786f314f2b0c22047c85372d1974f2d991b64',\n '0xd347cab4846a5ce65cf59cb2373f9d55c1dd34b9573a2195103a13d40aa3210b',\n '0xc88f72bb4a05c4ae32228250778c259b7504e4f3b9a63e20e4bd07fcd855cfc3',\n '0x99ff494aae0d1531ecf6d21b657c9e84d3584ff636b5be2a948d0a7a74319495',\n '0xa746d2f21efc0324ed30d70675df2f49127bdd335d0f6179cf304952bdefa41c',\n '0xaca2fb2a50aa536a7a76fa6c36f12654008298499308126c7ce6ebaf788e1d20',\n '0xd06ddd42c1813c056282590e85b099fbdcd72330e88ba2723f1eabae3e65e12c',\n '0xdee17c82bde5a23d82ffb2a12f8932802f664817d7233ee1b021fd582ff70f61',\n '0x45571d45ef2763bc5b609150f0d3cd39d142fd5e293907afa1be6482a97af384',\n '0x85cf8d914fe361549a6367b1f29562c7e9273c6e19466dae2b638e8ea5a2ea30',\n '0xc3a065fd32751e6a70c12fc6894632849e72f4f6cdacf49f8aa4418c3263f050',\n '0x86ec16fce6a1ad6767894b21e35293e31b7fca805885c9e2e6eddae3f9992eb5',\n '0xcf40f783d665a7e7e3573421d33804658a032d5f346665434161dd1899abcd51',\n '0xd9040952cef60d5383d3f7080b44bb826f9ffee365743682d596cbe915f706af',\n '0x01ea1910130579ee26b742a5105d757487d766b2a70022ac40ecb1340b156627',\n '0xba8b73c487d811377d1628bf416219ef44973ea929ca5728da6a59abd6a28ca8',\n '0x28fb65d1028df589d1e360c06bd5fb16130f97650cb0d3f8611d36cb89293ffe',\n '0xac50876a6c88c90a4481cd4c26b417633348ca9c8fd1e1113216ad465467aedd',\n '0x625f07d52a4f02f602ee7d81ccf33b94800ee65be1d3cb38c5eda186d274f916',\n '0xb12ca0d1eae0f3b22e55c398423b096ea3639b10ea02e58f00d86232f3282d50',\n '0xf6423ed05ab9e24213631f78c1699020391ff9ae0bc90a067679a5b6c904f98d',\n '0xc556c2cd102d3b631fd6b3abb11e398ff574abe79f81741a9cc6ccf204a760ac',\n '0x3388c0d6fa0856270b9a04441dff431371f1b791722487e320e67d31401a4cc3',\n '0xf6024a5943294ead5348178e55b6f89448e1a7a6d8208559a83ee6ca277da5a7',\n '0x287fa3791bfa522685e6033ea432ddf7144446c1342710da043c3b535784bca2',\n '0x95374a8e2e0944d1d498c1b1057ffee46773532c6e6909f3d75a8e1d2f4699a9',\n '0x7c1875b691c08401a751ec8e62bf1cf5a8357bf63f8be7e9d62e104eb8aa2164',\n '0x507334853ed6666aefd3e01f7f14b0246e66b9f1e1d4161b2c3f6342b1c76404',\n '0xe812325a045a06337319acba228bd5e92b5ac0a82fec5c66e759c37e50f458cc',\n '0x7d77ffda79a9508ba5ad0443a36f6c24ddb2773eec595f7addb3dc9c29e68dd8',\n '0x685feda36ef73973f76bb76e0e9b49cedacbd2a0feeedf340d90e1d23de96c6d',\n '0xbad15bdb622b66a264a74427f7c2f53edc3d2ca8bbf94811f3d82b81921dec15',\n '0x3ca08630c1181e1d4f81033e650449c942b2fbf586a836539cf1fb3eec3f6b93',\n '0xd9829baa96b5d95987faf2b669bb1a51fcf7cff4f4f268420abebb667fa2cb65',\n '0x03ffe7b58799af94a4b6d95a88472227f2d571be0cab5fb63f8f2a1d52f0400c',\n '0x236ebda8ae9019fbdb1f54e3dd861ea05bdb5f137d456a6bec214d68a667b271',\n '0xdc34ab69a8645c0e9f9be82a67a6c24b331a8db92d30cd1f9151f21ad5077ad9',\n '0x014f8e0d29c898f17db11feb3881d423bda317ca5b184cf4c1a825953fdbba8a',\n '0x40c5c652a9f16f56f7d10d9a7f1b25efa22311314588725c15c026ca9892bd2f',\n '0xdf32dcd34334e8a4f0687a558998053562fc172704a37195a943f1ba543f4e61',\n '0x1711ce778391feff96534a16ade16eb89ad349d35ba5cd18045e14fe9fc1e32c',\n '0x61603c9bd5c6c2931d16ef34daf7176630adfbc2c19392e738f399f7d6db2abc',\n '0xdce76d5e86ad593c94610af72e604bcaca895a96d34b6d2afb18221de9ecf06c',\n '0x3670187c280e8d1a1d2e52354a726c3cb8e4b3c71eb5d2b26d2a9eb888c25c1c',\n '0x6a26a6fdde27fa259066b867d4894f07aa1f0c14ed29eba775087c3c48453cff',\n '0xa28dd0df79904c89a9527cf44c7afda02cad5f99df06e284c199275abad8c140',\n '0x43e1a7efc62a638e7c3f580757d0342321a48b445bd25ea27d45813856b943a3',\n '0xf5b2cc37dc0ba30fc8bcd52414085b4157676c5ebd853647299108a16a3fe27f',\n '0x7049a070c54d156420254cc187e2d4d1c6ed004e3520b476de93a9773cee6d04',\n '0xc7e01d75c9b048d186f53463c321b4be7a994d3372d98539f9d0e9a9aae1a61c',\n '0xbb558040e88fcefa7ca608d583de78b6f3a1704a735d3a4d17db0ac4da9946ab',\n '0xa37c06c3aa7058d8bd13a6b996e8e16a6876e5e0684204d5ffa95fe4382d31a4',\n '0xf6b89f4199d1cce55fa738a13fe454e0f71e50213b2cf82e2e26eca0f6367bf7',\n '0x9589f0ddc92b2388c161c54da76a6800ba1cfcdd48318c3af41f6cdc1d2524ae',\n '0x65b3a17d9f29c2d1e19f810b958720091f09cbc807d7c5b65e464cb6a531d7dc',\n '0x1f7fc691c4ccd1ff7137b31678d88f2ddadb0a5bb80bf88c27e0ff7eca5f8ae2',\n '0x18d947465813689e3b378c5ff0d5979b9ba99a40eb1863680ed18dedcc857bc6',\n '0x94e4b2a65ca9909de4c9a6f8e818976d2fa6242db5af20a64843e9bdf70d2e9c',\n '0x3e7b7af2c7a8957be6d5c2ef4836e3a3271c31208f9b4ad89b5c39c030685222',\n '0xf4e9a326bf8842a278858ce2a7d738734670e902f7c6b39e9c4202ba293cb8f7',\n '0x2243df484fef74dc9ac04fa60dca861ad9538f5e36d8c70e09fa52197f7d0552',\n '0x31e3ae3b2e7f90f49b15bf9e4f475506f609fa8f6e5bf9923379bc19fc2a9ebc',\n '0xeb87e41be92171ea12c1abca2dc3d426c023c0f54aedb4c2dd9d4174143a7690',\n '0x3caa450385408f0486fff011f4857129afdbcfe590811ab68d42b260102dca9c',\n '0x59a6dec1538763c70d9c71741eb3cf79782037698d5cc5ac9cc9eb2c1b0fa543',\n '0x3ed4ee6715a60e55504ddb9a06e08304aea920e9fc4e4a1fc14e652a98a9f1b1',\n '0x1d21e590752e18b255f213071e59d1597c7b5a1b33ca17e4813579e8e0769884',\n '0xbe98b6b81335ce46504bbf80d6065c22125dedb4fc709ef12ba6e2ea8236b1a6',\n '0xaff41e9c339717afca9172d5dd0d59c8992a51b1d1b17cc11d6deea14f2a75ae',\n '0xcffa378cb62d447aa872fc1f4bf22f512be1237c29d914536c1ccf96dbd370b8',\n '0x5d3ff2b806abb2471ac1dd2c3e1cedcf967d1ab95fa8f08265a839a495aa0218',\n '0x6706932aec74a2dbe9651f39948e697540f0fbb6815388615c0b817a17e0a411',\n '0x65bc4179932308ed1fa5eb07f9183579494b76d540e57bfc98285a0a6b4fce01',\n '0x0b08b44ae14afb1eafc07e63d0fb95a6abade8a9933064debaebdf6b31169f8f',\n '0x9b0bd297a1f07c944b05dc04ae8f777592b4400e665fb4e41256be26e3959bc8',\n '0x74fb25ad2cf164c94a26e9c05880450c86f6497f74019fa3a7565f90ca02dc39',\n '0x2664606ffa1355f4605bf80cb8e547c45af0e34e807e7cbb29a7676cea695221',\n '0x69bed72b312b2f1aa3ac62c7704da7ccddcd6aac1f92b88b6ec7c208421c5117',\n '0xa598eece0e62b44b0bce9d0ea5fb984f115f517e36f461d571ca35749fa7758b',\n '0x6fc24ef9343e4197ca5c0242c76e429fbf0185498ca1b6797e89cfa9f6732e50',\n '0x1cc2c737d3aafdd06c289ec2367b90cf7a1f62eeb4d3f6442d874b09aa53a4b2',\n '0x9dd3b159a97a2ba4ea9e94a25ca28f61987a45770cc13db42b5b09c4ded61fa1',\n '0x546826593c5d3b888871c349b705b1a3b315ad61161a3aed924808a3f9a4ff76',\n '0x0f36663a693c3563709eca17535a12b619dccdcadba2a50229e588a6bc37d237',\n '0x0d8e75ca76578def2e1441ab578bec2799f490001b2574d971cdc76db1817222',\n '0xcb4b240aafd110a384405a0a2ead9d384c86aa3b191bcadecee115684639a3ac',\n '0xcd89234ab18701b3fcf548fd2f1a9229d3e9d10e743f49498d8e0395366d6b51',\n '0x3c64226adb8e1cff594f2b99b86d09babe4da2af456bde9d541c10318070600d',\n '0x8d7449debe56f5bfe32ca31c73443b679928f60918f1a49fcf2430fa1059078f',\n '0xefbf34b72b3e54940908ef6d4254d98f9b1e7457b655557bb1f222fe062f4330',\n '0x27e688dd9dc815cb95a5064d7278a0f84bb539de3ca0cee803ce82ae15786d82',\n '0x69097b8646eba14e38703c497fb447bbea26a8b114c5d14a899e57508e656513',\n '0x9bcb862b7efd0b23059b884c5922e9b461deeaf6097bccec2e39ebbd52a805c5',\n '0x98c84d041704af9e42d649fc251c94dba2b23ed551ddad4857774fa0691631f3',\n '0x89747176dae35ea09c8aa26a79947c63340fd4e2ac2ec14c21bad63d3721136e',\n '0xe92eba0b0b9bf3fd2d1d4b188ae8e80e509652b2500f96d85763313d2a3be504',\n '0x2baf9c63033486ea06d6a8fc669c7b771003bbfa728c63d2b5a71a2b89274580',\n '0x81f5ad222c607c5de4a1d41d376a12410f65275135f79c898039ce2473430425',\n '0xc322f5be3bbc4cbd1e61a1bd7baa755472a8ed8076fdd920abbc67786f965717',\n '0x6a484722a593e059fc72af1ea10d5835d901f7c2f1b7cc39245cb602785aa1bc',\n '0xc65eadec3bf32b4e2145f3fcb3127c9706a3db77d89eef02418fcf9eb31a581e',\n '0x9859e19b53b530d0e20fc912450311d5a91571f45646f085256ac9e596a3fd8f',\n '0x93eb2653b2ba3d5a9c401100ecdb107af7865116c74ba8c8e765d179f1d3fb64',\n '0xd2c7242a1eb8679df04e2f45a1da2129996ad940cad4932c0edc8a1e76421680',\n '0x36830d9c2283c059cf4c4f8d171afb010b32d3e3daa88ec37b6858d1da9b5b1a',\n '0x2b1ef3e31d2486e1a3cb65a76b37b1f20fb8e03ff60f2b84461d867f3f2a54cb',\n '0xd2a51f1330afc733a81af47fea054a9058b0d11d655b3031d31319c258bf1224',\n '0x8a3c927bda23c44c829b130d089e6699fb5c095ab4b9501b1fb1f1ef62470d1f',\n '0x62f430868ede49360e922dfd1f95b14ebbfef298370d7598203c2b87b50672ba',\n '0xe74a1649c34e45aa1cf418281e7ebb8fd4d02a8fb14810d1ac6d4286a672e8ef',\n '0x6247c50c371e4d47072987990c8231825dce17e826bf2cad0e671fc66a8bcefb',\n '0xfe23dbe47a6e6659152f8595721e920eb5bc9124f11de484f2f5d263464a3912',\n '0xc47d0a138ecbcb92bddf760a6d59b3da77e1b04285c0bebe61d5e8783d2e5a0a',\n '0x395906d239714615321b3c2bb84b8bec2f5205f33aa95f193c10db08ee02a709',\n '0x1903d452744f666163d8f9cdac38bd655fdc3c1c4f3aa953f4a27e4663f56fc1',\n '0x60134b111a0334c31fe6301cac9e15ab63f4e625f5f768452b1e61a527586c96',\n '0x15940de918a14451d21efddc5e841c1cccab6a1c2b73a4e5fb878e56ae6dcfe0',\n '0x401dd4ef5202fb3f4510d5d516305383cbbdc25ebeb45f5d8e946b0b4898dda6',\n '0x0c7c2a9363d17f62895b4c8fc5a1fc7b1814a52c19094d4b77042b40091df81e',\n '0x56642334e1479143b10ac5be512b54558c18ccf7214cee2b79d5df4cfd453905',\n '0x75614cd6c2242e994e094634a735b6255344f75e0fbc7d7bcf8dc386e80aa4c6',\n '0x392610ffd70b3356d83401334e8e9ac9fcce84924b6006180f40f79b387ca2ff',\n '0xa71934c92610b1f01316b898de3d6d9dcfe873d7c172e20a90a1ce77a29f75e6',\n '0xcb87e2599b9219cb96415f468f540fe88ef4a7d46c804d7e522e42851859f297',\n '0xf5eaabeaff166222ef74b1a8c9ee1381c594add56b4257b999e7c8867c49434a',\n '0xed7cc43327a290d9caacfa5dac3e2f75a0a07f112a9397236c9dc562f9bec62c',\n '0xac789923e6ababf035ca798f908f3764b454ac073977eebbc3f7557e3de476c8',\n '0x6b4392e29deebb896e76593d8d80481ec44255e4719562259c447ab485cf6b5d',\n '0xb3e25ef7ee325b00edf43db1c360880f388f4f835ca19b88b97eeec30716d297',\n '0xc14777550d70fef7dae84e6d9b3370648eb902830f11538fdd46eb2941390ac5',\n '0xc5853d609ac0122be7ffd4353498a4b68e0f0923c9ee5042a6e5ff15e54228d8',\n '0xc32b10281f3f379dafdc531356974325cf682ad2e7f92a1de5b83a83da27cc8b',\n '0x11bea3bb70bea784f2f4084e5b82f27036d4b7a52540847ca30cc9d2ba907d05',\n '0xd6986524a38ace9da5e2b67b5a99bdc5f4d2502d5999ebd6a30b03fee6dbb7ca',\n '0x4f49c67c819e509fc42cfa4abbe912cf728f51d320a46f746762f191a76fa14a',\n '0xa681050c85f988b5ca89cd412fef8df2a643e863cd2672f316ab72b5997b1a6d',\n '0x9d773089753ca49222d1cf3a2a6a71851e0f86b4ac154981d01f948b6a8c35b9',\n '0xbddfeeeab0be4e219b5d57e80d477d23176ec077eccde0dee21748bc060c399b',\n '0xd97974ccf08b4003ef9a51fca6b7fd075dd08e9a5c1b2c9e301d5547b84e8735',\n '0x618abc972b3b82ed87432eed620569442db683c57cf5d41736bced42e6949e54',\n '0xb05cf1b9fd95653e221ae6715a1b8edd33dd291238b125bf7971fd05fda7209b',\n '0x5df0ca32c421ea31842d1e3430f5ba3808e781bbcf124c14bc70283663aef91a',\n '0xbe274406a4b2258d8e0f91fc7a82686fa90098b83aeda281ea960e46812e3709',\n '0x579caeda4c5f98f3e16b01a4aab285d704453f993f802b805af3c88c980339af',\n '0x6de2d32338a2bb814eb736e1ea5c14bcfe2e7b55f33571666fff6f5c5f72411b',\n '0xabbd01b1a29cfdcfbfb36533587aa87e078f85ff646cdfcdbc7d44c78b94eefc',\n '0x98c5ea259b5e40c74f531921fdedd59bba48481cc87ff6d07d89d30fab317988',\n '0x7c8ffd236a9170cfa6bfe103bfed784d778d61a37c58322d016176c39cb17f82',\n '0xa0929e138d49474c9e775e892dd21f2922411c05ccfcaba312bd6acfb87a097b',\n '0x5bdedf0c94bb3a9dac87bb1d687dea74ce954859009375062969a0491cb85a15',\n '0xe27b4212a71bd4f1c351a9d07ceb58626d9ad51ff9535aff4921d44afb8f0169',\n '0x09f7eaf0ebe32f1ddca601cf3da142515959c19a036d574f11cfc7fb8d1b01c7',\n '0x6ee2fcf83b663640cce7b6fab86a515a51630028d4e4c1ccceb37b26b33b1b01',\n '0x21c0920575b6aca981a64e29c198aa9e80142c321d0492ea4b79ddc2014296c8',\n '0x9081bee95d7d6dbc7d1e6ac11ad760fa95ae7be3e8900ec931bcee3c1dafab77',\n '0x361cafed4d8eb00f41b62b286f1873de1d300025cc44ad7716e0060c942484c1',\n '0xefc99840847f947d12306f8ed652610f105c4a147e18bfe91c52b982e9da0401',\n '0xf19c5802738ef9a161f03582cd5aecc3cc426752a55268eb0279b81e137ad807',\n '0x29decce15bea82b1969947692637aead7426da987fcf01701ea9e3feb287cdb7',\n '0x119ab75b35adeb50bb9a055ca47271dd75c04ab382687c7833326a2b7a2a3918',\n '0x6847ee2916412b5f2ac28b4778f6e238516857ae321e9cf572469f51495c88ac',\n '0x54fb000c399d10ccc30774ce3d053fc65ed34084b4328527eb22d0ca1c8245ff',\n '0xd997dad12423e918d2bd7da558fdb987327545c4bb1c4914a161b110dc8478af',\n '0x7cdb2b4a3f8fb126bc7571f944d4d5eb8aab4aef6306f180c779c1c7c62b3497',\n '0x83da3e3d7d044b4c8ab075dea17d92b525da1559380cf52f0295bdbd928f042c',\n '0xff8bd08a639d88c6eb641c28dc802630c6e26d84876f2a2e441b19a0dd59a935',\n '0xb1289b548c4b52c2f5271a7041418b268cdd9d9e32862bca0112e0b20653cbff',\n '0xb09e5660fbf11ef978b7320b23227bd5d3b4c0874842a55c99f7ae17845975ee',\n '0x301592e7b9a7ecd2d2b2f1e3a582390ae93094478622e789b6a0530e83bc6ebf',\n '0x02a9ea5b624d69d3c654da52ba6935cedb2fbc6de17dc7bf7fbdac15e3cdc53c',\n '0x9698df2b74fd3ebd01918ed00e6d44646b1d58492e4f2a5560af936242088786',\n '0x3eb61539c897d3df7ad02e939582826f99281f5770cd4bc8f5f686d4788bdcca',\n '0x3ef3374f5676e4c5b05136ea0c089e798aa586b1eb056de3b5968c7e52dcf972',\n '0x6a581ab2973a7130bbf0e06a1e8021e32b77f18910f4f3fad1aebb35d3d365cd',\n '0x45d0d9ad8c4c0c1ab04084a8af80ed37d914b49108afb7bdc36502e75b4bb02b',\n '0x1b8658202a6e5bc4cf6553e5ff4c7ff981ab600cd42a36649ff00c51c3f5b8bf',\n '0xd4d826d72a47067ae98c0af1dbadf7c9e633c48524e3faee55cd1ded559cea08',\n '0x63b0b42aae05331aca88c99666355f2bf914223bb9bdde83f964a7d9de1b4919',\n '0x4d717aafff19007ae91a3fa224fbb9d5abdbbd26962fa3a27ddcad514b49a524',\n '0x33c21b1d779d12638ac2026aa2f0c9667f6773a7bb38c53f86265c08ea65bb63',\n '0x5906dd9337d1e1ba8aa9de85a0de18a2a458976b4e33f63994a519ae1affbac8',\n '0x8cbc42a19ad23c39486dc11e5418c237b2c4e451c894c5b9dd4693530af97eeb',\n '0xe33361ba098905313d06053b00fa45285d2f2662b73c86aacbdc8cb111954ad9',\n '0xf91ce60eaa1524d67c1a2831b30f9621e0b13e5c8d7bf894ec7471276a0a3737',\n '0xf1adb4341803cb8f8389fb57b2f2ba90a5faf7d3d7e6051e2f3c0395bfa74b69',\n '0xea2f175ec0210ff555181eaa8c65188d7d4f3b1b4b0fc40bdfed083cb434122c',\n '0x91d40675821f83213847423bc3b48e7a5283cd6ac94ed2d30b7ae51e9a308178',\n '0xdf81ed4ea7bc40b4eb9c495ce574b00a5a349a4ba4ee972af3d34f9f5ebda8f5',\n '0x1c7ba0adeb89f2e9bfa5a0553441883d81e6e54bc8d2106e5a21f3700f93ea35',\n '0x33f9d935a507b3097131429c6e27d78d37df0535303a6c4b3505ab606176c126',\n '0x8fc357727500d2725a4dc30b7856459e8da53e7bcc2dc10d7054a21f37d1bd62',\n '0x84cc8d10bc59d0b3b6b1097918c7491d7431895e2c9c71130f10a770a33f4137',\n '0x51292d11820865761271aa100989576e40552301a2ebc9d5d17e2d1595d7f494',\n '0x84cfa79ca7fafe29880c3e55f8c237898363556c4714ea864e220966eea5622d',\n '0xc64c745778dcc0ec4d179f8ebe785c82768712b7728ffd827b84f2cc90843e0f',\n '0xd5a2eb8e085b5125b9a20783b69a8488fc93ed305b624a753c220bbe0e52cc21',\n '0x04724d488d87375c6cbc054cdf53ba051fdfe6767394986bdf36af827f0183dd',\n '0x32addf4a13591f3cbe55089d1d3a641d60414b64245a86e47cfbe3f4377a8ffe',\n '0x406267e448681959169f4b847db26bfa75351c9e2ce850cb1d8c47f7829e8291',\n '0xd2bac606f8f304108971b96f61e58702ba223488e9c4389b414239b5730656f8',\n '0xe62105adfb35e527fff31b4bd1b52e691d28c11f7c1dba7d9ea6a861cdde991a',\n '0xecb0cf7a1b4722b4c65e3267905acf5b85769a94c8ff6ff7f74f094986b3591f',\n ...]"
     },
     "execution_count": 37,
     "metadata": {},
     "output_type": "execute_result"
    }
   ],
   "source": [],
   "metadata": {
    "collapsed": false,
    "pycharm": {
     "name": "#%%\n"
    }
   }
  },
  {
   "cell_type": "markdown",
   "source": [
    "## Parsing token hash"
   ],
   "metadata": {
    "collapsed": false,
    "pycharm": {
     "name": "#%% md\n"
    }
   }
  },
  {
   "cell_type": "code",
   "execution_count": 67,
   "outputs": [
    {
     "name": "stderr",
     "output_type": "stream",
     "text": [
      "100%|██████████| 241/241 [05:56<00:00,  1.48s/it]\n"
     ]
    }
   ],
   "source": [
    "all_token_hash = [i for i in set(all_tokens_user_df['token_hash'].unique()) if type(i) == str and len(i) == 42]\n",
    "def parsing_tokens(token_hash):\n",
    "    token_dict = {}\n",
    "    token_dict['token_hash'] = token_hash\n",
    "    req = requests.get(f\"https://etherscan.io/token/{token_hash}\",\n",
    "                   headers={\"User-Agent\": generate_user_agent()})\n",
    "    content = req.content\n",
    "    soup = BeautifulSoup(content)\n",
    "    try:\n",
    "        token_dict['token_short_name'] = soup.find(\"span\", class_='text-secondary small').text\n",
    "    except Exception as e:\n",
    "        token_dict['token_short_name'] = e\n",
    "    try:\n",
    "        token_dict['token_long_name'] = soup.find(\"a\", class_='mb-1 mb-sm-0 u-label u-label--xs u-label--info').text\n",
    "    except Exception as e:\n",
    "        token_dict['token_long_name'] = e\n",
    "    return token_dict\n",
    "\n",
    "token_names_df = []\n",
    "for token in tqdm(all_token_hash):\n",
    "    time.sleep(random.uniform(0, 2))\n",
    "    try:\n",
    "        token_names_df.append(\n",
    "                pd.DataFrame.from_dict(parsing_tokens(token), orient='index').T)\n",
    "    except Exception as e:\n",
    "        token_names_df.append(pd.DataFrame(data=[token], columns=['Txhash']))\n",
    "token_names_df = pd.concat(token_names_df)\n",
    "token_names_df.to_pickle(\"token_hash_name\")\n",
    "\n",
    "# Add token name\n",
    "all_tokens_df_2 = all_tokens_df_2.merge(token_names_df[['token_hash', 'token_short_name']], how='left', on='token_hash')"
   ],
   "metadata": {
    "collapsed": false,
    "pycharm": {
     "name": "#%%\n"
    }
   }
  },
  {
   "cell_type": "markdown",
   "source": [],
   "metadata": {
    "collapsed": false,
    "pycharm": {
     "name": "#%% md\n"
    }
   }
  }
 ],
 "metadata": {
  "kernelspec": {
   "display_name": "Python 3",
   "language": "python",
   "name": "python3"
  },
  "language_info": {
   "codemirror_mode": {
    "name": "ipython",
    "version": 2
   },
   "file_extension": ".py",
   "mimetype": "text/x-python",
   "name": "python",
   "nbconvert_exporter": "python",
   "pygments_lexer": "ipython2",
   "version": "2.7.6"
  }
 },
 "nbformat": 4,
 "nbformat_minor": 0
}