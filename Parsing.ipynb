{
 "cells": [
  {
   "cell_type": "markdown",
   "metadata": {
    "collapsed": true,
    "pycharm": {
     "name": "#%% md\n"
    }
   },
   "source": [
    "# PARSING etherscan.io\n",
    "\n",
    "I made an attempt to parse more full information about user's transactions."
   ]
  },
  {
   "cell_type": "code",
   "execution_count": 58,
   "outputs": [
    {
     "name": "stdout",
     "output_type": "stream",
     "text": [
      "The autoreload extension is already loaded. To reload it, use:\n",
      "  %reload_ext autoreload\n",
      "Modules to reload:\n",
      "all-except-skipped\n",
      "\n",
      "Modules to skip:\n",
      "\n"
     ]
    }
   ],
   "source": [
    "%load_ext autoreload\n",
    "%autoreload 2\n",
    "%aimport\n",
    "\n",
    "import requests\n",
    "from bs4 import BeautifulSoup\n",
    "from application.load_transaction_data import load_ether_data, load_token_data\n",
    "import pandas as pd\n",
    "import numpy as np\n",
    "import re\n",
    "from tqdm import tqdm\n",
    "import random\n",
    "import time\n",
    "import warnings\n",
    "\n",
    "warnings.filterwarnings(\"ignore\")\n",
    "\n",
    "transactions_df = load_ether_data()\\\n",
    "    .query(\"Status != 'Error(0)'\")\n",
    "token_df = load_token_data()\n",
    "\n",
    "transactions_parsed_df = pd.read_pickle(\"transactions_parsed_df\")"
   ],
   "metadata": {
    "collapsed": false,
    "pycharm": {
     "name": "#%%\n"
    }
   }
  },
  {
   "cell_type": "code",
   "execution_count": 69,
   "outputs": [
    {
     "data": {
      "text/plain": "'1,355.117744540135181807'"
     },
     "execution_count": 69,
     "metadata": {},
     "output_type": "execute_result"
    }
   ],
   "source": [
    "expr = \"TRANSFER  1,355.117744540135181807 Ether From Wrapped\"\n",
    "expr.split(\"TRANSFER\")[1].split(\"Ether\")[0].strip(\" \")"
   ],
   "metadata": {
    "collapsed": false,
    "pycharm": {
     "name": "#%%\n"
    }
   }
  },
  {
   "cell_type": "code",
   "execution_count": null,
   "outputs": [
    {
     "name": "stderr",
     "output_type": "stream",
     "text": [
      " 15%|█▍        | 1110/7418 [19:24<2:01:13,  1.15s/it]"
     ]
    },
    {
     "name": "stdout",
     "output_type": "stream",
     "text": [
      "could not convert string to float: '1 wei From Wrapped'\n",
      "Error on 0x90c67a86473a56f543d0984e569e60f4b70ea85a623342c822bc0b4d5821ce7e\n"
     ]
    },
    {
     "name": "stderr",
     "output_type": "stream",
     "text": [
      " 15%|█▌        | 1129/7418 [19:46<1:41:46,  1.03it/s]"
     ]
    }
   ],
   "source": [
    "from user_agent import generate_user_agent\n",
    "def export_transfer_list(transfer: str):\n",
    "    # try:\n",
    "    #     amount = re.findall(r\"(\\d+\\.\\d+|\\d+\\,\\d+)\", transfer)[0]\n",
    "    # except IndexError:\n",
    "    #     amount = re.findall(r\"\\d+\", transfer)[0]\n",
    "    amount = float(transfer.split(\"TRANSFER\")[1].split(\"Ether\")[0].strip(\" \").replace(\",\", \"\"))\n",
    "    from_ = re.findall(r\"From (.*?) To\", transfer)[0]\n",
    "    to_ = transfer.split(\"  \")[-1]\n",
    "    return amount, from_, to_\n",
    "\n",
    "\n",
    "def extract_token_info(token_url):\n",
    "    result_dict = {}\n",
    "\n",
    "    # Parse from and to\n",
    "    try:\n",
    "        result_dict['from'] =  token_url.find(\"span\", class_='hash-tag text-truncate hash-tag-custom-from tooltip-address').text\n",
    "    except Exception as e:\n",
    "        result_dict['from'] = e\n",
    "    try:\n",
    "        result_dict['to'] = token_url.find(\"span\", class_='hash-tag text-truncate hash-tag-custom-to tooltip-address').text\n",
    "    except Exception as e:\n",
    "        result_dict['to'] = e\n",
    "\n",
    "    # Parse USD value. Check, where or not does USD value exist on this page?\n",
    "    try:\n",
    "        token1_usd = re.findall(r\"\\(\\$.*?\\)\", str(token_url))[0]\n",
    "        token1_usd = token1_usd.strip(\"()\").replace(\" (\", \"\").replace(\"$\", \"\")\n",
    "        result_dict['usd'] = float(token1_usd.replace(\",\", \"_\"))\n",
    "        result_dict['amount'] = token_url.find(\"span\", 'data-toggle'=='tooltip').text\n",
    "        result_dict['amount'] = float(result_dict['amount'].replace(\",\", \"\"))\n",
    "    except (AttributeError, IndexError) as e:\n",
    "        result_dict['usd'] = 'empty'\n",
    "        result_dict['amount'] = token_url.find_all(\"span\", class_='mr-1')[-1].text\n",
    "        result_dict['amount'] = float(result_dict['amount'].replace(\",\", \"\"))\n",
    "\n",
    "    # Parse token hash in order to parse full info later\n",
    "    try:\n",
    "        result_dict['token_hash'] = token_url.find(\"a\").get(\"href\").split(\"?\")[0].split(\"/\")[2]\n",
    "    except Exception as e:\n",
    "        result_dict['token_hash'] = e\n",
    "    return result_dict\n",
    "\n",
    "def extract_tokens_info(transaction_hash):\n",
    "    req = requests.get(f\"https://etherscan.io/tx/{transaction_hash}\",\n",
    "                   headers={\"User-Agent\": generate_user_agent()})\n",
    "    content = req.content\n",
    "    soup = BeautifulSoup(content)\n",
    "    tokens_df = []\n",
    "    bad_tokens = []\n",
    "    errors = []\n",
    "    all_tokens = soup.find_all(\"li\", class_='media align-items-baseline mb-2')\n",
    "    for index, tokens in enumerate(all_tokens):\n",
    "        try:\n",
    "            tokens_df.append(\n",
    "                pd.DataFrame.from_dict(extract_token_info(all_tokens[index]), orient='index').T\n",
    "            )\n",
    "        except Exception as e:\n",
    "            bad_tokens.append(index)\n",
    "            errors.append(e)\n",
    "    try:\n",
    "\n",
    "        tokens_df = pd.concat(tokens_df)\n",
    "    except ValueError:\n",
    "        tokens_df = pd.DataFrame(data=[transaction_hash], columns=['Txhash'])\n",
    "\n",
    "    tokens_df.index = np.arange(tokens_df.shape[0])\n",
    "    # TRANSFER parsing\n",
    "    transfer_text_list = []\n",
    "    transfers = soup.find_all(\"li\", class_='media align-items-baseline')\n",
    "    if len(transfers) > 0:\n",
    "        for transf in transfers:\n",
    "            transfer_text_list.append(transf.text.replace(\"\\xa0\", \"\"))\n",
    "\n",
    "        transfer_df = pd.DataFrame(list(map(export_transfer_list, transfer_text_list)), columns=['transfer_amount', 'transfer_from', 'transfer_to'])\n",
    "        tokens_df = pd.concat([tokens_df, transfer_df], axis=1)\n",
    "\n",
    "    tokens_df['Txhash'] = transaction_hash\n",
    "    return tokens_df\n",
    "\n",
    "all_tokens_df = []\n",
    "transactions_list = set(transactions_df['Txhash'])\n",
    "for tx_hash in tqdm(transactions_list):\n",
    "    try:\n",
    "        time.sleep(random.uniform(0, 1))\n",
    "        all_tokens_df.append(extract_tokens_info(tx_hash))\n",
    "    except Exception as e:\n",
    "        print(e)\n",
    "        print(f\"Error on {tx_hash}\")\n",
    "    pd.concat(all_tokens_df).to_pickle(\"transactions_transfers_df\")\n",
    "# extract_tokens_info(\"0xdf08f1b6048a3c151737d797c5a5da5892cff66dfdfda319d4a260f358196c4b\")"
   ],
   "metadata": {
    "collapsed": false,
    "pycharm": {
     "name": "#%%\n",
     "is_executing": true
    }
   }
  },
  {
   "cell_type": "code",
   "execution_count": 74,
   "outputs": [
    {
     "data": {
      "text/plain": "Empty DataFrame\nColumns: [Txhash, from, to, usd, amount, token_hash, transfer_amount, transfer_from, transfer_to, transfer_amount_prep, ETH_amount]\nIndex: []",
      "text/html": "<div>\n<style scoped>\n    .dataframe tbody tr th:only-of-type {\n        vertical-align: middle;\n    }\n\n    .dataframe tbody tr th {\n        vertical-align: top;\n    }\n\n    .dataframe thead th {\n        text-align: right;\n    }\n</style>\n<table border=\"1\" class=\"dataframe\">\n  <thead>\n    <tr style=\"text-align: right;\">\n      <th></th>\n      <th>Txhash</th>\n      <th>from</th>\n      <th>to</th>\n      <th>usd</th>\n      <th>amount</th>\n      <th>token_hash</th>\n      <th>transfer_amount</th>\n      <th>transfer_from</th>\n      <th>transfer_to</th>\n      <th>transfer_amount_prep</th>\n      <th>ETH_amount</th>\n    </tr>\n  </thead>\n  <tbody>\n  </tbody>\n</table>\n</div>"
     },
     "execution_count": 74,
     "metadata": {},
     "output_type": "execute_result"
    }
   ],
   "source": [
    "transactions_parsed_df.query(\"Txhash == '0x52b25346387d60c526de43ec5ce71574852cbe40bcb2cec8aed9b40ce7d52996'\")\n"
   ],
   "metadata": {
    "collapsed": false,
    "pycharm": {
     "name": "#%%\n"
    }
   }
  },
  {
   "cell_type": "code",
   "execution_count": 77,
   "outputs": [
    {
     "data": {
      "text/plain": "                                               Txhash  \\\n0   0x4c3b415bb98370a9ef572567a4e13b61759763c08192...   \n0   0xdf08f1b6048a3c151737d797c5a5da5892cff66dfdfd...   \n1   0xdf08f1b6048a3c151737d797c5a5da5892cff66dfdfd...   \n2   0xdf08f1b6048a3c151737d797c5a5da5892cff66dfdfd...   \n3   0xdf08f1b6048a3c151737d797c5a5da5892cff66dfdfd...   \n..                                                ...   \n0   0xacdcf3b9346cd26b0eb80ee6d000bf463b9eee29ec7e...   \n0   0x624b45fa83aa2506e5accac1f6708c702159b826ef08...   \n1   0x624b45fa83aa2506e5accac1f6708c702159b826ef08...   \n0   0xc3499213c05aff45629def03167afa1845fa67803c71...   \n0   0xea9e347f26dd8698b6e90ac4009c6c1f9bbed26e6af1...   \n\n                                          from  \\\n0                                          NaN   \n0                     Balancer: Exchange Proxy   \n1                  Balancer: ETH/USDC 50/50 #7   \n2                     Balancer: Exchange Proxy   \n3          Balancer: PEAK/USDC/ETH 30/40/30 #2   \n..                                         ...   \n0                                          NaN   \n0                        Compound: Comptroller   \n1   0x99fd1378ca799ed6772fe7bcdc9b30b389518962   \n0                                          NaN   \n0                                          NaN   \n\n                                            to        usd        amount  \\\n0                                          NaN        NaN           NaN   \n0                  Balancer: ETH/USDC 50/50 #7      24.06       0.06177   \n1                     Balancer: Exchange Proxy      24.12     24.136325   \n2          Balancer: PEAK/USDC/ETH 30/40/30 #2        8.9      0.022847   \n3                     Balancer: Exchange Proxy       8.94       8.94618   \n..                                         ...        ...           ...   \n0                                          NaN        NaN           NaN   \n0   0x99fd1378ca799ed6772fe7bcdc9b30b389518962      10.53      0.079894   \n1                         Compound: cETH Token  399162.61  32302.250466   \n0                                          NaN        NaN           NaN   \n0                                          NaN        NaN           NaN   \n\n                                    token_hash transfer_amount  \\\n0                                          NaN             NaN   \n0   0xc02aaa39b223fe8d0a0e5c4f27ead9083c756cc2             0.1   \n1   0xa0b86991c6218b36c1d19d4a2e9eb0ce3606eb48             NaN   \n2   0xc02aaa39b223fe8d0a0e5c4f27ead9083c756cc2             NaN   \n3   0xa0b86991c6218b36c1d19d4a2e9eb0ce3606eb48             NaN   \n..                                         ...             ...   \n0                                          NaN             500   \n0   0xc00e94cb662c3520282e6f5717214004a7f26888             647   \n1   0x4ddc2d193948926d02f9b1fe9e1daa0718270ed5             NaN   \n0                                          NaN             500   \n0                                          NaN           1,000   \n\n               transfer_from                                 transfer_to  \\\n0                        NaN                                         NaN   \n0   Balancer: Exchange Proxy                               Wrapped Ether   \n1                        NaN                                         NaN   \n2                        NaN                                         NaN   \n3                        NaN                                         NaN   \n..                       ...                                         ...   \n0             Compound: cETH  0x99fd1378ca799ed6772fe7bcdc9b30b389518962   \n0             Compound: cETH  0x99fd1378ca799ed6772fe7bcdc9b30b389518962   \n1                        NaN                                         NaN   \n0             Compound: cETH  0x99fd1378ca799ed6772fe7bcdc9b30b389518962   \n0             Compound: cETH  0x99fd1378ca799ed6772fe7bcdc9b30b389518962   \n\n    transfer_amount_prep  ETH_amount  \n0                    NaN         NaN  \n0                    0.1        -0.1  \n1                    NaN         NaN  \n2                    NaN         NaN  \n3                    NaN         NaN  \n..                   ...         ...  \n0                  500.0       500.0  \n0                  647.0       647.0  \n1                    NaN         NaN  \n0                  500.0       500.0  \n0                 1000.0      1000.0  \n\n[19519 rows x 11 columns]",
      "text/html": "<div>\n<style scoped>\n    .dataframe tbody tr th:only-of-type {\n        vertical-align: middle;\n    }\n\n    .dataframe tbody tr th {\n        vertical-align: top;\n    }\n\n    .dataframe thead th {\n        text-align: right;\n    }\n</style>\n<table border=\"1\" class=\"dataframe\">\n  <thead>\n    <tr style=\"text-align: right;\">\n      <th></th>\n      <th>Txhash</th>\n      <th>from</th>\n      <th>to</th>\n      <th>usd</th>\n      <th>amount</th>\n      <th>token_hash</th>\n      <th>transfer_amount</th>\n      <th>transfer_from</th>\n      <th>transfer_to</th>\n      <th>transfer_amount_prep</th>\n      <th>ETH_amount</th>\n    </tr>\n  </thead>\n  <tbody>\n    <tr>\n      <th>0</th>\n      <td>0x4c3b415bb98370a9ef572567a4e13b61759763c08192...</td>\n      <td>NaN</td>\n      <td>NaN</td>\n      <td>NaN</td>\n      <td>NaN</td>\n      <td>NaN</td>\n      <td>NaN</td>\n      <td>NaN</td>\n      <td>NaN</td>\n      <td>NaN</td>\n      <td>NaN</td>\n    </tr>\n    <tr>\n      <th>0</th>\n      <td>0xdf08f1b6048a3c151737d797c5a5da5892cff66dfdfd...</td>\n      <td>Balancer: Exchange Proxy</td>\n      <td>Balancer: ETH/USDC 50/50 #7</td>\n      <td>24.06</td>\n      <td>0.06177</td>\n      <td>0xc02aaa39b223fe8d0a0e5c4f27ead9083c756cc2</td>\n      <td>0.1</td>\n      <td>Balancer: Exchange Proxy</td>\n      <td>Wrapped Ether</td>\n      <td>0.1</td>\n      <td>-0.1</td>\n    </tr>\n    <tr>\n      <th>1</th>\n      <td>0xdf08f1b6048a3c151737d797c5a5da5892cff66dfdfd...</td>\n      <td>Balancer: ETH/USDC 50/50 #7</td>\n      <td>Balancer: Exchange Proxy</td>\n      <td>24.12</td>\n      <td>24.136325</td>\n      <td>0xa0b86991c6218b36c1d19d4a2e9eb0ce3606eb48</td>\n      <td>NaN</td>\n      <td>NaN</td>\n      <td>NaN</td>\n      <td>NaN</td>\n      <td>NaN</td>\n    </tr>\n    <tr>\n      <th>2</th>\n      <td>0xdf08f1b6048a3c151737d797c5a5da5892cff66dfdfd...</td>\n      <td>Balancer: Exchange Proxy</td>\n      <td>Balancer: PEAK/USDC/ETH 30/40/30 #2</td>\n      <td>8.9</td>\n      <td>0.022847</td>\n      <td>0xc02aaa39b223fe8d0a0e5c4f27ead9083c756cc2</td>\n      <td>NaN</td>\n      <td>NaN</td>\n      <td>NaN</td>\n      <td>NaN</td>\n      <td>NaN</td>\n    </tr>\n    <tr>\n      <th>3</th>\n      <td>0xdf08f1b6048a3c151737d797c5a5da5892cff66dfdfd...</td>\n      <td>Balancer: PEAK/USDC/ETH 30/40/30 #2</td>\n      <td>Balancer: Exchange Proxy</td>\n      <td>8.94</td>\n      <td>8.94618</td>\n      <td>0xa0b86991c6218b36c1d19d4a2e9eb0ce3606eb48</td>\n      <td>NaN</td>\n      <td>NaN</td>\n      <td>NaN</td>\n      <td>NaN</td>\n      <td>NaN</td>\n    </tr>\n    <tr>\n      <th>...</th>\n      <td>...</td>\n      <td>...</td>\n      <td>...</td>\n      <td>...</td>\n      <td>...</td>\n      <td>...</td>\n      <td>...</td>\n      <td>...</td>\n      <td>...</td>\n      <td>...</td>\n      <td>...</td>\n    </tr>\n    <tr>\n      <th>0</th>\n      <td>0xacdcf3b9346cd26b0eb80ee6d000bf463b9eee29ec7e...</td>\n      <td>NaN</td>\n      <td>NaN</td>\n      <td>NaN</td>\n      <td>NaN</td>\n      <td>NaN</td>\n      <td>500</td>\n      <td>Compound: cETH</td>\n      <td>0x99fd1378ca799ed6772fe7bcdc9b30b389518962</td>\n      <td>500.0</td>\n      <td>500.0</td>\n    </tr>\n    <tr>\n      <th>0</th>\n      <td>0x624b45fa83aa2506e5accac1f6708c702159b826ef08...</td>\n      <td>Compound: Comptroller</td>\n      <td>0x99fd1378ca799ed6772fe7bcdc9b30b389518962</td>\n      <td>10.53</td>\n      <td>0.079894</td>\n      <td>0xc00e94cb662c3520282e6f5717214004a7f26888</td>\n      <td>647</td>\n      <td>Compound: cETH</td>\n      <td>0x99fd1378ca799ed6772fe7bcdc9b30b389518962</td>\n      <td>647.0</td>\n      <td>647.0</td>\n    </tr>\n    <tr>\n      <th>1</th>\n      <td>0x624b45fa83aa2506e5accac1f6708c702159b826ef08...</td>\n      <td>0x99fd1378ca799ed6772fe7bcdc9b30b389518962</td>\n      <td>Compound: cETH Token</td>\n      <td>399162.61</td>\n      <td>32302.250466</td>\n      <td>0x4ddc2d193948926d02f9b1fe9e1daa0718270ed5</td>\n      <td>NaN</td>\n      <td>NaN</td>\n      <td>NaN</td>\n      <td>NaN</td>\n      <td>NaN</td>\n    </tr>\n    <tr>\n      <th>0</th>\n      <td>0xc3499213c05aff45629def03167afa1845fa67803c71...</td>\n      <td>NaN</td>\n      <td>NaN</td>\n      <td>NaN</td>\n      <td>NaN</td>\n      <td>NaN</td>\n      <td>500</td>\n      <td>Compound: cETH</td>\n      <td>0x99fd1378ca799ed6772fe7bcdc9b30b389518962</td>\n      <td>500.0</td>\n      <td>500.0</td>\n    </tr>\n    <tr>\n      <th>0</th>\n      <td>0xea9e347f26dd8698b6e90ac4009c6c1f9bbed26e6af1...</td>\n      <td>NaN</td>\n      <td>NaN</td>\n      <td>NaN</td>\n      <td>NaN</td>\n      <td>NaN</td>\n      <td>1,000</td>\n      <td>Compound: cETH</td>\n      <td>0x99fd1378ca799ed6772fe7bcdc9b30b389518962</td>\n      <td>1000.0</td>\n      <td>1000.0</td>\n    </tr>\n  </tbody>\n</table>\n<p>19519 rows × 11 columns</p>\n</div>"
     },
     "execution_count": 77,
     "metadata": {},
     "output_type": "execute_result"
    }
   ],
   "source": [
    "transactions_parsed_df"
   ],
   "metadata": {
    "collapsed": false,
    "pycharm": {
     "name": "#%%\n"
    }
   }
  },
  {
   "cell_type": "code",
   "execution_count": 59,
   "outputs": [],
   "source": [
    "transactions_parsed_df_new = pd.read_pickle(\"transactions_parsed_df_new\")\n",
    "transactions_parsed_df = pd.concat([transactions_parsed_df, transactions_parsed_df_new])\n",
    "transactions_parsed_df['transfer_amount_prep'] = transactions_parsed_df['transfer_amount'].apply(lambda x: x.replace(\",\", \"\") if type(x) == str else x)\n",
    "transactions_parsed_df['transfer_amount_prep'] = pd.to_numeric(transactions_parsed_df['transfer_amount_prep'], errors='coerce')\n",
    "transactions_parsed_df['ETH_amount'] = np.where(transactions_parsed_df['transfer_to'] == '0x99fd1378ca799ed6772fe7bcdc9b30b389518962',\n",
    "                                                transactions_parsed_df['transfer_amount_prep'],\n",
    "                                                -transactions_parsed_df['transfer_amount_prep'])"
   ],
   "metadata": {
    "collapsed": false,
    "pycharm": {
     "name": "#%%\n"
    }
   }
  },
  {
   "cell_type": "code",
   "execution_count": 63,
   "outputs": [
    {
     "data": {
      "text/plain": "                                                  Txhash  \\\n964    0x52b25346387d60c526de43ec5ce71574852cbe40bcb2...   \n965    0x2d50f9a2f00594c941af9271ba400f604964234cdf40...   \n966    0xc96f019a1bfb8d736a709bbfa63d5fe792c6b34434dc...   \n967    0xc96f019a1bfb8d736a709bbfa63d5fe792c6b34434dc...   \n968    0xc96f019a1bfb8d736a709bbfa63d5fe792c6b34434dc...   \n...                                                  ...   \n1143   0xc4def72e7ba1a323aa786c0240c65be59afbf269a25d...   \n19097  0x7d6eeb70890f0399b0fc771601c2e165753caaaf3e99...   \n19098  0x7d6eeb70890f0399b0fc771601c2e165753caaaf3e99...   \n19396  0xc1da604638595e6c1dcdc1ee221acd3d0f353557648a...   \n19397  0xc1da604638595e6c1dcdc1ee221acd3d0f353557648a...   \n\n                                             from  \\\n964                                           NaN   \n965                                           NaN   \n966    0x99fd1378ca799ed6772fe7bcdc9b30b389518962   \n967                          Uniswap V2: Router 2   \n968                       Null Address: 0x000…000   \n...                                           ...   \n1143   0x99fd1378ca799ed6772fe7bcdc9b30b389518962   \n19097                        Uniswap V2: Router 2   \n19098                           Uniswap V2: SUSHI   \n19396                        Uniswap V2: Router 2   \n19397                            Uniswap V2: USDC   \n\n                                               to         usd         amount  \\\n964                                           NaN         NaN            NaN   \n965                                           NaN         NaN            NaN   \n966                              Uniswap V2: USDC   308855.07  309274.356884   \n967                              Uniswap V2: USDC   286295.37     648.496251   \n968    0x99fd1378ca799ed6772fe7bcdc9b30b389518962  2386495.75       0.011705   \n...                                           ...         ...            ...   \n1143                 Kimchi Finance: Staking Pool  2429755.75       0.011919   \n19097                           Uniswap V2: SUSHI    18541.98           42.0   \n19098  0x99fd1378ca799ed6772fe7bcdc9b30b389518962    20680.47    2864.777247   \n19396                            Uniswap V2: USDC   286959.24          650.0   \n19397  0x99fd1378ca799ed6772fe7bcdc9b30b389518962   308997.68  309417.153296   \n\n                                       token_hash       transfer_amount  \\\n964                                           NaN  5.117744540135181807   \n965                                           NaN                   NaN   \n966    0xa0b86991c6218b36c1d19d4a2e9eb0ce3606eb48  8.496251403084912011   \n967    0xc02aaa39b223fe8d0a0e5c4f27ead9083c756cc2                   NaN   \n968    0xb4e16d0168e52d35cacd2c6185b44281ec28c9dc                   NaN   \n...                                           ...                   ...   \n1143   0xb4e16d0168e52d35cacd2c6185b44281ec28c9dc                   NaN   \n19097  0xc02aaa39b223fe8d0a0e5c4f27ead9083c756cc2                    42   \n19098  0x6b3595068778dd592e39a122f4f5a5cf09c90fe2                   NaN   \n19396  0xc02aaa39b223fe8d0a0e5c4f27ead9083c756cc2                   650   \n19397  0xa0b86991c6218b36c1d19d4a2e9eb0ce3606eb48                   NaN   \n\n              transfer_from                                 transfer_to  \\\n964           Wrapped Ether  0x99fd1378ca799ed6772fe7bcdc9b30b389518962   \n965                     NaN                                         NaN   \n966    Uniswap V2: Router 2                               Wrapped Ether   \n967                     NaN                                         NaN   \n968                     NaN                                         NaN   \n...                     ...                                         ...   \n1143                    NaN                                         NaN   \n19097  Uniswap V2: Router 2                               Wrapped Ether   \n19098                   NaN                                         NaN   \n19396  Uniswap V2: Router 2                               Wrapped Ether   \n19397                   NaN                                         NaN   \n\n       transfer_amount_prep  ETH_amount            DateTime    Quantity  \n964                5.117745    5.117745 2020-09-02 00:02:03   -0.000000  \n965                     NaN         NaN 2020-09-02 00:23:40   -0.000000  \n966                8.496251   -8.496251 2020-09-02 00:31:49 -648.496251  \n967                     NaN         NaN 2020-09-02 00:31:49 -648.496251  \n968                     NaN         NaN 2020-09-02 00:31:49 -648.496251  \n...                     ...         ...                 ...         ...  \n1143                    NaN         NaN 2020-09-02 18:07:41   -0.000000  \n19097             42.000000  -42.000000 2020-09-02 16:41:19  -42.000000  \n19098                   NaN         NaN 2020-09-02 16:41:19  -42.000000  \n19396            650.000000 -650.000000 2020-09-02 00:10:01 -650.000000  \n19397                   NaN         NaN 2020-09-02 00:10:01 -650.000000  \n\n[169 rows x 13 columns]",
      "text/html": "<div>\n<style scoped>\n    .dataframe tbody tr th:only-of-type {\n        vertical-align: middle;\n    }\n\n    .dataframe tbody tr th {\n        vertical-align: top;\n    }\n\n    .dataframe thead th {\n        text-align: right;\n    }\n</style>\n<table border=\"1\" class=\"dataframe\">\n  <thead>\n    <tr style=\"text-align: right;\">\n      <th></th>\n      <th>Txhash</th>\n      <th>from</th>\n      <th>to</th>\n      <th>usd</th>\n      <th>amount</th>\n      <th>token_hash</th>\n      <th>transfer_amount</th>\n      <th>transfer_from</th>\n      <th>transfer_to</th>\n      <th>transfer_amount_prep</th>\n      <th>ETH_amount</th>\n      <th>DateTime</th>\n      <th>Quantity</th>\n    </tr>\n  </thead>\n  <tbody>\n    <tr>\n      <th>964</th>\n      <td>0x52b25346387d60c526de43ec5ce71574852cbe40bcb2...</td>\n      <td>NaN</td>\n      <td>NaN</td>\n      <td>NaN</td>\n      <td>NaN</td>\n      <td>NaN</td>\n      <td>5.117744540135181807</td>\n      <td>Wrapped Ether</td>\n      <td>0x99fd1378ca799ed6772fe7bcdc9b30b389518962</td>\n      <td>5.117745</td>\n      <td>5.117745</td>\n      <td>2020-09-02 00:02:03</td>\n      <td>-0.000000</td>\n    </tr>\n    <tr>\n      <th>965</th>\n      <td>0x2d50f9a2f00594c941af9271ba400f604964234cdf40...</td>\n      <td>NaN</td>\n      <td>NaN</td>\n      <td>NaN</td>\n      <td>NaN</td>\n      <td>NaN</td>\n      <td>NaN</td>\n      <td>NaN</td>\n      <td>NaN</td>\n      <td>NaN</td>\n      <td>NaN</td>\n      <td>2020-09-02 00:23:40</td>\n      <td>-0.000000</td>\n    </tr>\n    <tr>\n      <th>966</th>\n      <td>0xc96f019a1bfb8d736a709bbfa63d5fe792c6b34434dc...</td>\n      <td>0x99fd1378ca799ed6772fe7bcdc9b30b389518962</td>\n      <td>Uniswap V2: USDC</td>\n      <td>308855.07</td>\n      <td>309274.356884</td>\n      <td>0xa0b86991c6218b36c1d19d4a2e9eb0ce3606eb48</td>\n      <td>8.496251403084912011</td>\n      <td>Uniswap V2: Router 2</td>\n      <td>Wrapped Ether</td>\n      <td>8.496251</td>\n      <td>-8.496251</td>\n      <td>2020-09-02 00:31:49</td>\n      <td>-648.496251</td>\n    </tr>\n    <tr>\n      <th>967</th>\n      <td>0xc96f019a1bfb8d736a709bbfa63d5fe792c6b34434dc...</td>\n      <td>Uniswap V2: Router 2</td>\n      <td>Uniswap V2: USDC</td>\n      <td>286295.37</td>\n      <td>648.496251</td>\n      <td>0xc02aaa39b223fe8d0a0e5c4f27ead9083c756cc2</td>\n      <td>NaN</td>\n      <td>NaN</td>\n      <td>NaN</td>\n      <td>NaN</td>\n      <td>NaN</td>\n      <td>2020-09-02 00:31:49</td>\n      <td>-648.496251</td>\n    </tr>\n    <tr>\n      <th>968</th>\n      <td>0xc96f019a1bfb8d736a709bbfa63d5fe792c6b34434dc...</td>\n      <td>Null Address: 0x000…000</td>\n      <td>0x99fd1378ca799ed6772fe7bcdc9b30b389518962</td>\n      <td>2386495.75</td>\n      <td>0.011705</td>\n      <td>0xb4e16d0168e52d35cacd2c6185b44281ec28c9dc</td>\n      <td>NaN</td>\n      <td>NaN</td>\n      <td>NaN</td>\n      <td>NaN</td>\n      <td>NaN</td>\n      <td>2020-09-02 00:31:49</td>\n      <td>-648.496251</td>\n    </tr>\n    <tr>\n      <th>...</th>\n      <td>...</td>\n      <td>...</td>\n      <td>...</td>\n      <td>...</td>\n      <td>...</td>\n      <td>...</td>\n      <td>...</td>\n      <td>...</td>\n      <td>...</td>\n      <td>...</td>\n      <td>...</td>\n      <td>...</td>\n      <td>...</td>\n    </tr>\n    <tr>\n      <th>1143</th>\n      <td>0xc4def72e7ba1a323aa786c0240c65be59afbf269a25d...</td>\n      <td>0x99fd1378ca799ed6772fe7bcdc9b30b389518962</td>\n      <td>Kimchi Finance: Staking Pool</td>\n      <td>2429755.75</td>\n      <td>0.011919</td>\n      <td>0xb4e16d0168e52d35cacd2c6185b44281ec28c9dc</td>\n      <td>NaN</td>\n      <td>NaN</td>\n      <td>NaN</td>\n      <td>NaN</td>\n      <td>NaN</td>\n      <td>2020-09-02 18:07:41</td>\n      <td>-0.000000</td>\n    </tr>\n    <tr>\n      <th>19097</th>\n      <td>0x7d6eeb70890f0399b0fc771601c2e165753caaaf3e99...</td>\n      <td>Uniswap V2: Router 2</td>\n      <td>Uniswap V2: SUSHI</td>\n      <td>18541.98</td>\n      <td>42.0</td>\n      <td>0xc02aaa39b223fe8d0a0e5c4f27ead9083c756cc2</td>\n      <td>42</td>\n      <td>Uniswap V2: Router 2</td>\n      <td>Wrapped Ether</td>\n      <td>42.000000</td>\n      <td>-42.000000</td>\n      <td>2020-09-02 16:41:19</td>\n      <td>-42.000000</td>\n    </tr>\n    <tr>\n      <th>19098</th>\n      <td>0x7d6eeb70890f0399b0fc771601c2e165753caaaf3e99...</td>\n      <td>Uniswap V2: SUSHI</td>\n      <td>0x99fd1378ca799ed6772fe7bcdc9b30b389518962</td>\n      <td>20680.47</td>\n      <td>2864.777247</td>\n      <td>0x6b3595068778dd592e39a122f4f5a5cf09c90fe2</td>\n      <td>NaN</td>\n      <td>NaN</td>\n      <td>NaN</td>\n      <td>NaN</td>\n      <td>NaN</td>\n      <td>2020-09-02 16:41:19</td>\n      <td>-42.000000</td>\n    </tr>\n    <tr>\n      <th>19396</th>\n      <td>0xc1da604638595e6c1dcdc1ee221acd3d0f353557648a...</td>\n      <td>Uniswap V2: Router 2</td>\n      <td>Uniswap V2: USDC</td>\n      <td>286959.24</td>\n      <td>650.0</td>\n      <td>0xc02aaa39b223fe8d0a0e5c4f27ead9083c756cc2</td>\n      <td>650</td>\n      <td>Uniswap V2: Router 2</td>\n      <td>Wrapped Ether</td>\n      <td>650.000000</td>\n      <td>-650.000000</td>\n      <td>2020-09-02 00:10:01</td>\n      <td>-650.000000</td>\n    </tr>\n    <tr>\n      <th>19397</th>\n      <td>0xc1da604638595e6c1dcdc1ee221acd3d0f353557648a...</td>\n      <td>Uniswap V2: USDC</td>\n      <td>0x99fd1378ca799ed6772fe7bcdc9b30b389518962</td>\n      <td>308997.68</td>\n      <td>309417.153296</td>\n      <td>0xa0b86991c6218b36c1d19d4a2e9eb0ce3606eb48</td>\n      <td>NaN</td>\n      <td>NaN</td>\n      <td>NaN</td>\n      <td>NaN</td>\n      <td>NaN</td>\n      <td>2020-09-02 00:10:01</td>\n      <td>-650.000000</td>\n    </tr>\n  </tbody>\n</table>\n<p>169 rows × 13 columns</p>\n</div>"
     },
     "execution_count": 63,
     "metadata": {},
     "output_type": "execute_result"
    }
   ],
   "source": [
    "delete = transactions_parsed_df.merge(transactions_df[['Txhash', 'DateTime', \"Quantity\"]], how='left', on='Txhash')\n",
    "delete.query(\"DateTime >= '2020-09-02' & DateTime < '2020-09-03'\")"
   ],
   "metadata": {
    "collapsed": false,
    "pycharm": {
     "name": "#%%\n"
    }
   }
  },
  {
   "cell_type": "code",
   "execution_count": 60,
   "outputs": [],
   "source": [
    "find_eth_deals_df = transactions_df[['Txhash', 'DateTime', \"Quantity\"]]\\\n",
    "    .merge(transactions_parsed_df\\\n",
    "            .query(\"transfer_to == '0x99fd1378ca799ed6772fe7bcdc9b30b389518962' | transfer_from == '0x99fd1378ca799ed6772fe7bcdc9b30b389518962'\")\n",
    "           .groupby(['Txhash'], as_index=False)['ETH_amount'].sum(),\n",
    "           on=['Txhash'], how='left')\\\n",
    "    .merge(transactions_df[['Txhash', 'TxnFee(ETH)']], on='Txhash', how=\"left\")\n",
    "find_eth_deals_df['ETH_final'] = np.where(find_eth_deals_df['Quantity'] != 0, find_eth_deals_df['Quantity'], find_eth_deals_df['ETH_amount'])\n",
    "find_eth_deals_df['ETH_net'] = find_eth_deals_df['ETH_final'] - find_eth_deals_df['TxnFee(ETH)']\n",
    "find_eth_deals_df['ETH_cumsum'] = find_eth_deals_df['ETH_net'].cumsum()"
   ],
   "metadata": {
    "collapsed": false,
    "pycharm": {
     "name": "#%%\n"
    }
   }
  },
  {
   "cell_type": "code",
   "execution_count": 62,
   "outputs": [
    {
     "data": {
      "text/plain": "                                                 Txhash            DateTime  \\\n0     0x4c3b415bb98370a9ef572567a4e13b61759763c08192... 2020-08-04 20:21:33   \n1     0xdf08f1b6048a3c151737d797c5a5da5892cff66dfdfd... 2020-08-04 20:26:40   \n2     0x88877e0aff3d534341cbb11d9fa19e5c807a164efd3f... 2020-08-05 18:14:02   \n3     0x63f876ae7c626619a740f26d135dc187f2c1dd24d42f... 2020-08-05 18:18:49   \n4     0x12c77d689b0a62785e4ab18999382e8ce24c2b927bad... 2020-08-05 19:01:33   \n...                                                 ...                 ...   \n7428  0x2e2926cccdc525856f0aa64e70917ffbec4a02f557f1... 2022-04-24 00:36:21   \n7429  0xbc81557cb35bb4eda725803c320eee011b06e92a05af... 2022-04-24 00:37:11   \n7430  0x167c46dd943aa9ff360ff99fbf2683fc6e78c377f472... 2022-04-24 00:38:04   \n7431  0x2394fdb6228d761f899156ebbc06554d0701c5952500... 2022-04-24 00:40:23   \n7432  0xb7e6d1118f9b99cf1575d55dcefbee3b013b72e732b2... 2022-04-24 12:20:07   \n\n         Quantity  ETH_amount  TxnFee(ETH)    ETH_final      ETH_net  \\\n0        1.000000         NaN     0.000882     1.000000     0.999118   \n1       -0.100000         NaN     0.014775    -0.100000    -0.114775   \n2        9.156451         NaN     0.001050     9.156451     9.155401   \n3       -0.000000         NaN     0.004291          NaN          NaN   \n4     2228.526819         NaN     0.000983  2228.526819  2228.525836   \n...           ...         ...          ...          ...          ...   \n7428    -0.000000         NaN     0.011870          NaN          NaN   \n7429    -0.000000    7.509397     0.013450     7.509397     7.495947   \n7430    -0.000000         NaN     0.007490          NaN          NaN   \n7431    -0.000000         NaN     0.012496          NaN          NaN   \n7432    45.894022         NaN     0.000553    45.894022    45.893469   \n\n         ETH_cumsum  \n0          0.999118  \n1          0.884343  \n2         10.039743  \n3               NaN  \n4       2238.565580  \n...             ...  \n7428            NaN  \n7429 -719819.760839  \n7430            NaN  \n7431            NaN  \n7432 -719773.867370  \n\n[7433 rows x 8 columns]",
      "text/html": "<div>\n<style scoped>\n    .dataframe tbody tr th:only-of-type {\n        vertical-align: middle;\n    }\n\n    .dataframe tbody tr th {\n        vertical-align: top;\n    }\n\n    .dataframe thead th {\n        text-align: right;\n    }\n</style>\n<table border=\"1\" class=\"dataframe\">\n  <thead>\n    <tr style=\"text-align: right;\">\n      <th></th>\n      <th>Txhash</th>\n      <th>DateTime</th>\n      <th>Quantity</th>\n      <th>ETH_amount</th>\n      <th>TxnFee(ETH)</th>\n      <th>ETH_final</th>\n      <th>ETH_net</th>\n      <th>ETH_cumsum</th>\n    </tr>\n  </thead>\n  <tbody>\n    <tr>\n      <th>0</th>\n      <td>0x4c3b415bb98370a9ef572567a4e13b61759763c08192...</td>\n      <td>2020-08-04 20:21:33</td>\n      <td>1.000000</td>\n      <td>NaN</td>\n      <td>0.000882</td>\n      <td>1.000000</td>\n      <td>0.999118</td>\n      <td>0.999118</td>\n    </tr>\n    <tr>\n      <th>1</th>\n      <td>0xdf08f1b6048a3c151737d797c5a5da5892cff66dfdfd...</td>\n      <td>2020-08-04 20:26:40</td>\n      <td>-0.100000</td>\n      <td>NaN</td>\n      <td>0.014775</td>\n      <td>-0.100000</td>\n      <td>-0.114775</td>\n      <td>0.884343</td>\n    </tr>\n    <tr>\n      <th>2</th>\n      <td>0x88877e0aff3d534341cbb11d9fa19e5c807a164efd3f...</td>\n      <td>2020-08-05 18:14:02</td>\n      <td>9.156451</td>\n      <td>NaN</td>\n      <td>0.001050</td>\n      <td>9.156451</td>\n      <td>9.155401</td>\n      <td>10.039743</td>\n    </tr>\n    <tr>\n      <th>3</th>\n      <td>0x63f876ae7c626619a740f26d135dc187f2c1dd24d42f...</td>\n      <td>2020-08-05 18:18:49</td>\n      <td>-0.000000</td>\n      <td>NaN</td>\n      <td>0.004291</td>\n      <td>NaN</td>\n      <td>NaN</td>\n      <td>NaN</td>\n    </tr>\n    <tr>\n      <th>4</th>\n      <td>0x12c77d689b0a62785e4ab18999382e8ce24c2b927bad...</td>\n      <td>2020-08-05 19:01:33</td>\n      <td>2228.526819</td>\n      <td>NaN</td>\n      <td>0.000983</td>\n      <td>2228.526819</td>\n      <td>2228.525836</td>\n      <td>2238.565580</td>\n    </tr>\n    <tr>\n      <th>...</th>\n      <td>...</td>\n      <td>...</td>\n      <td>...</td>\n      <td>...</td>\n      <td>...</td>\n      <td>...</td>\n      <td>...</td>\n      <td>...</td>\n    </tr>\n    <tr>\n      <th>7428</th>\n      <td>0x2e2926cccdc525856f0aa64e70917ffbec4a02f557f1...</td>\n      <td>2022-04-24 00:36:21</td>\n      <td>-0.000000</td>\n      <td>NaN</td>\n      <td>0.011870</td>\n      <td>NaN</td>\n      <td>NaN</td>\n      <td>NaN</td>\n    </tr>\n    <tr>\n      <th>7429</th>\n      <td>0xbc81557cb35bb4eda725803c320eee011b06e92a05af...</td>\n      <td>2022-04-24 00:37:11</td>\n      <td>-0.000000</td>\n      <td>7.509397</td>\n      <td>0.013450</td>\n      <td>7.509397</td>\n      <td>7.495947</td>\n      <td>-719819.760839</td>\n    </tr>\n    <tr>\n      <th>7430</th>\n      <td>0x167c46dd943aa9ff360ff99fbf2683fc6e78c377f472...</td>\n      <td>2022-04-24 00:38:04</td>\n      <td>-0.000000</td>\n      <td>NaN</td>\n      <td>0.007490</td>\n      <td>NaN</td>\n      <td>NaN</td>\n      <td>NaN</td>\n    </tr>\n    <tr>\n      <th>7431</th>\n      <td>0x2394fdb6228d761f899156ebbc06554d0701c5952500...</td>\n      <td>2022-04-24 00:40:23</td>\n      <td>-0.000000</td>\n      <td>NaN</td>\n      <td>0.012496</td>\n      <td>NaN</td>\n      <td>NaN</td>\n      <td>NaN</td>\n    </tr>\n    <tr>\n      <th>7432</th>\n      <td>0xb7e6d1118f9b99cf1575d55dcefbee3b013b72e732b2...</td>\n      <td>2022-04-24 12:20:07</td>\n      <td>45.894022</td>\n      <td>NaN</td>\n      <td>0.000553</td>\n      <td>45.894022</td>\n      <td>45.893469</td>\n      <td>-719773.867370</td>\n    </tr>\n  </tbody>\n</table>\n<p>7433 rows × 8 columns</p>\n</div>"
     },
     "execution_count": 62,
     "metadata": {},
     "output_type": "execute_result"
    }
   ],
   "source": [
    "find_eth_deals_df"
   ],
   "metadata": {
    "collapsed": false,
    "pycharm": {
     "name": "#%%\n"
    }
   }
  },
  {
   "cell_type": "code",
   "execution_count": 61,
   "outputs": [
    {
     "data": {
      "text/plain": "DateTime\n2020-08-04         0.884343\n2020-08-05         8.563874\n2020-08-06         8.563874\n2020-08-07         8.563874\n2020-08-08         9.031854\n                  ...      \n2022-04-20   -719715.167537\n2022-04-21   -719715.167537\n2022-04-22   -719715.167537\n2022-04-23   -719715.167537\n2022-04-24   -719773.867370\nFreq: D, Name: ETH_net, Length: 629, dtype: float64"
     },
     "execution_count": 61,
     "metadata": {},
     "output_type": "execute_result"
    }
   ],
   "source": [
    "find_eth_deals_df.set_index(\"DateTime\")['ETH_net'].resample(\"D\").sum().cumsum()"
   ],
   "metadata": {
    "collapsed": false,
    "pycharm": {
     "name": "#%%\n"
    }
   }
  },
  {
   "cell_type": "code",
   "execution_count": 41,
   "outputs": [
    {
     "data": {
      "text/plain": "                                                 Txhash            DateTime  \\\n0     0x4c3b415bb98370a9ef572567a4e13b61759763c08192... 2020-08-04 20:21:33   \n1     0xdf08f1b6048a3c151737d797c5a5da5892cff66dfdfd... 2020-08-04 20:26:40   \n2     0x88877e0aff3d534341cbb11d9fa19e5c807a164efd3f... 2020-08-05 18:14:02   \n3     0x63f876ae7c626619a740f26d135dc187f2c1dd24d42f... 2020-08-05 18:18:49   \n4     0x12c77d689b0a62785e4ab18999382e8ce24c2b927bad... 2020-08-05 19:01:33   \n...                                                 ...                 ...   \n7536  0x2e2926cccdc525856f0aa64e70917ffbec4a02f557f1... 2022-04-24 00:36:21   \n7537  0xbc81557cb35bb4eda725803c320eee011b06e92a05af... 2022-04-24 00:37:11   \n7538  0x167c46dd943aa9ff360ff99fbf2683fc6e78c377f472... 2022-04-24 00:38:04   \n7539  0x2394fdb6228d761f899156ebbc06554d0701c5952500... 2022-04-24 00:40:23   \n7540  0xb7e6d1118f9b99cf1575d55dcefbee3b013b72e732b2... 2022-04-24 12:20:07   \n\n         Quantity  ETH_amount  TxnFee(ETH)    ETH_final      ETH_net  \\\n0        1.000000         0.0     0.000882     1.000000     0.999118   \n1       -0.100000        -0.1     0.014775    -0.100000    -0.114775   \n2        9.156451         0.0     0.001050     9.156451     9.155401   \n3       -0.000000         0.0     0.004291     0.000000    -0.004291   \n4     2228.526819         0.0     0.000983  2228.526819  2228.525836   \n...           ...         ...          ...          ...          ...   \n7536    -0.000000         0.0     0.011870     0.000000    -0.011870   \n7537    -0.000000         0.0     0.013450     0.000000    -0.013450   \n7538    -0.000000         0.0     0.007490     0.000000    -0.007490   \n7539    -0.000000         0.0     0.012496     0.000000    -0.012496   \n7540    45.894022         0.0     0.000553    45.894022    45.893469   \n\n         ETH_cumsum  \n0          0.999118  \n1          0.884343  \n2         10.039743  \n3         10.035453  \n4       2238.561289  \n...             ...  \n7536 -731383.057506  \n7537 -731383.070956  \n7538 -731383.078446  \n7539 -731383.090942  \n7540 -731337.197473  \n\n[7541 rows x 8 columns]",
      "text/html": "<div>\n<style scoped>\n    .dataframe tbody tr th:only-of-type {\n        vertical-align: middle;\n    }\n\n    .dataframe tbody tr th {\n        vertical-align: top;\n    }\n\n    .dataframe thead th {\n        text-align: right;\n    }\n</style>\n<table border=\"1\" class=\"dataframe\">\n  <thead>\n    <tr style=\"text-align: right;\">\n      <th></th>\n      <th>Txhash</th>\n      <th>DateTime</th>\n      <th>Quantity</th>\n      <th>ETH_amount</th>\n      <th>TxnFee(ETH)</th>\n      <th>ETH_final</th>\n      <th>ETH_net</th>\n      <th>ETH_cumsum</th>\n    </tr>\n  </thead>\n  <tbody>\n    <tr>\n      <th>0</th>\n      <td>0x4c3b415bb98370a9ef572567a4e13b61759763c08192...</td>\n      <td>2020-08-04 20:21:33</td>\n      <td>1.000000</td>\n      <td>0.0</td>\n      <td>0.000882</td>\n      <td>1.000000</td>\n      <td>0.999118</td>\n      <td>0.999118</td>\n    </tr>\n    <tr>\n      <th>1</th>\n      <td>0xdf08f1b6048a3c151737d797c5a5da5892cff66dfdfd...</td>\n      <td>2020-08-04 20:26:40</td>\n      <td>-0.100000</td>\n      <td>-0.1</td>\n      <td>0.014775</td>\n      <td>-0.100000</td>\n      <td>-0.114775</td>\n      <td>0.884343</td>\n    </tr>\n    <tr>\n      <th>2</th>\n      <td>0x88877e0aff3d534341cbb11d9fa19e5c807a164efd3f...</td>\n      <td>2020-08-05 18:14:02</td>\n      <td>9.156451</td>\n      <td>0.0</td>\n      <td>0.001050</td>\n      <td>9.156451</td>\n      <td>9.155401</td>\n      <td>10.039743</td>\n    </tr>\n    <tr>\n      <th>3</th>\n      <td>0x63f876ae7c626619a740f26d135dc187f2c1dd24d42f...</td>\n      <td>2020-08-05 18:18:49</td>\n      <td>-0.000000</td>\n      <td>0.0</td>\n      <td>0.004291</td>\n      <td>0.000000</td>\n      <td>-0.004291</td>\n      <td>10.035453</td>\n    </tr>\n    <tr>\n      <th>4</th>\n      <td>0x12c77d689b0a62785e4ab18999382e8ce24c2b927bad...</td>\n      <td>2020-08-05 19:01:33</td>\n      <td>2228.526819</td>\n      <td>0.0</td>\n      <td>0.000983</td>\n      <td>2228.526819</td>\n      <td>2228.525836</td>\n      <td>2238.561289</td>\n    </tr>\n    <tr>\n      <th>...</th>\n      <td>...</td>\n      <td>...</td>\n      <td>...</td>\n      <td>...</td>\n      <td>...</td>\n      <td>...</td>\n      <td>...</td>\n      <td>...</td>\n    </tr>\n    <tr>\n      <th>7536</th>\n      <td>0x2e2926cccdc525856f0aa64e70917ffbec4a02f557f1...</td>\n      <td>2022-04-24 00:36:21</td>\n      <td>-0.000000</td>\n      <td>0.0</td>\n      <td>0.011870</td>\n      <td>0.000000</td>\n      <td>-0.011870</td>\n      <td>-731383.057506</td>\n    </tr>\n    <tr>\n      <th>7537</th>\n      <td>0xbc81557cb35bb4eda725803c320eee011b06e92a05af...</td>\n      <td>2022-04-24 00:37:11</td>\n      <td>-0.000000</td>\n      <td>0.0</td>\n      <td>0.013450</td>\n      <td>0.000000</td>\n      <td>-0.013450</td>\n      <td>-731383.070956</td>\n    </tr>\n    <tr>\n      <th>7538</th>\n      <td>0x167c46dd943aa9ff360ff99fbf2683fc6e78c377f472...</td>\n      <td>2022-04-24 00:38:04</td>\n      <td>-0.000000</td>\n      <td>0.0</td>\n      <td>0.007490</td>\n      <td>0.000000</td>\n      <td>-0.007490</td>\n      <td>-731383.078446</td>\n    </tr>\n    <tr>\n      <th>7539</th>\n      <td>0x2394fdb6228d761f899156ebbc06554d0701c5952500...</td>\n      <td>2022-04-24 00:40:23</td>\n      <td>-0.000000</td>\n      <td>0.0</td>\n      <td>0.012496</td>\n      <td>0.000000</td>\n      <td>-0.012496</td>\n      <td>-731383.090942</td>\n    </tr>\n    <tr>\n      <th>7540</th>\n      <td>0xb7e6d1118f9b99cf1575d55dcefbee3b013b72e732b2...</td>\n      <td>2022-04-24 12:20:07</td>\n      <td>45.894022</td>\n      <td>0.0</td>\n      <td>0.000553</td>\n      <td>45.894022</td>\n      <td>45.893469</td>\n      <td>-731337.197473</td>\n    </tr>\n  </tbody>\n</table>\n<p>7541 rows × 8 columns</p>\n</div>"
     },
     "execution_count": 41,
     "metadata": {},
     "output_type": "execute_result"
    }
   ],
   "source": [
    "find_eth_deals_df"
   ],
   "metadata": {
    "collapsed": false,
    "pycharm": {
     "name": "#%%\n"
    }
   }
  },
  {
   "cell_type": "code",
   "execution_count": 98,
   "outputs": [],
   "source": [
    "transactions_parsed_df = pd.read_pickle(\"transactions_parsed_df\")\n",
    "transactions_parsed_user_df = transactions_parsed_df[(transactions_parsed_df[\"from\"] == '0x99fd1378ca799ed6772fe7bcdc9b30b389518962') |\n",
    "                                                        (transactions_parsed_df['to'] == '0x99fd1378ca799ed6772fe7bcdc9b30b389518962')]\n",
    "transactions_parsed_user_df['amount_prep'] = transactions_parsed_user_df['amount'].apply(lambda x: x.replace(\",\", \"\") if type(x) == str else x)\n",
    "transactions_parsed_user_df['amount_prep'] = pd.to_numeric(transactions_parsed_user_df['amount_prep'], errors='coerce')"
   ],
   "metadata": {
    "collapsed": false,
    "pycharm": {
     "name": "#%%\n"
    }
   }
  },
  {
   "cell_type": "code",
   "execution_count": 109,
   "outputs": [
    {
     "data": {
      "text/plain": "                                              Txhash  \\\n0  0x1f0e87327d9ca8df226b4a098c4438fc406f3fc15167...   \n\n                                         from                    to      usd  \\\n0  0x99fd1378ca799ed6772fe7bcdc9b30b389518962  Uniswap V2: KIMCHI 2  2032.19   \n\n        amount                                  token_hash  \\\n0  1462.055355  0x1e18821e69b9faa8e6e75dffe54e7e25754beda0   \n\n        transfer_amount  transfer_from           transfer_to  amount_prep  \n0  7.350894404996841542  Wrapped Ether  Uniswap V2: Router 2  1462.055355  ",
      "text/html": "<div>\n<style scoped>\n    .dataframe tbody tr th:only-of-type {\n        vertical-align: middle;\n    }\n\n    .dataframe tbody tr th {\n        vertical-align: top;\n    }\n\n    .dataframe thead th {\n        text-align: right;\n    }\n</style>\n<table border=\"1\" class=\"dataframe\">\n  <thead>\n    <tr style=\"text-align: right;\">\n      <th></th>\n      <th>Txhash</th>\n      <th>from</th>\n      <th>to</th>\n      <th>usd</th>\n      <th>amount</th>\n      <th>token_hash</th>\n      <th>transfer_amount</th>\n      <th>transfer_from</th>\n      <th>transfer_to</th>\n      <th>amount_prep</th>\n    </tr>\n  </thead>\n  <tbody>\n    <tr>\n      <th>0</th>\n      <td>0x1f0e87327d9ca8df226b4a098c4438fc406f3fc15167...</td>\n      <td>0x99fd1378ca799ed6772fe7bcdc9b30b389518962</td>\n      <td>Uniswap V2: KIMCHI 2</td>\n      <td>2032.19</td>\n      <td>1462.055355</td>\n      <td>0x1e18821e69b9faa8e6e75dffe54e7e25754beda0</td>\n      <td>7.350894404996841542</td>\n      <td>Wrapped Ether</td>\n      <td>Uniswap V2: Router 2</td>\n      <td>1462.055355</td>\n    </tr>\n  </tbody>\n</table>\n</div>"
     },
     "execution_count": 109,
     "metadata": {},
     "output_type": "execute_result"
    }
   ],
   "source": [
    "transactions_parsed_user_df.query(\"Txhash == '0x1f0e87327d9ca8df226b4a098c4438fc406f3fc1516785cdc93339b81122d169'\")"
   ],
   "metadata": {
    "collapsed": false,
    "pycharm": {
     "name": "#%%\n"
    }
   }
  },
  {
   "cell_type": "code",
   "execution_count": 108,
   "outputs": [
    {
     "data": {
      "text/plain": "                                               Txhash  \\\n0   0x83ad137f056d6aceb989349e982f238ae0a84e62225c...   \n0   0x6b6456129efc6da90ff1ad25a372bc42c6e38381a1b9...   \n0   0xa510b919b4425ac57bb0df6efa780d1aad68cd3461dc...   \n0   0xc96f019a1bfb8d736a709bbfa63d5fe792c6b34434dc...   \n0   0x5b7ce6889a298f749f6a030c24d72f94607802a0db78...   \n..                                                ...   \n0   0x6f94a07c15a843c8c7da05b38ad55635e7f3a4dba1d1...   \n0   0x9de41530e6454db794232ae5bc8efce6164a7da99599...   \n0   0x7e7d08c1421b5adb5bd322738858f2c1e1c3920a11f1...   \n0   0x9064b75f900ee7bb958360f6e8b249d3b59a8fbc8ae8...   \n0   0xbc81557cb35bb4eda725803c320eee011b06e92a05af...   \n\n                                          from  \\\n0   0x99fd1378ca799ed6772fe7bcdc9b30b389518962   \n0   0x99fd1378ca799ed6772fe7bcdc9b30b389518962   \n0   0x99fd1378ca799ed6772fe7bcdc9b30b389518962   \n0   0x99fd1378ca799ed6772fe7bcdc9b30b389518962   \n0   0x99fd1378ca799ed6772fe7bcdc9b30b389518962   \n..                                         ...   \n0   0x99fd1378ca799ed6772fe7bcdc9b30b389518962   \n0   0x99fd1378ca799ed6772fe7bcdc9b30b389518962   \n0   0x99fd1378ca799ed6772fe7bcdc9b30b389518962   \n0   0x99fd1378ca799ed6772fe7bcdc9b30b389518962   \n0   0x99fd1378ca799ed6772fe7bcdc9b30b389518962   \n\n                                 to        usd         amount  \\\n0          Balancer: Exchange Proxy      185.1         847.41   \n0          Balancer: Exchange Proxy    2892.63         942.15   \n0          Balancer: Exchange Proxy     299.58          200.0   \n0                  Uniswap V2: USDC  308855.07  309274.356884   \n0              Uniswap V2: KIMCHI 2    1617.98    1164.051969   \n..                              ...        ...            ...   \n0   0x: Exchange Proxy Flash Wallet  153346.58    6707.532651   \n0   0x: Exchange Proxy Flash Wallet  127922.15   57777.048212   \n0   0x: Exchange Proxy Flash Wallet  177398.92    65939.22386   \n0   0x: Exchange Proxy Flash Wallet  168979.27    7391.322046   \n0   0x: Exchange Proxy Flash Wallet   50814.89     392.480346   \n\n                                    token_hash       transfer_amount  \\\n0   0x408e41876cccdc0f92210600ef50372656052a38  0.490367183219354705   \n0   0xd533a949740bb3306d119cc777fa900ba034cd52  6.497547074746942237   \n0   0x45f24baeef268bb6d63aee5129015d69702bcdfa  0.224910549619237661   \n0   0xa0b86991c6218b36c1d19d4a2e9eb0ce3606eb48  8.496251403084912011   \n0   0x1e18821e69b9faa8e6e75dffe54e7e25754beda0  5.869872362761801408   \n..                                         ...                   ...   \n0   0x4e3fbd56cd56c3e72c1403e103b45db9da5b9d2b  1.382664866456094883   \n0   0xd533a949740bb3306d119cc777fa900ba034cd52  2.506999006346713577   \n0   0xd533a949740bb3306d119cc777fa900ba034cd52  9.888795775759164741   \n0   0x4e3fbd56cd56c3e72c1403e103b45db9da5b9d2b  4.739058047800032071   \n0   0xc00e94cb662c3520282e6f5717214004a7f26888  7.509396918861012723   \n\n                                 transfer_from  \\\n0                                Wrapped Ether   \n0                                Wrapped Ether   \n0                                Wrapped Ether   \n0                         Uniswap V2: Router 2   \n0                         Uniswap V2: Router 2   \n..                                         ...   \n0   0xb576491f1e6e5e62f1d8f26062ee822b40b0e0d4   \n0   0x8301ae4fc9c624d1d396cbdaa1ed877821d7c511   \n0   0x8301ae4fc9c624d1d396cbdaa1ed877821d7c511   \n0   0xb576491f1e6e5e62f1d8f26062ee822b40b0e0d4   \n0                                Wrapped Ether   \n\n                        transfer_to    amount_prep  \n0          Balancer: Exchange Proxy     847.410000  \n0          Balancer: Exchange Proxy     942.150000  \n0          Balancer: Exchange Proxy     200.000000  \n0                     Wrapped Ether  309274.356884  \n0                     Wrapped Ether    1164.051969  \n..                              ...            ...  \n0   0x: Exchange Proxy Flash Wallet    6707.532651  \n0   0x: Exchange Proxy Flash Wallet   57777.048212  \n0   0x: Exchange Proxy Flash Wallet   65939.223860  \n0   0x: Exchange Proxy Flash Wallet    7391.322046  \n0   0x: Exchange Proxy Flash Wallet     392.480346  \n\n[445 rows x 10 columns]",
      "text/html": "<div>\n<style scoped>\n    .dataframe tbody tr th:only-of-type {\n        vertical-align: middle;\n    }\n\n    .dataframe tbody tr th {\n        vertical-align: top;\n    }\n\n    .dataframe thead th {\n        text-align: right;\n    }\n</style>\n<table border=\"1\" class=\"dataframe\">\n  <thead>\n    <tr style=\"text-align: right;\">\n      <th></th>\n      <th>Txhash</th>\n      <th>from</th>\n      <th>to</th>\n      <th>usd</th>\n      <th>amount</th>\n      <th>token_hash</th>\n      <th>transfer_amount</th>\n      <th>transfer_from</th>\n      <th>transfer_to</th>\n      <th>amount_prep</th>\n    </tr>\n  </thead>\n  <tbody>\n    <tr>\n      <th>0</th>\n      <td>0x83ad137f056d6aceb989349e982f238ae0a84e62225c...</td>\n      <td>0x99fd1378ca799ed6772fe7bcdc9b30b389518962</td>\n      <td>Balancer: Exchange Proxy</td>\n      <td>185.1</td>\n      <td>847.41</td>\n      <td>0x408e41876cccdc0f92210600ef50372656052a38</td>\n      <td>0.490367183219354705</td>\n      <td>Wrapped Ether</td>\n      <td>Balancer: Exchange Proxy</td>\n      <td>847.410000</td>\n    </tr>\n    <tr>\n      <th>0</th>\n      <td>0x6b6456129efc6da90ff1ad25a372bc42c6e38381a1b9...</td>\n      <td>0x99fd1378ca799ed6772fe7bcdc9b30b389518962</td>\n      <td>Balancer: Exchange Proxy</td>\n      <td>2892.63</td>\n      <td>942.15</td>\n      <td>0xd533a949740bb3306d119cc777fa900ba034cd52</td>\n      <td>6.497547074746942237</td>\n      <td>Wrapped Ether</td>\n      <td>Balancer: Exchange Proxy</td>\n      <td>942.150000</td>\n    </tr>\n    <tr>\n      <th>0</th>\n      <td>0xa510b919b4425ac57bb0df6efa780d1aad68cd3461dc...</td>\n      <td>0x99fd1378ca799ed6772fe7bcdc9b30b389518962</td>\n      <td>Balancer: Exchange Proxy</td>\n      <td>299.58</td>\n      <td>200.0</td>\n      <td>0x45f24baeef268bb6d63aee5129015d69702bcdfa</td>\n      <td>0.224910549619237661</td>\n      <td>Wrapped Ether</td>\n      <td>Balancer: Exchange Proxy</td>\n      <td>200.000000</td>\n    </tr>\n    <tr>\n      <th>0</th>\n      <td>0xc96f019a1bfb8d736a709bbfa63d5fe792c6b34434dc...</td>\n      <td>0x99fd1378ca799ed6772fe7bcdc9b30b389518962</td>\n      <td>Uniswap V2: USDC</td>\n      <td>308855.07</td>\n      <td>309274.356884</td>\n      <td>0xa0b86991c6218b36c1d19d4a2e9eb0ce3606eb48</td>\n      <td>8.496251403084912011</td>\n      <td>Uniswap V2: Router 2</td>\n      <td>Wrapped Ether</td>\n      <td>309274.356884</td>\n    </tr>\n    <tr>\n      <th>0</th>\n      <td>0x5b7ce6889a298f749f6a030c24d72f94607802a0db78...</td>\n      <td>0x99fd1378ca799ed6772fe7bcdc9b30b389518962</td>\n      <td>Uniswap V2: KIMCHI 2</td>\n      <td>1617.98</td>\n      <td>1164.051969</td>\n      <td>0x1e18821e69b9faa8e6e75dffe54e7e25754beda0</td>\n      <td>5.869872362761801408</td>\n      <td>Uniswap V2: Router 2</td>\n      <td>Wrapped Ether</td>\n      <td>1164.051969</td>\n    </tr>\n    <tr>\n      <th>...</th>\n      <td>...</td>\n      <td>...</td>\n      <td>...</td>\n      <td>...</td>\n      <td>...</td>\n      <td>...</td>\n      <td>...</td>\n      <td>...</td>\n      <td>...</td>\n      <td>...</td>\n    </tr>\n    <tr>\n      <th>0</th>\n      <td>0x6f94a07c15a843c8c7da05b38ad55635e7f3a4dba1d1...</td>\n      <td>0x99fd1378ca799ed6772fe7bcdc9b30b389518962</td>\n      <td>0x: Exchange Proxy Flash Wallet</td>\n      <td>153346.58</td>\n      <td>6707.532651</td>\n      <td>0x4e3fbd56cd56c3e72c1403e103b45db9da5b9d2b</td>\n      <td>1.382664866456094883</td>\n      <td>0xb576491f1e6e5e62f1d8f26062ee822b40b0e0d4</td>\n      <td>0x: Exchange Proxy Flash Wallet</td>\n      <td>6707.532651</td>\n    </tr>\n    <tr>\n      <th>0</th>\n      <td>0x9de41530e6454db794232ae5bc8efce6164a7da99599...</td>\n      <td>0x99fd1378ca799ed6772fe7bcdc9b30b389518962</td>\n      <td>0x: Exchange Proxy Flash Wallet</td>\n      <td>127922.15</td>\n      <td>57777.048212</td>\n      <td>0xd533a949740bb3306d119cc777fa900ba034cd52</td>\n      <td>2.506999006346713577</td>\n      <td>0x8301ae4fc9c624d1d396cbdaa1ed877821d7c511</td>\n      <td>0x: Exchange Proxy Flash Wallet</td>\n      <td>57777.048212</td>\n    </tr>\n    <tr>\n      <th>0</th>\n      <td>0x7e7d08c1421b5adb5bd322738858f2c1e1c3920a11f1...</td>\n      <td>0x99fd1378ca799ed6772fe7bcdc9b30b389518962</td>\n      <td>0x: Exchange Proxy Flash Wallet</td>\n      <td>177398.92</td>\n      <td>65939.22386</td>\n      <td>0xd533a949740bb3306d119cc777fa900ba034cd52</td>\n      <td>9.888795775759164741</td>\n      <td>0x8301ae4fc9c624d1d396cbdaa1ed877821d7c511</td>\n      <td>0x: Exchange Proxy Flash Wallet</td>\n      <td>65939.223860</td>\n    </tr>\n    <tr>\n      <th>0</th>\n      <td>0x9064b75f900ee7bb958360f6e8b249d3b59a8fbc8ae8...</td>\n      <td>0x99fd1378ca799ed6772fe7bcdc9b30b389518962</td>\n      <td>0x: Exchange Proxy Flash Wallet</td>\n      <td>168979.27</td>\n      <td>7391.322046</td>\n      <td>0x4e3fbd56cd56c3e72c1403e103b45db9da5b9d2b</td>\n      <td>4.739058047800032071</td>\n      <td>0xb576491f1e6e5e62f1d8f26062ee822b40b0e0d4</td>\n      <td>0x: Exchange Proxy Flash Wallet</td>\n      <td>7391.322046</td>\n    </tr>\n    <tr>\n      <th>0</th>\n      <td>0xbc81557cb35bb4eda725803c320eee011b06e92a05af...</td>\n      <td>0x99fd1378ca799ed6772fe7bcdc9b30b389518962</td>\n      <td>0x: Exchange Proxy Flash Wallet</td>\n      <td>50814.89</td>\n      <td>392.480346</td>\n      <td>0xc00e94cb662c3520282e6f5717214004a7f26888</td>\n      <td>7.509396918861012723</td>\n      <td>Wrapped Ether</td>\n      <td>0x: Exchange Proxy Flash Wallet</td>\n      <td>392.480346</td>\n    </tr>\n  </tbody>\n</table>\n<p>445 rows × 10 columns</p>\n</div>"
     },
     "execution_count": 108,
     "metadata": {},
     "output_type": "execute_result"
    }
   ],
   "source": [
    "transactions_parsed_user_df.dropna(subset=['transfer_to'])"
   ],
   "metadata": {
    "collapsed": false,
    "pycharm": {
     "name": "#%%\n"
    }
   }
  },
  {
   "cell_type": "markdown",
   "source": [
    "## Parsing token hash"
   ],
   "metadata": {
    "collapsed": false,
    "pycharm": {
     "name": "#%% md\n"
    }
   }
  },
  {
   "cell_type": "code",
   "execution_count": 67,
   "outputs": [
    {
     "name": "stderr",
     "output_type": "stream",
     "text": [
      "100%|██████████| 241/241 [05:56<00:00,  1.48s/it]\n"
     ]
    }
   ],
   "source": [
    "all_token_hash = [i for i in set(all_tokens_user_df['token_hash'].unique()) if type(i) == str and len(i) == 42]\n",
    "def parsing_tokens(token_hash):\n",
    "    token_dict = {}\n",
    "    token_dict['token_hash'] = token_hash\n",
    "    req = requests.get(f\"https://etherscan.io/token/{token_hash}\",\n",
    "                   headers={\"User-Agent\": generate_user_agent()})\n",
    "    content = req.content\n",
    "    soup = BeautifulSoup(content)\n",
    "    try:\n",
    "        token_dict['token_short_name'] = soup.find(\"span\", class_='text-secondary small').text\n",
    "    except Exception as e:\n",
    "        token_dict['token_short_name'] = e\n",
    "    try:\n",
    "        token_dict['token_long_name'] = soup.find(\"a\", class_='mb-1 mb-sm-0 u-label u-label--xs u-label--info').text\n",
    "    except Exception as e:\n",
    "        token_dict['token_long_name'] = e\n",
    "    return token_dict\n",
    "\n",
    "token_names_df = []\n",
    "for token in tqdm(all_token_hash):\n",
    "    time.sleep(random.uniform(0, 2))\n",
    "    try:\n",
    "        token_names_df.append(\n",
    "                pd.DataFrame.from_dict(parsing_tokens(token), orient='index').T)\n",
    "    except Exception as e:\n",
    "        token_names_df.append(pd.DataFrame(data=[token], columns=['Txhash']))\n",
    "token_names_df = pd.concat(token_names_df)\n",
    "token_names_df.to_pickle(\"token_hash_name\")\n",
    "\n",
    "# Add token name\n",
    "all_tokens_df_2 = all_tokens_df_2.merge(token_names_df[['token_hash', 'token_short_name']], how='left', on='token_hash')"
   ],
   "metadata": {
    "collapsed": false,
    "pycharm": {
     "name": "#%%\n"
    }
   }
  },
  {
   "cell_type": "markdown",
   "source": [],
   "metadata": {
    "collapsed": false,
    "pycharm": {
     "name": "#%% md\n"
    }
   }
  }
 ],
 "metadata": {
  "kernelspec": {
   "display_name": "Python 3",
   "language": "python",
   "name": "python3"
  },
  "language_info": {
   "codemirror_mode": {
    "name": "ipython",
    "version": 2
   },
   "file_extension": ".py",
   "mimetype": "text/x-python",
   "name": "python",
   "nbconvert_exporter": "python",
   "pygments_lexer": "ipython2",
   "version": "2.7.6"
  }
 },
 "nbformat": 4,
 "nbformat_minor": 0
}